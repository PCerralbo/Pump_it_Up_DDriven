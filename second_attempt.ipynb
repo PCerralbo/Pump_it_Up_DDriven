{
 "cells": [
  {
   "cell_type": "markdown",
   "metadata": {
    "cell_style": "split",
    "toc": true
   },
   "source": [
    "<h1>Table of Contents<span class=\"tocSkip\"></span></h1>\n",
    "<div class=\"toc\"><ul class=\"toc-item\"><li><span><a href=\"#Pump-it-Up:-Data-Mining-the-Water-Table\" data-toc-modified-id=\"Pump-it-Up:-Data-Mining-the-Water-Table-1\"><span class=\"toc-item-num\">1&nbsp;&nbsp;</span>Pump it Up: Data Mining the Water Table</a></span></li><li><span><a href=\"#Explore-the-target\" data-toc-modified-id=\"Explore-the-target-2\"><span class=\"toc-item-num\">2&nbsp;&nbsp;</span>Explore the target</a></span></li><li><span><a href=\"#Explore-trainig-dataset-(General-aproximation)\" data-toc-modified-id=\"Explore-trainig-dataset-(General-aproximation)-3\"><span class=\"toc-item-num\">3&nbsp;&nbsp;</span>Explore trainig dataset (General aproximation)</a></span></li><li><span><a href=\"#Feature-analysis-(one-by-one)\" data-toc-modified-id=\"Feature-analysis-(one-by-one)-4\"><span class=\"toc-item-num\">4&nbsp;&nbsp;</span>Feature analysis (one by one)</a></span><ul class=\"toc-item\"><li><span><a href=\"#Features-susceptible-to-be-eliminated\" data-toc-modified-id=\"Features-susceptible-to-be-eliminated-4.1\"><span class=\"toc-item-num\">4.1&nbsp;&nbsp;</span>Features susceptible to be eliminated</a></span></li><li><span><a href=\"#Numerical-data\" data-toc-modified-id=\"Numerical-data-4.2\"><span class=\"toc-item-num\">4.2&nbsp;&nbsp;</span>Numerical data</a></span><ul class=\"toc-item\"><li><span><a href=\"#Recorded-dates\" data-toc-modified-id=\"Recorded-dates-4.2.1\"><span class=\"toc-item-num\">4.2.1&nbsp;&nbsp;</span>Recorded dates</a></span></li><li><span><a href=\"#Amount-of-water\" data-toc-modified-id=\"Amount-of-water-4.2.2\"><span class=\"toc-item-num\">4.2.2&nbsp;&nbsp;</span>Amount of water</a></span></li><li><span><a href=\"#Gps_height\" data-toc-modified-id=\"Gps_height-4.2.3\"><span class=\"toc-item-num\">4.2.3&nbsp;&nbsp;</span>Gps_height</a></span></li><li><span><a href=\"#num_private\" data-toc-modified-id=\"num_private-4.2.4\"><span class=\"toc-item-num\">4.2.4&nbsp;&nbsp;</span>num_private</a></span></li><li><span><a href=\"#Population\" data-toc-modified-id=\"Population-4.2.5\"><span class=\"toc-item-num\">4.2.5&nbsp;&nbsp;</span>Population</a></span></li><li><span><a href=\"#construction_year\" data-toc-modified-id=\"construction_year-4.2.6\"><span class=\"toc-item-num\">4.2.6&nbsp;&nbsp;</span>construction_year</a></span></li></ul></li><li><span><a href=\"#Categorical-features\" data-toc-modified-id=\"Categorical-features-4.3\"><span class=\"toc-item-num\">4.3&nbsp;&nbsp;</span>Categorical features</a></span></li></ul></li><li><span><a href=\"#Preprocessing\" data-toc-modified-id=\"Preprocessing-5\"><span class=\"toc-item-num\">5&nbsp;&nbsp;</span>Preprocessing</a></span><ul class=\"toc-item\"><li><span><a href=\"#Missing-NaNs\" data-toc-modified-id=\"Missing-NaNs-5.1\"><span class=\"toc-item-num\">5.1&nbsp;&nbsp;</span>Missing NaNs</a></span><ul class=\"toc-item\"><li><span><a href=\"#public_meeting\" data-toc-modified-id=\"public_meeting-5.1.1\"><span class=\"toc-item-num\">5.1.1&nbsp;&nbsp;</span>public_meeting</a></span></li><li><span><a href=\"#scheme_management\" data-toc-modified-id=\"scheme_management-5.1.2\"><span class=\"toc-item-num\">5.1.2&nbsp;&nbsp;</span>scheme_management</a></span></li><li><span><a href=\"#permit\" data-toc-modified-id=\"permit-5.1.3\"><span class=\"toc-item-num\">5.1.3&nbsp;&nbsp;</span>permit</a></span></li></ul></li><li><span><a href=\"#Get-Dummies\" data-toc-modified-id=\"Get-Dummies-5.2\"><span class=\"toc-item-num\">5.2&nbsp;&nbsp;</span>Get Dummies</a></span></li><li><span><a href=\"#Standarization--->-region_code-and-district_code-are-categorical!!!-no-numeircal!\" data-toc-modified-id=\"Standarization--->-region_code-and-district_code-are-categorical!!!-no-numeircal!-5.3\"><span class=\"toc-item-num\">5.3&nbsp;&nbsp;</span>Standarization --&gt; region_code and district_code are categorical!!! no numeircal!</a></span></li></ul></li><li><span><a href=\"#MODELS\" data-toc-modified-id=\"MODELS-6\"><span class=\"toc-item-num\">6&nbsp;&nbsp;</span>MODELS</a></span></li><li><span><a href=\"#Time-for-the-model....\" data-toc-modified-id=\"Time-for-the-model....-7\"><span class=\"toc-item-num\">7&nbsp;&nbsp;</span>Time for the model....</a></span></li></ul></div>"
   ]
  },
  {
   "cell_type": "markdown",
   "metadata": {
    "cell_style": "split"
   },
   "source": [
    "<font color='blue'> **Second attempt** </font>\n",
    "<font color='blue'> score in drivendata: **0.7957**  \n",
    "submission using XGBclassifier with accuracy (10 k-fold):  0.7968 using RandomForest to perform feature selection.  \n",
    "The accuracy in the train set is very similar too the accuracy in the drivendata submision\n",
    "</font>\n",
    "\n"
   ]
  },
  {
   "cell_type": "markdown",
   "metadata": {},
   "source": [
    "# Pump it Up: Data Mining the Water Table\n",
    "\n",
    "The goal is to predict the operating condition of a waterpoint for each record in the dataset. You are provided the following set of information about the waterpoints:\n",
    "\n",
    "- amount_tsh - Total static head (amount water available to waterpoint)\n",
    "- date_recorded - The date the row was entered\n",
    "- funder - Who funded the well\n",
    "- gps_height - Altitude of the well\n",
    "- installer - Organization that installed the well\n",
    "- longitude - GPS coordinate\n",
    "- latitude - GPS coordinate\n",
    "- wpt_name - Name of the waterpoint if there is one\n",
    "- num_private -\n",
    "- basin - Geographic water basin\n",
    "- subvillage - Geographic location\n",
    "- region - Geographic location\n",
    "- region_code - Geographic location (coded)\n",
    "- district_code - Geographic location (coded)\n",
    "- lga - Geographic location\n",
    "- ward - Geographic location\n",
    "- population - Population around the well\n",
    "- public_meeting - True/False\n",
    "- recorded_by - Group entering this row of data\n",
    "- scheme_management - Who operates the waterpoint\n",
    "- scheme_name - Who operates the waterpoint\n",
    "- permit - If the waterpoint is permitted\n",
    "- construction_year - Year the waterpoint was constructed\n",
    "- extraction_type - The kind of extraction the waterpoint uses\n",
    "- extraction_type_group - The kind of extraction the waterpoint uses\n",
    "- extraction_type_class - The kind of extraction the waterpoint uses\n",
    "- management - How the waterpoint is managed\n",
    "- management_group - How the waterpoint is managed\n",
    "- payment - What the water costs\n",
    "- payment_type - What the water costs\n",
    "- water_quality - The quality of the water\n",
    "- quality_group - The quality of the water\n",
    "- quantity - The quantity of water\n",
    "- quantity_group - The quantity of water\n",
    "- source - The source of the water\n",
    "- source_type - The source of the water\n",
    "- source_class - The source of the water\n",
    "- waterpoint_type - The kind of waterpoint\n",
    "- waterpoint_type_group - The kind of waterpoint"
   ]
  },
  {
   "cell_type": "markdown",
   "metadata": {
    "cell_style": "split"
   },
   "source": [
    "<img src=\"images/images_water2.jpg\">"
   ]
  },
  {
   "cell_type": "markdown",
   "metadata": {
    "cell_style": "split"
   },
   "source": [
    "**Some ideas before start**\n",
    "1. This is a classification problem. We can try models like:\n",
    " - logisticregression (classification)\n",
    " - SVM (linear, rbf, ..)\n",
    " - random forests\n",
    " - XGB model\n",
    " - NN (Deep learning)\n",
    "2. First model to apply: logistic. Then we can try with SVC in order to better discrminitae if the problem is linear or non-linear.\n",
    "3. EDA: \n",
    " - categorical versus numeric features\n",
    " - missing data\n",
    " - feature engineering\n",
    " - min-max, log transformation, ..."
   ]
  },
  {
   "cell_type": "code",
   "execution_count": 1,
   "metadata": {},
   "outputs": [],
   "source": [
    "import pandas as pd\n",
    "import numpy as np\n",
    "import matplotlib.pyplot as plt\n",
    "\n",
    "import seaborn as sns\n",
    "\n",
    "from sklearn.preprocessing import PowerTransformer\n",
    "from sklearn.preprocessing import MinMaxScaler\n",
    "\n",
    "import warnings\n",
    "warnings.filterwarnings('ignore')"
   ]
  },
  {
   "cell_type": "markdown",
   "metadata": {},
   "source": [
    "we use a flagg in order to activate or not the execution of some plots and model fitting (some of them are computationally expensive)"
   ]
  },
  {
   "cell_type": "code",
   "execution_count": 2,
   "metadata": {},
   "outputs": [],
   "source": [
    "plots_show=0\n",
    "all_models=0"
   ]
  },
  {
   "cell_type": "markdown",
   "metadata": {
    "cell_style": "split"
   },
   "source": [
    "# Explore the target\n",
    "The labels in this dataset are simple. There are three possible values:\n",
    "\n",
    "- `functional` - the waterpoint is operational and there are no repairs needed\n",
    "- `functional needs repair` - the waterpoint is operational, but needs repairs\n",
    "- `non functional` - the waterpoint is not operational"
   ]
  },
  {
   "cell_type": "code",
   "execution_count": 3,
   "metadata": {
    "cell_style": "split"
   },
   "outputs": [
    {
     "data": {
      "image/png": "[encoded data removed]",
      "text/plain": [
       "<Figure size 432x288 with 1 Axes>"
      ]
     },
     "metadata": {
      "needs_background": "light"
     },
     "output_type": "display_data"
    }
   ],
   "source": [
    "df_train = pd.read_csv('files/train.csv')\n",
    "df_test = pd.read_csv('files/test.csv')\n",
    "target= pd.read_csv('files/labels.csv')\n",
    "\n",
    "# CONCAT THE TWO DATAFRAMES\n",
    "df_train = pd.concat([df_train,target],axis=1)\n",
    "\n",
    "# SOME PLOT TO SEE THE DATA DISTRIBUTION\n",
    "sns.countplot(data=df_train, x = 'status_group')\n",
    "plt.show()"
   ]
  },
  {
   "cell_type": "markdown",
   "metadata": {
    "cell_style": "center"
   },
   "source": [
    "This is interesting and logical, the labels are unballanced. There are more functional pumps rather than non-functional, and only a small percentage of functional needing repair. We should consider this when applying the model. "
   ]
  },
  {
   "cell_type": "markdown",
   "metadata": {},
   "source": [
    "# Explore trainig dataset (General aproximation) "
   ]
  },
  {
   "cell_type": "code",
   "execution_count": 4,
   "metadata": {
    "cell_style": "split"
   },
   "outputs": [
    {
     "data": {
      "text/html": [
       "<div>\n",
       "<style scoped>\n",
       "    .dataframe tbody tr th:only-of-type {\n",
       "        vertical-align: middle;\n",
       "    }\n",
       "\n",
       "    .dataframe tbody tr th {\n",
       "        vertical-align: top;\n",
       "    }\n",
       "\n",
       "    .dataframe thead th {\n",
       "        text-align: right;\n",
       "    }\n",
       "</style>\n",
       "<table border=\"1\" class=\"dataframe\">\n",
       "  <thead>\n",
       "    <tr style=\"text-align: right;\">\n",
       "      <th></th>\n",
       "      <th>count</th>\n",
       "      <th>mean</th>\n",
       "      <th>std</th>\n",
       "      <th>min</th>\n",
       "      <th>25%</th>\n",
       "      <th>50%</th>\n",
       "      <th>75%</th>\n",
       "      <th>max</th>\n",
       "    </tr>\n",
       "  </thead>\n",
       "  <tbody>\n",
       "    <tr>\n",
       "      <th>amount_tsh</th>\n",
       "      <td>59400.0</td>\n",
       "      <td>317.650385</td>\n",
       "      <td>2997.574558</td>\n",
       "      <td>0.00000</td>\n",
       "      <td>0.000000</td>\n",
       "      <td>0.000000</td>\n",
       "      <td>20.000000</td>\n",
       "      <td>3.500000e+05</td>\n",
       "    </tr>\n",
       "    <tr>\n",
       "      <th>gps_height</th>\n",
       "      <td>59400.0</td>\n",
       "      <td>668.297239</td>\n",
       "      <td>693.116350</td>\n",
       "      <td>-90.00000</td>\n",
       "      <td>0.000000</td>\n",
       "      <td>369.000000</td>\n",
       "      <td>1319.250000</td>\n",
       "      <td>2.770000e+03</td>\n",
       "    </tr>\n",
       "    <tr>\n",
       "      <th>longitude</th>\n",
       "      <td>59400.0</td>\n",
       "      <td>34.077427</td>\n",
       "      <td>6.567432</td>\n",
       "      <td>0.00000</td>\n",
       "      <td>33.090347</td>\n",
       "      <td>34.908743</td>\n",
       "      <td>37.178387</td>\n",
       "      <td>4.034519e+01</td>\n",
       "    </tr>\n",
       "    <tr>\n",
       "      <th>latitude</th>\n",
       "      <td>59400.0</td>\n",
       "      <td>-5.706033</td>\n",
       "      <td>2.946019</td>\n",
       "      <td>-11.64944</td>\n",
       "      <td>-8.540621</td>\n",
       "      <td>-5.021597</td>\n",
       "      <td>-3.326156</td>\n",
       "      <td>-2.000000e-08</td>\n",
       "    </tr>\n",
       "    <tr>\n",
       "      <th>num_private</th>\n",
       "      <td>59400.0</td>\n",
       "      <td>0.474141</td>\n",
       "      <td>12.236230</td>\n",
       "      <td>0.00000</td>\n",
       "      <td>0.000000</td>\n",
       "      <td>0.000000</td>\n",
       "      <td>0.000000</td>\n",
       "      <td>1.776000e+03</td>\n",
       "    </tr>\n",
       "    <tr>\n",
       "      <th>region_code</th>\n",
       "      <td>59400.0</td>\n",
       "      <td>15.297003</td>\n",
       "      <td>17.587406</td>\n",
       "      <td>1.00000</td>\n",
       "      <td>5.000000</td>\n",
       "      <td>12.000000</td>\n",
       "      <td>17.000000</td>\n",
       "      <td>9.900000e+01</td>\n",
       "    </tr>\n",
       "    <tr>\n",
       "      <th>district_code</th>\n",
       "      <td>59400.0</td>\n",
       "      <td>5.629747</td>\n",
       "      <td>9.633649</td>\n",
       "      <td>0.00000</td>\n",
       "      <td>2.000000</td>\n",
       "      <td>3.000000</td>\n",
       "      <td>5.000000</td>\n",
       "      <td>8.000000e+01</td>\n",
       "    </tr>\n",
       "    <tr>\n",
       "      <th>population</th>\n",
       "      <td>59400.0</td>\n",
       "      <td>179.909983</td>\n",
       "      <td>471.482176</td>\n",
       "      <td>0.00000</td>\n",
       "      <td>0.000000</td>\n",
       "      <td>25.000000</td>\n",
       "      <td>215.000000</td>\n",
       "      <td>3.050000e+04</td>\n",
       "    </tr>\n",
       "    <tr>\n",
       "      <th>construction_year</th>\n",
       "      <td>59400.0</td>\n",
       "      <td>1300.652475</td>\n",
       "      <td>951.620547</td>\n",
       "      <td>0.00000</td>\n",
       "      <td>0.000000</td>\n",
       "      <td>1986.000000</td>\n",
       "      <td>2004.000000</td>\n",
       "      <td>2.013000e+03</td>\n",
       "    </tr>\n",
       "  </tbody>\n",
       "</table>\n",
       "</div>"
      ],
      "text/plain": [
       "                     count         mean          std       min        25%  \\\n",
       "amount_tsh         59400.0   317.650385  2997.574558   0.00000   0.000000   \n",
       "gps_height         59400.0   668.297239   693.116350 -90.00000   0.000000   \n",
       "longitude          59400.0    34.077427     6.567432   0.00000  33.090347   \n",
       "latitude           59400.0    -5.706033     2.946019 -11.64944  -8.540621   \n",
       "num_private        59400.0     0.474141    12.236230   0.00000   0.000000   \n",
       "region_code        59400.0    15.297003    17.587406   1.00000   5.000000   \n",
       "district_code      59400.0     5.629747     9.633649   0.00000   2.000000   \n",
       "population         59400.0   179.909983   471.482176   0.00000   0.000000   \n",
       "construction_year  59400.0  1300.652475   951.620547   0.00000   0.000000   \n",
       "\n",
       "                           50%          75%           max  \n",
       "amount_tsh            0.000000    20.000000  3.500000e+05  \n",
       "gps_height          369.000000  1319.250000  2.770000e+03  \n",
       "longitude            34.908743    37.178387  4.034519e+01  \n",
       "latitude             -5.021597    -3.326156 -2.000000e-08  \n",
       "num_private           0.000000     0.000000  1.776000e+03  \n",
       "region_code          12.000000    17.000000  9.900000e+01  \n",
       "district_code         3.000000     5.000000  8.000000e+01  \n",
       "population           25.000000   215.000000  3.050000e+04  \n",
       "construction_year  1986.000000  2004.000000  2.013000e+03  "
      ]
     },
     "execution_count": 4,
     "metadata": {},
     "output_type": "execute_result"
    }
   ],
   "source": [
    "df_train.columns\n",
    "df_train.drop(columns=['id'],inplace=True)\n",
    "df_test.drop(columns=['id'],inplace=True)\n",
    "\n",
    "df_train.describe().transpose()"
   ]
  },
  {
   "cell_type": "code",
   "execution_count": 5,
   "metadata": {
    "cell_style": "split"
   },
   "outputs": [
    {
     "data": {
      "text/plain": [
       "amount_tsh               float64\n",
       "date_recorded             object\n",
       "funder                    object\n",
       "gps_height                 int64\n",
       "installer                 object\n",
       "longitude                float64\n",
       "latitude                 float64\n",
       "wpt_name                  object\n",
       "num_private                int64\n",
       "basin                     object\n",
       "subvillage                object\n",
       "region                    object\n",
       "region_code                int64\n",
       "district_code              int64\n",
       "lga                       object\n",
       "ward                      object\n",
       "population                 int64\n",
       "public_meeting            object\n",
       "recorded_by               object\n",
       "scheme_management         object\n",
       "scheme_name               object\n",
       "permit                    object\n",
       "construction_year          int64\n",
       "extraction_type           object\n",
       "extraction_type_group     object\n",
       "extraction_type_class     object\n",
       "management                object\n",
       "management_group          object\n",
       "payment                   object\n",
       "payment_type              object\n",
       "water_quality             object\n",
       "quality_group             object\n",
       "quantity                  object\n",
       "quantity_group            object\n",
       "source                    object\n",
       "source_type               object\n",
       "source_class              object\n",
       "waterpoint_type           object\n",
       "waterpoint_type_group     object\n",
       "status_group              object\n",
       "dtype: object"
      ]
     },
     "execution_count": 5,
     "metadata": {},
     "output_type": "execute_result"
    }
   ],
   "source": [
    "df_train.dtypes"
   ]
  },
  {
   "cell_type": "markdown",
   "metadata": {
    "cell_style": "split"
   },
   "source": [
    "Most of the data is object type (¿categorical?). There are also some int64 and float64 features (but a few).\n",
    "\n",
    "Now, let's check if we have some NaNs."
   ]
  },
  {
   "cell_type": "code",
   "execution_count": 6,
   "metadata": {
    "cell_style": "split"
   },
   "outputs": [
    {
     "data": {
      "text/plain": [
       "funder                3635\n",
       "installer             3655\n",
       "subvillage             371\n",
       "public_meeting        3334\n",
       "scheme_management     3877\n",
       "scheme_name          28166\n",
       "permit                3056\n",
       "dtype: int64"
      ]
     },
     "execution_count": 6,
     "metadata": {},
     "output_type": "execute_result"
    }
   ],
   "source": [
    "# CHECK NANS IN THE TRAINING SET\n",
    "null_columns = df_train.columns[df_train.isnull().any()].tolist()\n",
    "df_train[null_columns].isnull().sum()"
   ]
  },
  {
   "cell_type": "markdown",
   "metadata": {
    "cell_style": "center"
   },
   "source": [
    "So, only some of the categorical data have NaNs. We will treat them later....\n",
    "\n",
    "Another usual problem in this kind of datasets is to have duplicated rows. Let's see if we have duplicated data in our trainig set."
   ]
  },
  {
   "cell_type": "code",
   "execution_count": 7,
   "metadata": {
    "cell_style": "center"
   },
   "outputs": [
    {
     "name": "stdout",
     "output_type": "stream",
     "text": [
      "duplicated data : (70, 40)\n"
     ]
    }
   ],
   "source": [
    "print( 'duplicated data :',df_train[df_train.duplicated(keep=False)].sort_values(by='wpt_name').shape)"
   ]
  },
  {
   "cell_type": "markdown",
   "metadata": {},
   "source": [
    "Uau! so we have almost 70 rows duplicated!! Let's see an example...and then we will only keep one of rows for the analysis."
   ]
  },
  {
   "cell_type": "code",
   "execution_count": 8,
   "metadata": {},
   "outputs": [
    {
     "data": {
      "text/html": [
       "<div>\n",
       "<style scoped>\n",
       "    .dataframe tbody tr th:only-of-type {\n",
       "        vertical-align: middle;\n",
       "    }\n",
       "\n",
       "    .dataframe tbody tr th {\n",
       "        vertical-align: top;\n",
       "    }\n",
       "\n",
       "    .dataframe thead th {\n",
       "        text-align: right;\n",
       "    }\n",
       "</style>\n",
       "<table border=\"1\" class=\"dataframe\">\n",
       "  <thead>\n",
       "    <tr style=\"text-align: right;\">\n",
       "      <th></th>\n",
       "      <th>amount_tsh</th>\n",
       "      <th>date_recorded</th>\n",
       "      <th>funder</th>\n",
       "      <th>gps_height</th>\n",
       "      <th>installer</th>\n",
       "      <th>longitude</th>\n",
       "      <th>latitude</th>\n",
       "      <th>wpt_name</th>\n",
       "      <th>num_private</th>\n",
       "      <th>basin</th>\n",
       "      <th>...</th>\n",
       "      <th>water_quality</th>\n",
       "      <th>quality_group</th>\n",
       "      <th>quantity</th>\n",
       "      <th>quantity_group</th>\n",
       "      <th>source</th>\n",
       "      <th>source_type</th>\n",
       "      <th>source_class</th>\n",
       "      <th>waterpoint_type</th>\n",
       "      <th>waterpoint_type_group</th>\n",
       "      <th>status_group</th>\n",
       "    </tr>\n",
       "  </thead>\n",
       "  <tbody>\n",
       "    <tr>\n",
       "      <th>25300</th>\n",
       "      <td>0.0</td>\n",
       "      <td>2011-07-27</td>\n",
       "      <td>Hesawa</td>\n",
       "      <td>0</td>\n",
       "      <td>DWE</td>\n",
       "      <td>0.0</td>\n",
       "      <td>-2.000000e-08</td>\n",
       "      <td>Bombani</td>\n",
       "      <td>0</td>\n",
       "      <td>Lake Victoria</td>\n",
       "      <td>...</td>\n",
       "      <td>soft</td>\n",
       "      <td>good</td>\n",
       "      <td>insufficient</td>\n",
       "      <td>insufficient</td>\n",
       "      <td>shallow well</td>\n",
       "      <td>shallow well</td>\n",
       "      <td>groundwater</td>\n",
       "      <td>hand pump</td>\n",
       "      <td>hand pump</td>\n",
       "      <td>functional</td>\n",
       "    </tr>\n",
       "    <tr>\n",
       "      <th>31558</th>\n",
       "      <td>0.0</td>\n",
       "      <td>2011-07-27</td>\n",
       "      <td>Hesawa</td>\n",
       "      <td>0</td>\n",
       "      <td>DWE</td>\n",
       "      <td>0.0</td>\n",
       "      <td>-2.000000e-08</td>\n",
       "      <td>Bombani</td>\n",
       "      <td>0</td>\n",
       "      <td>Lake Victoria</td>\n",
       "      <td>...</td>\n",
       "      <td>soft</td>\n",
       "      <td>good</td>\n",
       "      <td>insufficient</td>\n",
       "      <td>insufficient</td>\n",
       "      <td>shallow well</td>\n",
       "      <td>shallow well</td>\n",
       "      <td>groundwater</td>\n",
       "      <td>hand pump</td>\n",
       "      <td>hand pump</td>\n",
       "      <td>functional</td>\n",
       "    </tr>\n",
       "  </tbody>\n",
       "</table>\n",
       "<p>2 rows × 40 columns</p>\n",
       "</div>"
      ],
      "text/plain": [
       "       amount_tsh date_recorded  funder  gps_height installer  longitude  \\\n",
       "25300         0.0    2011-07-27  Hesawa           0       DWE        0.0   \n",
       "31558         0.0    2011-07-27  Hesawa           0       DWE        0.0   \n",
       "\n",
       "           latitude wpt_name  num_private          basin  ... water_quality  \\\n",
       "25300 -2.000000e-08  Bombani            0  Lake Victoria  ...          soft   \n",
       "31558 -2.000000e-08  Bombani            0  Lake Victoria  ...          soft   \n",
       "\n",
       "      quality_group      quantity  quantity_group        source   source_type  \\\n",
       "25300          good  insufficient    insufficient  shallow well  shallow well   \n",
       "31558          good  insufficient    insufficient  shallow well  shallow well   \n",
       "\n",
       "       source_class waterpoint_type waterpoint_type_group status_group  \n",
       "25300   groundwater       hand pump             hand pump   functional  \n",
       "31558   groundwater       hand pump             hand pump   functional  \n",
       "\n",
       "[2 rows x 40 columns]"
      ]
     },
     "execution_count": 8,
     "metadata": {},
     "output_type": "execute_result"
    }
   ],
   "source": [
    "df_train[df_train.duplicated(keep=False)].sort_values(by='wpt_name').head(2)"
   ]
  },
  {
   "cell_type": "code",
   "execution_count": 9,
   "metadata": {},
   "outputs": [
    {
     "name": "stdout",
     "output_type": "stream",
     "text": [
      "final shape df_train:  (59364, 40)\n"
     ]
    }
   ],
   "source": [
    "# KEEP ONLY THE FIRST ROW\n",
    "df_train.drop_duplicates(keep='first', inplace=True)\n",
    "print ('final shape df_train: ', df_train.shape)"
   ]
  },
  {
   "cell_type": "markdown",
   "metadata": {},
   "source": [
    "At this point, I still have some doubts:\n",
    "- Are more than one register for some of the pumping site? or are they unique?\n",
    "- Could still we have duplicated rows, but with some error (¿typo errors?) in any feature?\n",
    "- Could the data have duplicated rows (features) but with different target (label?).\n",
    "\n",
    "We must check these data carefully. What we will do is to create a new dataframe (df_kk) with duplicated data considering only a susbset of the dataframe (we are using the maximum number of features possible.) "
   ]
  },
  {
   "cell_type": "code",
   "execution_count": 10,
   "metadata": {},
   "outputs": [
    {
     "name": "stdout",
     "output_type": "stream",
     "text": [
      "Shape of dataframe with duplicated rows:  (90, 40)\n"
     ]
    }
   ],
   "source": [
    "df_kk = df_train[df_train.duplicated(subset=['funder','installer','longitude','latitude','wpt_name',\n",
    "                                             'basin','subvillage','region','region_code','lga',\n",
    "                                             'scheme_management','scheme_name','extraction_type',\n",
    "                                             'extraction_type_group','permit','extraction_type_class',\n",
    "                                            'source','installer','source_type','source_class',\n",
    "                                             'waterpoint_type_group','waterpoint_type','district_code',\n",
    "                                             'ward','quantity_group','quantity','quality_group'],keep=False)]\n",
    "\n",
    "print ('Shape of dataframe with duplicated rows: ',df_kk.shape)"
   ]
  },
  {
   "cell_type": "markdown",
   "metadata": {},
   "source": [
    "So, it seems that 90 rows have the subset features duplicated. Now, we are going to check manually one by one each row and see if there are duplicated rows or not. \n",
    "\n",
    "We can use the longitude fature to sort the data and find the duplicates."
   ]
  },
  {
   "cell_type": "code",
   "execution_count": 11,
   "metadata": {},
   "outputs": [
    {
     "data": {
      "text/html": [
       "<div>\n",
       "<style scoped>\n",
       "    .dataframe tbody tr th:only-of-type {\n",
       "        vertical-align: middle;\n",
       "    }\n",
       "\n",
       "    .dataframe tbody tr th {\n",
       "        vertical-align: top;\n",
       "    }\n",
       "\n",
       "    .dataframe thead th {\n",
       "        text-align: right;\n",
       "    }\n",
       "</style>\n",
       "<table border=\"1\" class=\"dataframe\">\n",
       "  <thead>\n",
       "    <tr style=\"text-align: right;\">\n",
       "      <th></th>\n",
       "      <th>amount_tsh</th>\n",
       "      <th>date_recorded</th>\n",
       "      <th>funder</th>\n",
       "      <th>gps_height</th>\n",
       "      <th>installer</th>\n",
       "      <th>longitude</th>\n",
       "      <th>latitude</th>\n",
       "      <th>wpt_name</th>\n",
       "      <th>num_private</th>\n",
       "      <th>basin</th>\n",
       "      <th>...</th>\n",
       "      <th>water_quality</th>\n",
       "      <th>quality_group</th>\n",
       "      <th>quantity</th>\n",
       "      <th>quantity_group</th>\n",
       "      <th>source</th>\n",
       "      <th>source_type</th>\n",
       "      <th>source_class</th>\n",
       "      <th>waterpoint_type</th>\n",
       "      <th>waterpoint_type_group</th>\n",
       "      <th>status_group</th>\n",
       "    </tr>\n",
       "  </thead>\n",
       "  <tbody>\n",
       "    <tr>\n",
       "      <th>56599</th>\n",
       "      <td>0.0</td>\n",
       "      <td>2013-01-18</td>\n",
       "      <td>Wvt</td>\n",
       "      <td>0</td>\n",
       "      <td>WVT</td>\n",
       "      <td>0.000000</td>\n",
       "      <td>-2.000000e-08</td>\n",
       "      <td>Shule Ya Msingi Mwamigagani</td>\n",
       "      <td>0</td>\n",
       "      <td>Lake Victoria</td>\n",
       "      <td>...</td>\n",
       "      <td>soft</td>\n",
       "      <td>good</td>\n",
       "      <td>seasonal</td>\n",
       "      <td>seasonal</td>\n",
       "      <td>rainwater harvesting</td>\n",
       "      <td>rainwater harvesting</td>\n",
       "      <td>surface</td>\n",
       "      <td>communal standpipe</td>\n",
       "      <td>communal standpipe</td>\n",
       "      <td>functional</td>\n",
       "    </tr>\n",
       "    <tr>\n",
       "      <th>2422</th>\n",
       "      <td>0.0</td>\n",
       "      <td>2013-01-18</td>\n",
       "      <td>Wvt</td>\n",
       "      <td>0</td>\n",
       "      <td>WVT</td>\n",
       "      <td>0.000000</td>\n",
       "      <td>-2.000000e-08</td>\n",
       "      <td>Shule Ya Msingi Mwamigagani</td>\n",
       "      <td>0</td>\n",
       "      <td>Lake Victoria</td>\n",
       "      <td>...</td>\n",
       "      <td>soft</td>\n",
       "      <td>good</td>\n",
       "      <td>seasonal</td>\n",
       "      <td>seasonal</td>\n",
       "      <td>rainwater harvesting</td>\n",
       "      <td>rainwater harvesting</td>\n",
       "      <td>surface</td>\n",
       "      <td>communal standpipe</td>\n",
       "      <td>communal standpipe</td>\n",
       "      <td>functional needs repair</td>\n",
       "    </tr>\n",
       "    <tr>\n",
       "      <th>17210</th>\n",
       "      <td>0.0</td>\n",
       "      <td>2013-01-28</td>\n",
       "      <td>Wvt</td>\n",
       "      <td>0</td>\n",
       "      <td>WVT</td>\n",
       "      <td>0.000000</td>\n",
       "      <td>-2.000000e-08</td>\n",
       "      <td>Shule Ya Msingi Mwalushu</td>\n",
       "      <td>0</td>\n",
       "      <td>Lake Victoria</td>\n",
       "      <td>...</td>\n",
       "      <td>soft</td>\n",
       "      <td>good</td>\n",
       "      <td>seasonal</td>\n",
       "      <td>seasonal</td>\n",
       "      <td>rainwater harvesting</td>\n",
       "      <td>rainwater harvesting</td>\n",
       "      <td>surface</td>\n",
       "      <td>communal standpipe</td>\n",
       "      <td>communal standpipe</td>\n",
       "      <td>non functional</td>\n",
       "    </tr>\n",
       "    <tr>\n",
       "      <th>51478</th>\n",
       "      <td>0.0</td>\n",
       "      <td>2011-08-05</td>\n",
       "      <td>Wvt</td>\n",
       "      <td>0</td>\n",
       "      <td>WVT</td>\n",
       "      <td>0.000000</td>\n",
       "      <td>-2.000000e-08</td>\n",
       "      <td>Shule Ya Msingi Mwalushu</td>\n",
       "      <td>0</td>\n",
       "      <td>Lake Victoria</td>\n",
       "      <td>...</td>\n",
       "      <td>soft</td>\n",
       "      <td>good</td>\n",
       "      <td>seasonal</td>\n",
       "      <td>seasonal</td>\n",
       "      <td>rainwater harvesting</td>\n",
       "      <td>rainwater harvesting</td>\n",
       "      <td>surface</td>\n",
       "      <td>communal standpipe</td>\n",
       "      <td>communal standpipe</td>\n",
       "      <td>functional needs repair</td>\n",
       "    </tr>\n",
       "    <tr>\n",
       "      <th>35306</th>\n",
       "      <td>0.0</td>\n",
       "      <td>2011-07-20</td>\n",
       "      <td>P</td>\n",
       "      <td>0</td>\n",
       "      <td>P</td>\n",
       "      <td>32.919861</td>\n",
       "      <td>-2.476680e+00</td>\n",
       "      <td>Kwa Primi Mazula</td>\n",
       "      <td>0</td>\n",
       "      <td>Lake Victoria</td>\n",
       "      <td>...</td>\n",
       "      <td>salty</td>\n",
       "      <td>salty</td>\n",
       "      <td>enough</td>\n",
       "      <td>enough</td>\n",
       "      <td>shallow well</td>\n",
       "      <td>shallow well</td>\n",
       "      <td>groundwater</td>\n",
       "      <td>hand pump</td>\n",
       "      <td>hand pump</td>\n",
       "      <td>functional</td>\n",
       "    </tr>\n",
       "  </tbody>\n",
       "</table>\n",
       "<p>5 rows × 40 columns</p>\n",
       "</div>"
      ],
      "text/plain": [
       "       amount_tsh date_recorded funder  gps_height installer  longitude  \\\n",
       "56599         0.0    2013-01-18    Wvt           0       WVT   0.000000   \n",
       "2422          0.0    2013-01-18    Wvt           0       WVT   0.000000   \n",
       "17210         0.0    2013-01-28    Wvt           0       WVT   0.000000   \n",
       "51478         0.0    2011-08-05    Wvt           0       WVT   0.000000   \n",
       "35306         0.0    2011-07-20      P           0         P  32.919861   \n",
       "\n",
       "           latitude                     wpt_name  num_private          basin  \\\n",
       "56599 -2.000000e-08  Shule Ya Msingi Mwamigagani            0  Lake Victoria   \n",
       "2422  -2.000000e-08  Shule Ya Msingi Mwamigagani            0  Lake Victoria   \n",
       "17210 -2.000000e-08     Shule Ya Msingi Mwalushu            0  Lake Victoria   \n",
       "51478 -2.000000e-08     Shule Ya Msingi Mwalushu            0  Lake Victoria   \n",
       "35306 -2.476680e+00             Kwa Primi Mazula            0  Lake Victoria   \n",
       "\n",
       "       ... water_quality quality_group  quantity  quantity_group  \\\n",
       "56599  ...          soft          good  seasonal        seasonal   \n",
       "2422   ...          soft          good  seasonal        seasonal   \n",
       "17210  ...          soft          good  seasonal        seasonal   \n",
       "51478  ...          soft          good  seasonal        seasonal   \n",
       "35306  ...         salty         salty    enough          enough   \n",
       "\n",
       "                     source           source_type  source_class  \\\n",
       "56599  rainwater harvesting  rainwater harvesting       surface   \n",
       "2422   rainwater harvesting  rainwater harvesting       surface   \n",
       "17210  rainwater harvesting  rainwater harvesting       surface   \n",
       "51478  rainwater harvesting  rainwater harvesting       surface   \n",
       "35306          shallow well          shallow well   groundwater   \n",
       "\n",
       "          waterpoint_type waterpoint_type_group             status_group  \n",
       "56599  communal standpipe    communal standpipe               functional  \n",
       "2422   communal standpipe    communal standpipe  functional needs repair  \n",
       "17210  communal standpipe    communal standpipe           non functional  \n",
       "51478  communal standpipe    communal standpipe  functional needs repair  \n",
       "35306           hand pump             hand pump               functional  \n",
       "\n",
       "[5 rows x 40 columns]"
      ]
     },
     "execution_count": 11,
     "metadata": {},
     "output_type": "execute_result"
    }
   ],
   "source": [
    "#pd.set_option('display.max_columns', None)\n",
    "#pd.set_option('display.max_rows', None)\n",
    "df_kk.sort_values(by='longitude').head(5)"
   ]
  },
  {
   "cell_type": "markdown",
   "metadata": {},
   "source": [
    "***SUMMARY of DF duplicated rows analysis***  \n",
    "number in **bold** is droped data  \n",
    "- index **56599 and 2422** shows same registered data (all equal) but different target (functional and functional needs repair). We will drop both.. \n",
    "\n",
    "- index 17210 and **51478** in this case we have 2 registers different days with different targets: one 2011-08-05 (functional needs repair) and 2013-01-28(no functional) --> we keep the **no functional** \n",
    "\n",
    "- index 35306 and 30708 shows the same data, but 30708 have information more accurated for som columns (amount_tsh, gps_height, ...). The **35306** should be droped.\n",
    "\n",
    "- index 43948 and 38346. More info in 38346, **43948** should be droped\n",
    "\n",
    "- in. 44676 and 47145. **47145** should be dropped\n",
    "\n",
    "- in. 9129 and 8057. **8057** should be dropped.\n",
    "\n",
    "- in. 2457 and **48946**\n",
    "\n",
    "- few more rows like previous ones....we should drop: **9283, 58561,  44079, 23856, 58190, 54551, 29596, 42876, 46455, 2401, 31851, 35674, 11895, 42163, 30622, 4125,**\n",
    "\n",
    "- in. 29367 and 19866 (same for 50330-50232, 51319-29640, 50878-48361, 13570-29872, 30760-8896, 24983-28701, 37766-17442, 51672-50694, 38604-7560, 2287-10267, 41601-50543, 15917-57824, 6775-8979, 11121-13864, 24995-24029, 41398-27569, 57423-9187, 8630-6516, 37198-56544, 43089-48859, 51584-17294   have same data for all rows (only variation is for date -1 week of difference-, so we drop one of them). **19866, 50232, 29640, 48361,  29872, 8896, 28701, 17442, 50694, 7560, 10267, 50543, 57824, 8979, 13864, 24029, 27569, 9187, 6516, 37198, 48859 and 17294**"
   ]
  },
  {
   "cell_type": "code",
   "execution_count": 12,
   "metadata": {},
   "outputs": [
    {
     "name": "stdout",
     "output_type": "stream",
     "text": [
      "New train shape:  (59319, 40)\n"
     ]
    }
   ],
   "source": [
    "df_train.drop([56599, 2422, 51478, 35306,43948,47145,8057,48946,9283,58561,44079,23856,58160,54551,\n",
    "                     29596,42876,46455,2401,31851,35674,11895,42163,30622,4125,19866,50232, 29640,\n",
    "                     48361,29872,8896,28701,17442,50694,7560,10267,50543,8979,13864,24029,27569,9187,\n",
    "                     6516,37198,48859,17294], inplace=True)\n",
    "print('New train shape: ',df_train.shape)"
   ]
  },
  {
   "cell_type": "markdown",
   "metadata": {},
   "source": [
    "<font color='blue'> So,we have reduced the training dataset from 59400 to 59319! </font>"
   ]
  },
  {
   "cell_type": "markdown",
   "metadata": {},
   "source": [
    "# Feature analysis (one by one)\n",
    "\n",
    "## Features susceptible to be eliminated\n",
    "\n",
    "Some features that a priori could be eliminated:\n",
    "- latitud and longitude: have allowed us to find possible duplicated data. However, as a feature it seems not usefull. --> **Drop `latitude` and `longitude`**\n",
    "- `payment` and `payment_type`: these data seems to be the same --> **Drop `payment_type`**\n",
    "- `num_private` seems that we have a few data. We should analyse it carefully. For now we will not dropped yet.\n",
    "\n",
    "There are other features that are very similar, although there are not completely equal (usually one of them is a subgroup of the other). For now, we are not going to drop them. But it could be interesting to drop them in the future and compare the results.\n",
    "- `region` and `region_code` \n",
    "- `lga` and `district_code` \n",
    "- `extraction_type` and `extraction_type_group`\n",
    "- `management` and `management_group`\n",
    "- `water_quality` and `quality_group`\n",
    "- `quantity` and `quantity_group`\n",
    "- `source` and `source_type`"
   ]
  },
  {
   "cell_type": "code",
   "execution_count": 13,
   "metadata": {
    "cell_style": "split"
   },
   "outputs": [
    {
     "data": {
      "text/html": [
       "<div>\n",
       "<style scoped>\n",
       "    .dataframe tbody tr th:only-of-type {\n",
       "        vertical-align: middle;\n",
       "    }\n",
       "\n",
       "    .dataframe tbody tr th {\n",
       "        vertical-align: top;\n",
       "    }\n",
       "\n",
       "    .dataframe thead th {\n",
       "        text-align: right;\n",
       "    }\n",
       "</style>\n",
       "<table border=\"1\" class=\"dataframe\">\n",
       "  <thead>\n",
       "    <tr style=\"text-align: right;\">\n",
       "      <th></th>\n",
       "      <th>payment</th>\n",
       "      <th>payment_type</th>\n",
       "    </tr>\n",
       "    <tr>\n",
       "      <th>payment_type</th>\n",
       "      <th></th>\n",
       "      <th></th>\n",
       "    </tr>\n",
       "  </thead>\n",
       "  <tbody>\n",
       "    <tr>\n",
       "      <th>annually</th>\n",
       "      <td>1</td>\n",
       "      <td>1</td>\n",
       "    </tr>\n",
       "    <tr>\n",
       "      <th>monthly</th>\n",
       "      <td>1</td>\n",
       "      <td>1</td>\n",
       "    </tr>\n",
       "    <tr>\n",
       "      <th>never pay</th>\n",
       "      <td>1</td>\n",
       "      <td>1</td>\n",
       "    </tr>\n",
       "    <tr>\n",
       "      <th>on failure</th>\n",
       "      <td>1</td>\n",
       "      <td>1</td>\n",
       "    </tr>\n",
       "    <tr>\n",
       "      <th>other</th>\n",
       "      <td>1</td>\n",
       "      <td>1</td>\n",
       "    </tr>\n",
       "    <tr>\n",
       "      <th>per bucket</th>\n",
       "      <td>1</td>\n",
       "      <td>1</td>\n",
       "    </tr>\n",
       "    <tr>\n",
       "      <th>unknown</th>\n",
       "      <td>1</td>\n",
       "      <td>1</td>\n",
       "    </tr>\n",
       "  </tbody>\n",
       "</table>\n",
       "</div>"
      ],
      "text/plain": [
       "              payment  payment_type\n",
       "payment_type                       \n",
       "annually            1             1\n",
       "monthly             1             1\n",
       "never pay           1             1\n",
       "on failure          1             1\n",
       "other               1             1\n",
       "per bucket          1             1\n",
       "unknown             1             1"
      ]
     },
     "execution_count": 13,
     "metadata": {},
     "output_type": "execute_result"
    }
   ],
   "source": [
    "# example of payment and payment_type. The information is repeated.\n",
    "df_train[['payment','payment_type']].groupby(by='payment_type').nunique()"
   ]
  },
  {
   "cell_type": "code",
   "execution_count": 14,
   "metadata": {
    "cell_style": "split"
   },
   "outputs": [
    {
     "data": {
      "text/html": [
       "<div>\n",
       "<style scoped>\n",
       "    .dataframe tbody tr th:only-of-type {\n",
       "        vertical-align: middle;\n",
       "    }\n",
       "\n",
       "    .dataframe tbody tr th {\n",
       "        vertical-align: top;\n",
       "    }\n",
       "\n",
       "    .dataframe thead th {\n",
       "        text-align: right;\n",
       "    }\n",
       "</style>\n",
       "<table border=\"1\" class=\"dataframe\">\n",
       "  <thead>\n",
       "    <tr style=\"text-align: right;\">\n",
       "      <th></th>\n",
       "      <th>management</th>\n",
       "      <th>management_group</th>\n",
       "    </tr>\n",
       "    <tr>\n",
       "      <th>management_group</th>\n",
       "      <th></th>\n",
       "      <th></th>\n",
       "    </tr>\n",
       "  </thead>\n",
       "  <tbody>\n",
       "    <tr>\n",
       "      <th>commercial</th>\n",
       "      <td>4</td>\n",
       "      <td>1</td>\n",
       "    </tr>\n",
       "    <tr>\n",
       "      <th>other</th>\n",
       "      <td>2</td>\n",
       "      <td>1</td>\n",
       "    </tr>\n",
       "    <tr>\n",
       "      <th>parastatal</th>\n",
       "      <td>1</td>\n",
       "      <td>1</td>\n",
       "    </tr>\n",
       "    <tr>\n",
       "      <th>unknown</th>\n",
       "      <td>1</td>\n",
       "      <td>1</td>\n",
       "    </tr>\n",
       "    <tr>\n",
       "      <th>user-group</th>\n",
       "      <td>4</td>\n",
       "      <td>1</td>\n",
       "    </tr>\n",
       "  </tbody>\n",
       "</table>\n",
       "</div>"
      ],
      "text/plain": [
       "                  management  management_group\n",
       "management_group                              \n",
       "commercial                 4                 1\n",
       "other                      2                 1\n",
       "parastatal                 1                 1\n",
       "unknown                    1                 1\n",
       "user-group                 4                 1"
      ]
     },
     "execution_count": 14,
     "metadata": {},
     "output_type": "execute_result"
    }
   ],
   "source": [
    "# example of management and management_group. The information is in this case is not repeated and we can not delete it.\n",
    "df_train[['management','management_group']].groupby(by='management_group').nunique()"
   ]
  },
  {
   "cell_type": "markdown",
   "metadata": {},
   "source": [
    "<font color='red'> **drop data 1/4: `latitude`, `longitude` and `payment_type`** </font>"
   ]
  },
  {
   "cell_type": "code",
   "execution_count": 15,
   "metadata": {},
   "outputs": [],
   "source": [
    "df_train.drop(columns=['latitude','longitude','payment_type'],inplace=True)\n",
    "df_test.drop(columns=['latitude','longitude','payment_type'],inplace=True)"
   ]
  },
  {
   "cell_type": "markdown",
   "metadata": {},
   "source": [
    "## Numerical data\n",
    "\n",
    "### Recorded dates \n",
    "\n",
    "What about the dates? Could the date have some relation with the clasification criteria?"
   ]
  },
  {
   "cell_type": "code",
   "execution_count": 16,
   "metadata": {},
   "outputs": [],
   "source": [
    "df_train['date']=pd.to_datetime(df_train['date_recorded'])\n",
    "df_test['date']=pd.to_datetime(df_test['date_recorded'])"
   ]
  },
  {
   "cell_type": "code",
   "execution_count": 17,
   "metadata": {},
   "outputs": [
    {
     "name": "stdout",
     "output_type": "stream",
     "text": [
      " ######### Train data ##########\n",
      "number of different date_recorded:  356\n",
      "first date of date_recorded:  2002-10-14 00:00:00\n",
      "last date of date_recorded:  2013-12-03 00:00:00\n",
      " \n",
      "######### Test data ##########\n",
      "number of different date_recorded:  331\n",
      "first date of date_recorded:  2001-03-26 00:00:00\n",
      "last date of date_recorded:  2013-12-03 00:00:00\n"
     ]
    },
    {
     "data": {
      "image/png": "[encoded data removed]",
      "text/plain": [
       "<Figure size 1440x288 with 1 Axes>"
      ]
     },
     "metadata": {
      "needs_background": "light"
     },
     "output_type": "display_data"
    },
    {
     "name": "stdout",
     "output_type": "stream",
     "text": [
      "samples recordee before 2010 in the training set:  (31, 38)\n",
      "samples recordee since 2010 in the training set:  (59288, 38)\n",
      " ---------------------------------------------------\n",
      "samples recordee before 2010 in the test set:  (12, 37)\n",
      "samples recordee before 2010 in the training set:  (14838, 37)\n"
     ]
    }
   ],
   "source": [
    "#Dates train\n",
    "print (' ######### Train data ##########')\n",
    "print ('number of different date_recorded: ',df_train['date'].nunique() )\n",
    "print( 'first date of date_recorded: ', df_train['date'].min())\n",
    "print( 'last date of date_recorded: ', df_train['date'].max())\n",
    "\n",
    "#Dates Test\n",
    "print (' \\n######### Test data ##########')\n",
    "print ('number of different date_recorded: ',df_test['date'].nunique() )\n",
    "print( 'first date of date_recorded: ', df_test['date'].min())\n",
    "print( 'last date of date_recorded: ', df_test['date'].max())\n",
    "\n",
    "# PLOT\n",
    "fig= plt.figure(figsize=(20,4))\n",
    "df_train[df_train['status_group']=='functional'].groupby('date')['status_group'].count().plot(style='o')\n",
    "df_train[df_train['status_group']=='functional needs repair'].groupby('date')['status_group'].count().plot(style='o')\n",
    "df_train[df_train['status_group']=='non functional'].groupby('date')['status_group'].count().plot(style='o')\n",
    "plt.legend(('functional', 'functional needs repair', 'non functional') )\n",
    "plt.show()\n",
    "\n",
    "# some summary\n",
    "print ('samples recordee before 2010 in the training set: ',df_train[df_train['date']<'2010-01-01'].shape)\n",
    "print ('samples recordee since 2010 in the training set: ',df_train[df_train['date']>'2010-01-01'].shape)\n",
    "print(' ---------------------------------------------------')\n",
    "print ('samples recordee before 2010 in the test set: ',df_test[df_test['date']<'2006-01-01'].shape)\n",
    "print ('samples recordee before 2010 in the training set: ',df_test[df_test['date']>'2010-01-01'].shape)"
   ]
  },
  {
   "cell_type": "markdown",
   "metadata": {},
   "source": [
    "Most of the data is between 2011 and 2013, although few observations were recorded between 2001 and 2005.\n",
    "\n",
    "Here we can follow different paths.....\n",
    "- drop observations done before 2010 in the training data (keep in mind that in the test set still are 12 observations done before 2010) --> **this is what we are doing in this first appliaction**\n",
    "- create new features: `year` and `month` (could it be some seasonality in the data? for example: stational water fonts only works duing wet seasons...) --> <font color='blue'>**next thng to do**</font>"
   ]
  },
  {
   "cell_type": "markdown",
   "metadata": {},
   "source": [
    "<font color='red'> **drop data 2/4: `date` before 2010** </font>"
   ]
  },
  {
   "cell_type": "code",
   "execution_count": 18,
   "metadata": {},
   "outputs": [],
   "source": [
    "# only for train data\n",
    "df_train = df_train[df_train['date']>'2010-01-01']\n",
    "\n",
    "# both train and test drop date columns\n",
    "df_train.drop(columns=['date','date_recorded'],inplace=True)\n",
    "df_test.drop(columns=['date','date_recorded'],inplace=True)"
   ]
  },
  {
   "cell_type": "markdown",
   "metadata": {},
   "source": [
    "### Amount of water"
   ]
  },
  {
   "cell_type": "code",
   "execution_count": 19,
   "metadata": {},
   "outputs": [
    {
     "name": "stdout",
     "output_type": "stream",
     "text": [
      "Amount of 0:  41531\n",
      "Percentage of 0 respect the total:  70.04958844960194\n"
     ]
    }
   ],
   "source": [
    "# first count how many 0 do we have\n",
    "print ('Amount of 0: ',df_train[df_train.amount_tsh == 0].shape[0])\n",
    "print ('Percentage of 0 respect the total: ',df_train[df_train.amount_tsh == 0].shape[0]/df_train.shape[0]*100)"
   ]
  },
  {
   "cell_type": "markdown",
   "metadata": {},
   "source": [
    "Only 30% of the data shows values greater than 0!!"
   ]
  },
  {
   "cell_type": "code",
   "execution_count": 20,
   "metadata": {},
   "outputs": [
    {
     "data": {
      "image/png": "[encoded data removed]",
      "text/plain": [
       "<Figure size 864x432 with 3 Axes>"
      ]
     },
     "metadata": {
      "needs_background": "light"
     },
     "output_type": "display_data"
    }
   ],
   "source": [
    "df_k=df_train[df_train.amount_tsh==0]\n",
    "df_kk=df_train[df_train.amount_tsh!=0]\n",
    "\n",
    "fig = plt.figure(figsize=(12,6))\n",
    "ax1 = fig.add_subplot(221)\n",
    "ax2 = fig.add_subplot(222)\n",
    "ax3 = fig.add_subplot(224)\n",
    "\n",
    "\n",
    "sns.countplot(data=df_k,x='amount_tsh',hue='status_group',ax=ax1)\n",
    "ax1.title.set_text('Number of observations with amount_tsh==0')\n",
    "\n",
    "sns.countplot(data=df_kk,x='status_group',ax=ax2)\n",
    "ax2.title.set_text('Number of observations with amount_tsh > 0')\n",
    "\n",
    "\n",
    "#sns.kdeplot(data=df_k.amount_tsh,shade=True)\n",
    "sns.kdeplot(data=df_kk.amount_tsh,ax=ax3)\n",
    "ax3.title.set_text('Number of observations with amount_tsh>0')\n",
    "\n",
    "plt.tight_layout()\n",
    "plt.show()"
   ]
  },
  {
   "cell_type": "markdown",
   "metadata": {},
   "source": [
    "It seems that there are, in relative terms, more points that aree not working when considering tsh==0. So, probably it will help the model to discriminate the categories. However, a few more things seems plausible to do here..... we keep data as it is. "
   ]
  },
  {
   "cell_type": "markdown",
   "metadata": {},
   "source": [
    "### Gps_height "
   ]
  },
  {
   "cell_type": "code",
   "execution_count": 21,
   "metadata": {},
   "outputs": [
    {
     "name": "stdout",
     "output_type": "stream",
     "text": [
      "Amount of 0:  20367\n",
      "Percentage of 0 respect the total:  34.35 %\n"
     ]
    }
   ],
   "source": [
    "# first count how many 0 do we have\n",
    "print ('Amount of 0: ',df_train[df_train.gps_height == 0].shape[0])\n",
    "print ('Percentage of 0 respect the total: ',round(df_train[df_train.gps_height == 0].shape[0]/df_train.shape[0]*100,2),'%')"
   ]
  },
  {
   "cell_type": "code",
   "execution_count": 22,
   "metadata": {},
   "outputs": [
    {
     "data": {
      "image/png": "[encoded data removed]",
      "text/plain": [
       "<Figure size 864x288 with 2 Axes>"
      ]
     },
     "metadata": {
      "needs_background": "light"
     },
     "output_type": "display_data"
    }
   ],
   "source": [
    "fig = plt.figure(figsize=(12,4))\n",
    "ax1 = fig.add_subplot(121)\n",
    "ax2 = fig.add_subplot(122)\n",
    "\n",
    "# -------------- COUNPLOT\n",
    "df_k=df_train[df_train.gps_height==0]\n",
    "sns.countplot(data=df_k,x='gps_height',hue='status_group',ax=ax1)\n",
    "plt.title('Number of observations with gps_height==0')\n",
    "\n",
    "# -------------- KDEPLOT\n",
    "df_k=df_train[(df_train.gps_height!=0) & (df_train.status_group=='functional')]\n",
    "sns.kdeplot(data=df_k.gps_height,shade=True,ax=ax2)\n",
    "\n",
    "df_k=df_train[(df_train.gps_height!=0) & (df_train.status_group=='functional needs repair')]\n",
    "sns.kdeplot(data=df_k.gps_height,shade=True,ax=ax2)\n",
    "\n",
    "df_k=df_train[(df_train.gps_height!=0) & (df_train.status_group=='non functional')]\n",
    "sns.kdeplot(data=df_k.gps_height,shade=True,ax=ax2)\n",
    "plt.title('Number of observations with gps_height>0 by status group')\n",
    "plt.legend(['functional','functional needs repair','non functional'])\n",
    "\n",
    "plt.tight_layout()\n",
    "plt.show()"
   ]
  },
  {
   "cell_type": "markdown",
   "metadata": {},
   "source": [
    "This feature shows different behaviours (distributions) when considering the target. It probably will important for the model..."
   ]
  },
  {
   "cell_type": "markdown",
   "metadata": {},
   "source": [
    "### num_private "
   ]
  },
  {
   "cell_type": "code",
   "execution_count": 23,
   "metadata": {},
   "outputs": [
    {
     "name": "stdout",
     "output_type": "stream",
     "text": [
      "Amount of 0:  58531\n",
      "Percentage of 0 respect the total:  98.72 %\n"
     ]
    }
   ],
   "source": [
    "# first count how many 0 do we have\n",
    "print ('Amount of 0: ',df_train[df_train.num_private == 0].shape[0])\n",
    "print ('Percentage of 0 respect the total: ',round(df_train[df_train.num_private == 0].shape[0]/df_train.shape[0]*100,2),'%')"
   ]
  },
  {
   "cell_type": "markdown",
   "metadata": {},
   "source": [
    "Almost 99% of the data is = 0!  \n",
    "However, we will check the data (just in case...)"
   ]
  },
  {
   "cell_type": "code",
   "execution_count": 24,
   "metadata": {
    "scrolled": true
   },
   "outputs": [
    {
     "data": {
      "image/png": "[encoded data removed]",
      "text/plain": [
       "<Figure size 864x288 with 2 Axes>"
      ]
     },
     "metadata": {
      "needs_background": "light"
     },
     "output_type": "display_data"
    }
   ],
   "source": [
    "fig = plt.figure(figsize=(12,4))\n",
    "ax1 = fig.add_subplot(121)\n",
    "ax2 = fig.add_subplot(122)\n",
    "\n",
    "df_k=df_train[df_train.num_private==0]\n",
    "sns.countplot(data=df_k,x='num_private',hue='status_group',ax=ax1)\n",
    "plt.title('Number of observations with num_private==0')\n",
    "\n",
    "#---\n",
    "df_k=df_train[(df_train.num_private!=0) & (df_train.status_group=='functional')]\n",
    "sns.kdeplot(data=df_k.num_private,shade=True,ax=ax2)\n",
    "\n",
    "df_k=df_train[(df_train.num_private!=0) & (df_train.status_group=='functional needs repair')]\n",
    "sns.kdeplot(data=df_k.num_private,shade=True,ax=ax2)\n",
    "\n",
    "df_k=df_train[(df_train.num_private!=0) & (df_train.status_group=='non functional')]\n",
    "sns.kdeplot(data=df_k.num_private,shade=True,ax=ax2)\n",
    "plt.title('Number of observations with num_private>0 by status group')\n",
    "plt.legend(['functional','functional needs repair','non functional'])\n",
    "\n",
    "plt.tight_layout()\n",
    "plt.show()"
   ]
  },
  {
   "cell_type": "markdown",
   "metadata": {
    "cell_style": "split"
   },
   "source": [
    "This feature only have 1% of data different than 0. Moreover, the probability distribution are almost equal for the three categories (targets). I am going to drop this feature. \n",
    "\n",
    "<font color='red'> **drop data 3/4: `num_private`** </font>"
   ]
  },
  {
   "cell_type": "code",
   "execution_count": 25,
   "metadata": {
    "cell_style": "split"
   },
   "outputs": [],
   "source": [
    "df_train.drop(columns=['num_private'],inplace=True)\n",
    "df_test.drop(columns=['num_private'],inplace=True)"
   ]
  },
  {
   "cell_type": "markdown",
   "metadata": {},
   "source": [
    "### Population"
   ]
  },
  {
   "cell_type": "code",
   "execution_count": 26,
   "metadata": {},
   "outputs": [
    {
     "name": "stdout",
     "output_type": "stream",
     "text": [
      "Amount of 0:  21310\n",
      "Percentage of 0 respect the total:  35.94 %\n"
     ]
    }
   ],
   "source": [
    "# first count how many 0 do we have\n",
    "print ('Amount of 0: ',df_train[df_train.population == 0].shape[0])\n",
    "print ('Percentage of 0 respect the total: ',round(df_train[df_train.population == 0].shape[0]/df_train.shape[0]*100,2),'%')"
   ]
  },
  {
   "cell_type": "markdown",
   "metadata": {},
   "source": [
    "In this case, 65% of the data is showing values different than 0!"
   ]
  },
  {
   "cell_type": "code",
   "execution_count": 27,
   "metadata": {},
   "outputs": [
    {
     "data": {
      "image/png": "[encoded data removed]",
      "text/plain": [
       "<Figure size 864x288 with 1 Axes>"
      ]
     },
     "metadata": {
      "needs_background": "light"
     },
     "output_type": "display_data"
    },
    {
     "name": "stdout",
     "output_type": "stream",
     "text": [
      "Rows with population (train)> 10.000 inhabitants : (3, 35)\n",
      "Rows with population (test)> 10.000 inhabitants : (1, 34)\n"
     ]
    }
   ],
   "source": [
    "plt.figure(figsize=(12,4))\n",
    "#---\n",
    "df_k=df_train[(df_train.population!=0) & (df_train.status_group=='functional')]\n",
    "sns.kdeplot(data=df_k.population,shade=True)\n",
    "\n",
    "df_k=df_train[(df_train.population!=0) & (df_train.status_group=='functional needs repair')]\n",
    "sns.kdeplot(data=df_k.population,shade=True)\n",
    "\n",
    "df_k=df_train[(df_train.population!=0) & (df_train.status_group=='non functional')]\n",
    "sns.kdeplot(data=df_k.population,shade=True)\n",
    "plt.title('Number of observations with population>0 by status group')\n",
    "plt.legend(['functional','functional needs repair','non functional'])\n",
    "plt.show()\n",
    "\n",
    "\n",
    "print ('Rows with population (train)> 10.000 inhabitants :',df_train[df_train.population>10000].shape)\n",
    "print ('Rows with population (test)> 10.000 inhabitants :',df_test[df_test.population>10000].shape)"
   ]
  },
  {
   "cell_type": "markdown",
   "metadata": {},
   "source": [
    "This feature does not show, at first sight, noticeable differences between the category distributions. I am not sure if ot will be usefull or not, but we will try to keep it for the first implementations...\n",
    "\n",
    "Moreover, I will drop some 'outliers' (population > 10.000). \n",
    "\n",
    "So, is it plausible population to 0? I don't think so...so, we can use some geo-localization data to fullfill these 0 with data. In this case, we are going to use two variables:\n",
    "\n",
    "- subvillage\n",
    "- lga (district)\n",
    "- region"
   ]
  },
  {
   "cell_type": "code",
   "execution_count": 28,
   "metadata": {},
   "outputs": [
    {
     "name": "stdout",
     "output_type": "stream",
     "text": [
      "\n",
      " train nans... 16413\n",
      "test nans... 1471\n",
      "\n",
      " train nans... 450\n",
      "test nans... 48\n",
      "\n",
      " train nans... 0\n",
      "test nans... 7\n",
      "\n",
      " train nans... 0\n",
      "test nans... 0\n"
     ]
    },
    {
     "data": {
      "image/png": "[encoded data removed]",
      "text/plain": [
       "<Figure size 864x288 with 1 Axes>"
      ]
     },
     "metadata": {
      "needs_background": "light"
     },
     "output_type": "display_data"
    }
   ],
   "source": [
    "# keep only population smaller than 10.000\n",
    "df_train = df_train[df_train.population<10000]\n",
    "\n",
    "# 0 to NaNs\n",
    "df_train['population'].replace(to_replace=0,value=np.nan,inplace=True)\n",
    "df_test['population'].replace(to_replace=0,value=np.nan,inplace=True)\n",
    "\n",
    "# impute Nans with subvillage > lga > region untill > all data no nans in the data\n",
    "df_train['population'] = df_train['population'].fillna(df_train.groupby('subvillage')['population'].transform('mean'))\n",
    "df_test['population'] = df_test['population'].fillna(df_train.groupby('subvillage')['population'].transform('mean'))\n",
    "print ('\\n train nans...',df_train.population.isnull().sum())\n",
    "print ('test nans...',df_test.population.isnull().sum())\n",
    "\n",
    "df_train['population'] = df_train['population'].fillna(df_train.groupby('lga')['population'].transform('mean'))\n",
    "df_test['population'] = df_test['population'].fillna(df_train.groupby('lga')['population'].transform('mean'))\n",
    "print ('\\n train nans...',df_train.population.isnull().sum())\n",
    "print ('test nans...',df_test.population.isnull().sum())\n",
    "\n",
    "df_train['population'] = df_train['population'].fillna(df_train.groupby('region')['population'].transform('mean'))\n",
    "df_test['population'] = df_test['population'].fillna(df_train.groupby('region')['population'].transform('mean'))\n",
    "print ('\\n train nans...',df_train.population.isnull().sum())\n",
    "print ('test nans...',df_test.population.isnull().sum())\n",
    "\n",
    "df_test['population'] = df_test['population'].fillna(df_train['population'].mean())\n",
    "print ('\\n train nans...',df_train.population.isnull().sum())\n",
    "print ('test nans...',df_test.population.isnull().sum())\n",
    "\n",
    "\n",
    "\n",
    "plt.figure(figsize=(12,4))\n",
    "#---\n",
    "df_k=df_train[(df_train.population!=0) & (df_train.status_group=='functional')]\n",
    "sns.kdeplot(data=df_k.population,shade=True)\n",
    "\n",
    "df_k=df_train[(df_train.population!=0) & (df_train.status_group=='functional needs repair')]\n",
    "sns.kdeplot(data=df_k.population,shade=True)\n",
    "\n",
    "df_k=df_train[(df_train.population!=0) & (df_train.status_group=='non functional')]\n",
    "sns.kdeplot(data=df_k.population,shade=True)\n",
    "plt.title('Number of observations with population>0 by status group')\n",
    "plt.legend(['functional','functional needs repair','non functional'])\n",
    "plt.show()"
   ]
  },
  {
   "cell_type": "markdown",
   "metadata": {},
   "source": [
    "Now we don't have 0's, and the distribution seems to be a bit different between functional and non-functional...\n",
    "\n",
    "So, we will keep it for the model.\n",
    "\n",
    "Moreover, what about this long cue? couldn't be ouliers?...we droped the ones with values higher than 10000 (3 rows in the train and one in the test set...but what about the rest?). For now, we will keep it as it is."
   ]
  },
  {
   "cell_type": "markdown",
   "metadata": {},
   "source": [
    "### construction_year"
   ]
  },
  {
   "cell_type": "code",
   "execution_count": 29,
   "metadata": {},
   "outputs": [
    {
     "name": "stdout",
     "output_type": "stream",
     "text": [
      "Amount of 0:  20636\n",
      "Percentage of 0 respect the total:  34.81 %\n"
     ]
    },
    {
     "data": {
      "image/png": "[encoded data removed]",
      "text/plain": [
       "<Figure size 1440x288 with 1 Axes>"
      ]
     },
     "metadata": {
      "needs_background": "light"
     },
     "output_type": "display_data"
    }
   ],
   "source": [
    "# first count how many 0 do we have\n",
    "print ('Amount of 0: ',df_train[df_train.construction_year == 0].shape[0])\n",
    "print ('Percentage of 0 respect the total: ',\n",
    "       round(df_train[df_train.construction_year == 0].shape[0]/df_train.shape[0]*100,2),'%')\n",
    "\n",
    "# PLOT\n",
    "fig= plt.figure(figsize=(20,4))\n",
    "df_train[df_train['status_group']=='functional'].groupby('construction_year')['status_group'].count().plot(style='o')\n",
    "df_train[df_train['status_group']=='functional needs repair'].groupby('construction_year')['status_group'].count().plot(style='o')\n",
    "df_train[df_train['status_group']=='non functional'].groupby('construction_year')['status_group'].count().plot(style='o')\n",
    "plt.legend(('functional', 'functional needs repair', 'non functional') )\n",
    "plt.show()"
   ]
  },
  {
   "cell_type": "markdown",
   "metadata": {},
   "source": [
    "Almost 35% of the data has no information of the construction_year. I guess this is an important feature, probably older pumps have more prbability to have problems (non functioning or needing reparations).\n",
    "\n",
    "We can try to impute data considering the mean value (without any contemplations!), or try to be more accurate and define some kind of procedure: for example, we can use the organization that installed the pumps to impute the missing data. Usually, the organizations work with anual projects...(I am not sure this is a very good method, so we can try with other ones later)"
   ]
  },
  {
   "cell_type": "code",
   "execution_count": 30,
   "metadata": {},
   "outputs": [
    {
     "name": "stdout",
     "output_type": "stream",
     "text": [
      "initial nans... 20636\n",
      "nans... 7464\n",
      "nans... 3859\n",
      "nans... 0\n"
     ]
    }
   ],
   "source": [
    "# 0 to NaNs\n",
    "df_train['construction_year'].replace(to_replace=0,value=np.nan,inplace=True)\n",
    "df_test['construction_year'].replace(to_replace=0,value=np.nan,inplace=True)\n",
    "print ('initial nans...',df_train.construction_year.isnull().sum())\n",
    "\n",
    "# impute Nans funder that installed teh well: funder > installer > mean rest\n",
    "df_train['construction_year'] = df_train['construction_year'].fillna(df_train.groupby('funder')['construction_year'].transform('mean'))\n",
    "df_test['construction_year'] = df_test['construction_year'].fillna(df_train.groupby('funder')['construction_year'].transform('mean'))\n",
    "print ('nans...',df_train.construction_year.isnull().sum())\n",
    "\n",
    "df_train['construction_year'] = df_train['construction_year'].fillna(df_train.groupby('installer')['construction_year'].transform('mean'))\n",
    "df_test['construction_year'] = df_test['construction_year'].fillna(df_train.groupby('installer')['construction_year'].transform('mean'))\n",
    "print ('nans...',df_train.construction_year.isnull().sum())\n",
    "df_train['construction_year'] = df_train['construction_year'].fillna(df_train['construction_year'].mean())\n",
    "df_test['construction_year'] = df_test['construction_year'].fillna(df_train['construction_year'].mean())\n",
    "print ('nans...',df_train.construction_year.isnull().sum())"
   ]
  },
  {
   "cell_type": "code",
   "execution_count": 31,
   "metadata": {},
   "outputs": [
    {
     "data": {
      "image/png": "[encoded data removed]",
      "text/plain": [
       "<Figure size 1440x288 with 1 Axes>"
      ]
     },
     "metadata": {
      "needs_background": "light"
     },
     "output_type": "display_data"
    }
   ],
   "source": [
    "# now we can convert thos to age of the well, and the binarize the data\n",
    "df_train['age_well']=abs(df_train.construction_year - df_train.construction_year.max() +1)\n",
    "df_test['age_well']=abs(df_test.construction_year - df_train.construction_year.max() +1)\n",
    "\n",
    "df_train['age_well_bin']=pd.cut(df_train['age_well'], \n",
    "                                bins=[-1,4,9,14,19,24,29,35,39,44,49,54], \n",
    "                                labels=['0','5','10','15','20','25','30','35','40','45','50'])\n",
    "\n",
    "df_test['age_well_bin']=pd.cut(df_test['age_well'], \n",
    "                                bins=[-1,4,9,14,19,24,29,35,39,44,49,54], \n",
    "                                labels=['0','5','10','15','20','25','30','35','40','45','50'])\n",
    "\n",
    "df_train.age_well_bin=df_train.age_well_bin.astype(object)\n",
    "df_test.age_well_bin=df_test.age_well_bin.astype(object)\n",
    "\n",
    "# plot\n",
    "fig= plt.figure(figsize=(20,4))\n",
    "df_train[df_train['status_group']=='functional'].groupby('age_well_bin')['status_group'].count().plot(style='o')\n",
    "df_train[df_train['status_group']=='functional needs repair'].groupby('age_well_bin')['status_group'].count().plot(style='o')\n",
    "df_train[df_train['status_group']=='non functional'].groupby('age_well_bin')['status_group'].count().plot(style='o')\n",
    "plt.legend(('functional', 'functional needs repair', 'non functional') )\n",
    "plt.show()"
   ]
  },
  {
   "cell_type": "markdown",
   "metadata": {},
   "source": [
    "At this point, one of the main 'doubts' arises: when applying the model, the best results were obtained with `age_well`, and a bit worst with `age_well_bin`(data in bins). Sincerely, I still don't understand why, the structure of the data is much clear when plotting the data organized in bins....This is something that I need to improve in future versions."
   ]
  },
  {
   "cell_type": "code",
   "execution_count": 32,
   "metadata": {},
   "outputs": [],
   "source": [
    "df_train.drop(columns=['construction_year','age_well_bin'],inplace=True)\n",
    "df_test.drop(columns=['construction_year','age_well_bin'],inplace=True)"
   ]
  },
  {
   "cell_type": "markdown",
   "metadata": {},
   "source": [
    "## Categorical features\n",
    "\n",
    "Some plots...."
   ]
  },
  {
   "cell_type": "code",
   "execution_count": 33,
   "metadata": {},
   "outputs": [
    {
     "data": {
      "image/png": "[encoded data removed]",
      "text/plain": [
       "<Figure size 864x288 with 1 Axes>"
      ]
     },
     "metadata": {
      "needs_background": "light"
     },
     "output_type": "display_data"
    }
   ],
   "source": [
    "plt.figure(figsize=(12,4))\n",
    "sns.countplot(data=df_train, x='waterpoint_type_group', hue='status_group')\n",
    "plt.show()"
   ]
  },
  {
   "cell_type": "code",
   "execution_count": 34,
   "metadata": {},
   "outputs": [],
   "source": [
    "# FUNCTION TO PLOT BOX-PLOT o SCATTERPLOT\n",
    "def plot_boxplot(n,m,df,figx,figy,y_val,box=1):\n",
    "    \"\"\"This function plot a multple subplot (defined by n & m) for a dataframe, also defining the size of the figure.\n",
    "    The plot could be boxplot (box=1) for categorical data, and regplot for numerical data\"\"\"\n",
    "    fig, axs = plt.subplots(n,m,figsize=(figx,figy))\n",
    "    rect = fig.patch\n",
    "    rect.set_facecolor('white')\n",
    "    axs = axs.flatten()\n",
    "    \n",
    "    ll= df.columns.to_list()\n",
    "    ll.remove(y_val)\n",
    "\n",
    "    for i,(ax, feature) in enumerate (zip(axs, ll)):\n",
    "        boxplot = sns.countplot(data=df, x=feature, hue='status_group',ax=ax)\n",
    "                    \n",
    "        boxplot.set_xticklabels(boxplot.get_xticklabels(), rotation=45, horizontalalignment='right')\n",
    "        #boxplot.legend()\n",
    "    plt.tight_layout()"
   ]
  },
  {
   "cell_type": "markdown",
   "metadata": {},
   "source": [
    "        Let's see the number of unique values per feature in both training and test data sets"
   ]
  },
  {
   "cell_type": "code",
   "execution_count": 35,
   "metadata": {
    "cell_style": "split"
   },
   "outputs": [
    {
     "data": {
      "text/plain": [
       "funder                    1896\n",
       "installer                 2142\n",
       "wpt_name                 37376\n",
       "basin                        9\n",
       "subvillage               19279\n",
       "region                      21\n",
       "lga                        125\n",
       "ward                      2092\n",
       "public_meeting               2\n",
       "recorded_by                  1\n",
       "scheme_management           12\n",
       "scheme_name               2696\n",
       "permit                       2\n",
       "extraction_type             18\n",
       "extraction_type_group       13\n",
       "extraction_type_class        7\n",
       "management                  12\n",
       "management_group             5\n",
       "payment                      7\n",
       "water_quality                8\n",
       "quality_group                6\n",
       "quantity                     5\n",
       "quantity_group               5\n",
       "source                      10\n",
       "source_type                  7\n",
       "source_class                 3\n",
       "waterpoint_type              7\n",
       "waterpoint_type_group        6\n",
       "status_group                 3\n",
       "dtype: int64"
      ]
     },
     "execution_count": 35,
     "metadata": {},
     "output_type": "execute_result"
    }
   ],
   "source": [
    "# CATEGORICAL FEATURES TRAIN\n",
    "cat_feats = df_train.dtypes[df_train.dtypes == \"object\"].index\n",
    "df_train[cat_feats].nunique()"
   ]
  },
  {
   "cell_type": "code",
   "execution_count": 36,
   "metadata": {
    "cell_style": "split"
   },
   "outputs": [
    {
     "data": {
      "text/plain": [
       "funder                     980\n",
       "installer                 1091\n",
       "wpt_name                 10840\n",
       "basin                        9\n",
       "subvillage                8443\n",
       "region                      21\n",
       "lga                        125\n",
       "ward                      1959\n",
       "public_meeting               2\n",
       "recorded_by                  1\n",
       "scheme_management           11\n",
       "scheme_name               1789\n",
       "permit                       2\n",
       "extraction_type             17\n",
       "extraction_type_group       13\n",
       "extraction_type_class        7\n",
       "management                  12\n",
       "management_group             5\n",
       "payment                      7\n",
       "water_quality                8\n",
       "quality_group                6\n",
       "quantity                     5\n",
       "quantity_group               5\n",
       "source                      10\n",
       "source_type                  7\n",
       "source_class                 3\n",
       "waterpoint_type              7\n",
       "waterpoint_type_group        6\n",
       "dtype: int64"
      ]
     },
     "execution_count": 36,
     "metadata": {},
     "output_type": "execute_result"
    }
   ],
   "source": [
    "# CATEGORICAL FEATURES TEST\n",
    "cat_feats_test = df_test.dtypes[df_test.dtypes == \"object\"].index\n",
    "df_test[cat_feats_test].nunique()"
   ]
  },
  {
   "cell_type": "markdown",
   "metadata": {},
   "source": [
    "There are several important things here to take into account:\n",
    "\n",
    "1. Several features have too many unique values. For example, funder have 1896 unique values, or subvillage with 19279!!. These are too many subcategories for a categorical feature (once we apply dummy transformation, these would be transformed into 19278 new columns! ). So, I've decided to drop all the categorical features with more than 125 subcategories!. --> drop: `funder, installer, wpt_name, subvillage , ward , scheme_name`.\n",
    "2. There is one feature with only one category: `recorded_by`. We can drop it. \n",
    "3. there two features with different unique values in the train and the test!\n",
    " - scheme_management: 12 in train & 11 in test\n",
    " - extraction_type: 18 & 17 in test\n",
    "\n",
    "So, in these two features, it is important to know which are the missing features in the test, and then add them into the new  dummy dataframe (with all the values to 0)."
   ]
  },
  {
   "cell_type": "code",
   "execution_count": 37,
   "metadata": {},
   "outputs": [
    {
     "name": "stdout",
     "output_type": "stream",
     "text": [
      "train scheme_management:  ['VWC' 'Other' nan 'Private operator' 'WUG' 'Water Board' 'WUA'\n",
      " 'Water authority' 'Company' 'Parastatal' 'Trust' 'SWC' 'None']\n",
      "\n",
      " test scheme_management:  ['Parastatal' 'VWC' 'Water Board' nan 'Other' 'SWC' 'WUG' 'WUA'\n",
      " 'Water authority' 'Company' 'Private operator' 'Trust']\n",
      " \n",
      "---------------------------------------------------\n",
      "---------------------------------------------------\n",
      "\n",
      "train extraction_type:  ['gravity' 'submersible' 'swn 80' 'nira/tanira' 'india mark ii' 'other'\n",
      " 'ksb' 'mono' 'windmill' 'afridev' 'other - rope pump' 'india mark iii'\n",
      " 'other - swn 81' 'other - play pump' 'cemo' 'climax' 'walimi'\n",
      " 'other - mkulima/shinyanga']\n",
      "\n",
      " test extraction_type:  ['other' 'gravity' 'india mark ii' 'submersible' 'mono' 'nira/tanira'\n",
      " 'afridev' 'swn 80' 'ksb' 'climax' 'other - rope pump' 'cemo'\n",
      " 'india mark iii' 'other - swn 81' 'other - play pump' 'windmill' 'walimi']\n"
     ]
    }
   ],
   "source": [
    "print('train scheme_management: ',df_train.scheme_management.unique() )\n",
    "print('\\n test scheme_management: ',df_test.scheme_management.unique() )\n",
    "print(' \\n---------------------------------------------------')\n",
    "print('---------------------------------------------------')\n",
    "print('\\ntrain extraction_type: ',df_train.extraction_type.unique() )\n",
    "print('\\n test extraction_type: ',df_test.extraction_type.unique() )"
   ]
  },
  {
   "cell_type": "markdown",
   "metadata": {},
   "source": [
    "<font color='orange'> **scheme_management** in train has **None** and test no!  \n",
    "    **extraction_type** in train has **other - mkulima/shinyanga** and test no </font>\n",
    "    \n"
   ]
  },
  {
   "cell_type": "markdown",
   "metadata": {},
   "source": [
    "<font color='red'> **drop data 4/4: `recorded_by`,`funder`,`installer`,`wpt_name`,`subvillage`,`ward`,`scheme_name`** </font>"
   ]
  },
  {
   "cell_type": "code",
   "execution_count": 38,
   "metadata": {},
   "outputs": [],
   "source": [
    "df_train.drop(columns=['recorded_by','funder','installer','wpt_name','subvillage','ward','scheme_name'],inplace=True)\n",
    "df_test.drop(columns=['recorded_by','funder','installer','wpt_name','subvillage','ward','scheme_name'],inplace=True)"
   ]
  },
  {
   "cell_type": "code",
   "execution_count": 39,
   "metadata": {},
   "outputs": [],
   "source": [
    "cat_feats = df_train.dtypes[df_train.dtypes == \"object\"].index\n",
    "# PLOT SCATTERPLOT with REGRESSION LINE\n",
    "if plots_show==1:plot_boxplot(7,3,df_train[cat_feats],15,30,'status_group',box=0)"
   ]
  },
  {
   "cell_type": "markdown",
   "metadata": {},
   "source": [
    "lga is not well represented, so we I'll do the plot again bigger!!"
   ]
  },
  {
   "cell_type": "code",
   "execution_count": 40,
   "metadata": {},
   "outputs": [
    {
     "data": {
      "image/png": "[encoded data removed]",
      "text/plain": [
       "<Figure size 1800x360 with 1 Axes>"
      ]
     },
     "metadata": {
      "needs_background": "light"
     },
     "output_type": "display_data"
    }
   ],
   "source": [
    "fig = plt.figure(figsize=(25,5))\n",
    "boxplot = sns.countplot(data=df_train, x='lga', hue='status_group')\n",
    "boxplot.set_xticklabels(boxplot.get_xticklabels(), rotation=45, horizontalalignment='right')\n",
    "plt.show()"
   ]
  },
  {
   "cell_type": "markdown",
   "metadata": {},
   "source": [
    "All the variable shows differences between categories, so probably all of them will be usefull when aplying the model. We keep them all."
   ]
  },
  {
   "cell_type": "markdown",
   "metadata": {},
   "source": [
    "# Preprocessing\n",
    "- Missing Nans\n",
    "- get-dummies for categorical data\n",
    "- standarization and log-transformation (this should be incorporated to the model chapter)\n",
    "\n",
    "## Missing NaNs"
   ]
  },
  {
   "cell_type": "code",
   "execution_count": 41,
   "metadata": {
    "cell_style": "split"
   },
   "outputs": [
    {
     "name": "stdout",
     "output_type": "stream",
     "text": [
      "Nans in train set: \n",
      " public_meeting       3306\n",
      "scheme_management    3872\n",
      "permit               3054\n",
      "dtype: int64\n"
     ]
    }
   ],
   "source": [
    "null_columns = df_train.columns[df_train.isnull().any()].tolist()\n",
    "print ('Nans in train set: \\n',\n",
    "       df_train[null_columns].isnull().sum() )"
   ]
  },
  {
   "cell_type": "code",
   "execution_count": 42,
   "metadata": {
    "cell_style": "split"
   },
   "outputs": [
    {
     "name": "stdout",
     "output_type": "stream",
     "text": [
      "Nans in test set: \n",
      " public_meeting       821\n",
      "scheme_management    969\n",
      "permit               737\n",
      "dtype: int64\n"
     ]
    }
   ],
   "source": [
    "null_columns = df_test.columns[df_test.isnull().any()].tolist()\n",
    "print ('Nans in test set: \\n',\n",
    "       df_test[null_columns].isnull().sum() )"
   ]
  },
  {
   "cell_type": "markdown",
   "metadata": {},
   "source": [
    "### public_meeting"
   ]
  },
  {
   "cell_type": "code",
   "execution_count": 43,
   "metadata": {},
   "outputs": [
    {
     "name": "stdout",
     "output_type": "stream",
     "text": [
      "public_meeting total:  59282\n",
      "public_meeting Trues:  50931\n",
      "public_meeting False:   5045\n",
      "public_meeting NaNs :   3306\n"
     ]
    }
   ],
   "source": [
    "print('public_meeting total: ',df_train.public_meeting.shape[0])\n",
    "print('public_meeting Trues: ',df_train.public_meeting.sum())\n",
    "print('public_meeting False:  ',df_train.public_meeting.shape[0] - df_train.public_meeting.sum() -df_train.public_meeting.isnull().sum())\n",
    "print('public_meeting NaNs :  ',df_train.public_meeting.isnull().sum() )"
   ]
  },
  {
   "cell_type": "markdown",
   "metadata": {},
   "source": [
    "Approximattely about 86% of the data are True and 8% False.  \n",
    "We will create a new group, called Unknown."
   ]
  },
  {
   "cell_type": "code",
   "execution_count": 44,
   "metadata": {},
   "outputs": [],
   "source": [
    "df_train['public_meeting'].fillna(value='Unknown',inplace=True)\n",
    "df_test['public_meeting'].fillna(value='Unknown',inplace=True)"
   ]
  },
  {
   "cell_type": "markdown",
   "metadata": {},
   "source": [
    "### scheme_management\n",
    "In this feature there is already a group called 'Other'. We will imput all the missing data to this group."
   ]
  },
  {
   "cell_type": "code",
   "execution_count": 45,
   "metadata": {},
   "outputs": [],
   "source": [
    "df_train['scheme_management'].fillna(value='Other',inplace=True)\n",
    "df_test['scheme_management'].fillna(value='Other',inplace=True)"
   ]
  },
  {
   "cell_type": "markdown",
   "metadata": {},
   "source": [
    "### permit"
   ]
  },
  {
   "cell_type": "code",
   "execution_count": 46,
   "metadata": {},
   "outputs": [
    {
     "name": "stdout",
     "output_type": "stream",
     "text": [
      "permit total:  59282\n",
      "permit Trues:  38775\n",
      "permit False:   17453\n",
      "permit NaNs :   3054\n"
     ]
    }
   ],
   "source": [
    "print('permit total: ',df_train.permit.shape[0])\n",
    "print('permit Trues: ',df_train.permit.sum())\n",
    "print('permit False:  ',df_train.permit.shape[0] - df_train.permit.sum() -df_train.permit.isnull().sum())\n",
    "print('permit NaNs :  ',df_train.permit.isnull().sum() )"
   ]
  },
  {
   "cell_type": "markdown",
   "metadata": {},
   "source": [
    "Very similiar to public_meeting. 70% with True and 25% with False. Impunting NaNs here with most repeated ro something similar is not the best option here. I'm gonna create a new group ('Unknwon') here."
   ]
  },
  {
   "cell_type": "code",
   "execution_count": 47,
   "metadata": {},
   "outputs": [],
   "source": [
    "df_train['permit'].fillna(value='Unknown',inplace=True)\n",
    "df_test['permit'].fillna(value='Unknown',inplace=True)"
   ]
  },
  {
   "cell_type": "markdown",
   "metadata": {},
   "source": [
    "## Get Dummies"
   ]
  },
  {
   "cell_type": "code",
   "execution_count": 48,
   "metadata": {},
   "outputs": [],
   "source": [
    "# Categorical data to Dummy\n",
    "cat_feats = df_train.dtypes[(df_train.dtypes == \"object\")].index\n",
    "cat_feats_test = df_test.dtypes[df_test.dtypes == \"object\"].index"
   ]
  },
  {
   "cell_type": "code",
   "execution_count": 49,
   "metadata": {
    "cell_style": "split"
   },
   "outputs": [
    {
     "data": {
      "text/plain": [
       "Index(['basin', 'region', 'lga', 'public_meeting', 'scheme_management',\n",
       "       'permit', 'extraction_type', 'extraction_type_group',\n",
       "       'extraction_type_class', 'management', 'management_group', 'payment',\n",
       "       'water_quality', 'quality_group', 'quantity', 'quantity_group',\n",
       "       'source', 'source_type', 'source_class', 'waterpoint_type',\n",
       "       'waterpoint_type_group', 'status_group'],\n",
       "      dtype='object')"
      ]
     },
     "execution_count": 49,
     "metadata": {},
     "output_type": "execute_result"
    }
   ],
   "source": [
    "cat_feats"
   ]
  },
  {
   "cell_type": "code",
   "execution_count": 50,
   "metadata": {
    "cell_style": "split"
   },
   "outputs": [
    {
     "data": {
      "text/plain": [
       "Index(['basin', 'region', 'lga', 'public_meeting', 'scheme_management',\n",
       "       'permit', 'extraction_type', 'extraction_type_group',\n",
       "       'extraction_type_class', 'management', 'management_group', 'payment',\n",
       "       'water_quality', 'quality_group', 'quantity', 'quantity_group',\n",
       "       'source', 'source_type', 'source_class', 'waterpoint_type',\n",
       "       'waterpoint_type_group'],\n",
       "      dtype='object')"
      ]
     },
     "execution_count": 50,
     "metadata": {},
     "output_type": "execute_result"
    }
   ],
   "source": [
    "cat_feats_test"
   ]
  },
  {
   "cell_type": "code",
   "execution_count": 51,
   "metadata": {},
   "outputs": [],
   "source": [
    "# CREATE DUMMIES\n",
    "df_cat_D = pd.get_dummies(df_train[cat_feats],dummy_na=False, drop_first=True)\n",
    "df_cat_D_test = pd.get_dummies(df_test[cat_feats_test],dummy_na=False, drop_first=True)\n",
    "\n",
    "# DROP TARGET (NOW THERE ARE TWO COLUMNS!)\n",
    "df_cat_D.drop(columns=['status_group_functional needs repair', 'status_group_non functional'],inplace=True)"
   ]
  },
  {
   "cell_type": "code",
   "execution_count": 52,
   "metadata": {},
   "outputs": [
    {
     "name": "stdout",
     "output_type": "stream",
     "text": [
      "(59282, 271)\n",
      "(14850, 269)\n"
     ]
    }
   ],
   "source": [
    "print (df_cat_D.shape)\n",
    "print (df_cat_D_test.shape)"
   ]
  },
  {
   "cell_type": "markdown",
   "metadata": {},
   "source": [
    "As we have seen before, there are 2 subcategories not present in the test data. The best option would be to add it in the train as 0 columns. However, we can simply delete them from the train and try with the model.... "
   ]
  },
  {
   "cell_type": "code",
   "execution_count": 53,
   "metadata": {},
   "outputs": [],
   "source": [
    "df_cat_D.drop(columns=[\"scheme_management_None\",\"extraction_type_other - mkulima/shinyanga\"],inplace=True)"
   ]
  },
  {
   "cell_type": "code",
   "execution_count": 54,
   "metadata": {},
   "outputs": [
    {
     "name": "stdout",
     "output_type": "stream",
     "text": [
      "(59282, 269)\n",
      "(14850, 269)\n"
     ]
    }
   ],
   "source": [
    "print (df_cat_D.shape)\n",
    "print (df_cat_D_test.shape)"
   ]
  },
  {
   "cell_type": "markdown",
   "metadata": {},
   "source": [
    "## Standarization --> region_code and district_code are categorical!!! no numeircal!"
   ]
  },
  {
   "cell_type": "code",
   "execution_count": 55,
   "metadata": {},
   "outputs": [],
   "source": [
    "num_feats = df_train.dtypes[df_train.dtypes != \"object\"].index\n",
    "num_feats_test = df_test.dtypes[df_test.dtypes != \"object\"].index"
   ]
  },
  {
   "cell_type": "code",
   "execution_count": 56,
   "metadata": {},
   "outputs": [
    {
     "data": {
      "text/plain": [
       "Index(['amount_tsh', 'gps_height', 'region_code', 'district_code',\n",
       "       'population', 'age_well'],\n",
       "      dtype='object')"
      ]
     },
     "execution_count": 56,
     "metadata": {},
     "output_type": "execute_result"
    }
   ],
   "source": [
    "num_feats"
   ]
  },
  {
   "cell_type": "code",
   "execution_count": 57,
   "metadata": {},
   "outputs": [
    {
     "data": {
      "text/plain": [
       "20"
      ]
     },
     "execution_count": 57,
     "metadata": {},
     "output_type": "execute_result"
    }
   ],
   "source": [
    "df_train.district_code.nunique()"
   ]
  },
  {
   "cell_type": "code",
   "execution_count": 58,
   "metadata": {},
   "outputs": [
    {
     "data": {
      "text/plain": [
       "Index(['amount_tsh', 'gps_height', 'region_code', 'district_code',\n",
       "       'population', 'age_well'],\n",
       "      dtype='object')"
      ]
     },
     "execution_count": 58,
     "metadata": {},
     "output_type": "execute_result"
    }
   ],
   "source": [
    "num_feats_test"
   ]
  },
  {
   "cell_type": "code",
   "execution_count": 59,
   "metadata": {},
   "outputs": [],
   "source": [
    "# normalizamos features a logaritmo (no acabo de ver si sirve o no en este caso)\n",
    "pt_lineal = PowerTransformer()\n",
    "pt_lineal.fit(df_train[num_feats])\n",
    "df_train.loc[:,num_feats] = pt_lineal.transform(df_train[num_feats])\n",
    "df_test.loc[:,num_feats] = pt_lineal.transform(df_test[num_feats])"
   ]
  },
  {
   "cell_type": "code",
   "execution_count": 60,
   "metadata": {},
   "outputs": [],
   "source": [
    "# hacemos una transformacion de las features (scalado)\n",
    "sc = MinMaxScaler().fit(df_train[num_feats])\n",
    "df_train.loc[:,num_feats] = sc.transform(df_train[num_feats])\n",
    "df_test.loc[:,num_feats] = sc.transform(df_test[num_feats])"
   ]
  },
  {
   "cell_type": "code",
   "execution_count": 61,
   "metadata": {},
   "outputs": [],
   "source": [
    "# lo unimos todo de nuevo\n",
    "train = pd.concat([df_train[num_feats],df_cat_D], axis=1)\n",
    "test = pd.concat([df_test[num_feats],df_cat_D_test], axis=1)\n",
    "\n",
    "y=df_train.status_group"
   ]
  },
  {
   "cell_type": "code",
   "execution_count": 62,
   "metadata": {},
   "outputs": [
    {
     "data": {
      "text/plain": [
       "(59282, 275)"
      ]
     },
     "execution_count": 62,
     "metadata": {},
     "output_type": "execute_result"
    }
   ],
   "source": [
    "train.shape"
   ]
  },
  {
   "cell_type": "markdown",
   "metadata": {},
   "source": [
    "# MODELS\n",
    "El primero intento lo haremos con un modelo logistico (dan muy buenos resultados y son rápidos). Vemos como va."
   ]
  },
  {
   "cell_type": "code",
   "execution_count": 63,
   "metadata": {},
   "outputs": [],
   "source": [
    "from sklearn.linear_model import LogisticRegression\n",
    "from sklearn.model_selection import train_test_split\n",
    "from sklearn.model_selection import cross_val_score\n",
    "from sklearn import metrics"
   ]
  },
  {
   "cell_type": "code",
   "execution_count": 64,
   "metadata": {},
   "outputs": [],
   "source": [
    "def plot_confusion_matrix(cm, classes,\n",
    "                          normalize=False,\n",
    "                          title='Confusion matrix',\n",
    "                          cmap=plt.cm.Oranges):\n",
    "    \"\"\"\n",
    "    This function prints and plots the confusion matrix.\n",
    "    Normalization can be applied by setting `normalize=True`.\n",
    "    Source: http://scikit-learn.org/stable/auto_examples/model_selection/plot_confusion_matrix.html\n",
    "    \"\"\"\n",
    "    if normalize:\n",
    "        cm = cm.astype('float') / cm.sum(axis=1)[:, np.newaxis]\n",
    "        print(\"Normalized confusion matrix\")\n",
    "    else:\n",
    "        print('Confusion matrix, without normalization')\n",
    "\n",
    "    plt.figure(figsize = (6, 6))\n",
    "    plt.imshow(cm, interpolation='nearest', cmap='Greens')\n",
    "    plt.title(title, size = 12)\n",
    "    plt.colorbar(aspect=4)\n",
    "    tick_marks = np.arange(len(classes))\n",
    "    plt.xticks(tick_marks, classes, rotation=45, size = 12)\n",
    "    plt.yticks(tick_marks, classes, size = 14)\n",
    "\n",
    "    fmt = '.2f' if normalize else 'd'\n",
    "    thresh = cm.max() / 2.\n",
    "    \n",
    "    # Labeling the plot\n",
    "    for i, j in itertools.product(range(cm.shape[0]), range(cm.shape[1])):\n",
    "        plt.text(j, i, format(cm[i, j], fmt), fontsize = 12,\n",
    "                 horizontalalignment=\"center\",\n",
    "                 color=\"white\" if cm[i, j] > thresh else \"black\")\n",
    "        \n",
    "    plt.grid(None)\n",
    "    plt.tight_layout()\n",
    "    plt.ylabel('True label', size = 12)\n",
    "    plt.xlabel('Predicted label', size = 12)"
   ]
  },
  {
   "cell_type": "code",
   "execution_count": 65,
   "metadata": {},
   "outputs": [],
   "source": [
    "# PRIMER MODELO LINEAL I ALGUNOS RESULTADOS\n",
    "X_train, X_test, y_train, y_test = train_test_split(train, y, test_size=0.33, random_state=42)\n"
   ]
  },
  {
   "cell_type": "code",
   "execution_count": 66,
   "metadata": {},
   "outputs": [],
   "source": [
    "all_models=1"
   ]
  },
  {
   "cell_type": "code",
   "execution_count": 67,
   "metadata": {},
   "outputs": [
    {
     "name": "stdout",
     "output_type": "stream",
     "text": [
      " ########      CROSS VALIDATION      ############## \n",
      "R^2 (coefficient of determination) regression score function for the cross validation: 0.7480990986454504\n"
     ]
    },
    {
     "ename": "NameError",
     "evalue": "name 'confusion_matrix' is not defined",
     "output_type": "error",
     "traceback": [
      "\u001b[0;31m---------------------------------------------------------------------------\u001b[0m",
      "\u001b[0;31mNameError\u001b[0m                                 Traceback (most recent call last)",
      "\u001b[0;32m<ipython-input-67-ab492c13f355>\u001b[0m in \u001b[0;36m<module>\u001b[0;34m\u001b[0m\n\u001b[1;32m     13\u001b[0m     \u001b[0mpred_lineal\u001b[0m\u001b[0;34m=\u001b[0m \u001b[0mLR\u001b[0m\u001b[0;34m.\u001b[0m\u001b[0mpredict\u001b[0m\u001b[0;34m(\u001b[0m\u001b[0mX_test\u001b[0m\u001b[0;34m)\u001b[0m\u001b[0;34m\u001b[0m\u001b[0;34m\u001b[0m\u001b[0m\n\u001b[1;32m     14\u001b[0m \u001b[0;34m\u001b[0m\u001b[0m\n\u001b[0;32m---> 15\u001b[0;31m     plot_confusion_matrix(confusion_matrix(y_test, pred_lineal), \n\u001b[0m\u001b[1;32m     16\u001b[0m                       classes=[0,1,2],title = 'Logistic Regression', normalize=False)\n\u001b[1;32m     17\u001b[0m     \u001b[0mplt\u001b[0m\u001b[0;34m.\u001b[0m\u001b[0mshow\u001b[0m\u001b[0;34m(\u001b[0m\u001b[0;34m)\u001b[0m\u001b[0;34m\u001b[0m\u001b[0;34m\u001b[0m\u001b[0m\n",
      "\u001b[0;31mNameError\u001b[0m: name 'confusion_matrix' is not defined"
     ]
    }
   ],
   "source": [
    "if all_models:\n",
    "    # Modelo\n",
    "    LR=LogisticRegression(multi_class='multinomial',max_iter=500, n_jobs=-1)\n",
    "\n",
    "    #CV R2 \n",
    "    results_accuracy = cross_val_score(LR, X_train, y_train, cv=2, scoring='accuracy')\n",
    "\n",
    "    print (' ########      CROSS VALIDATION      ############## ')\n",
    "    print('R^2 (coefficient of determination) regression score function for the cross validation:',results_accuracy.mean())\n",
    "\n",
    "    # FIT AND PREDICT\n",
    "    LR.fit(X_train,y_train)\n",
    "    pred_lineal= LR.predict(X_test)\n",
    "    \n",
    "    plot_confusion_matrix(confusion_matrix(y_test, pred_lineal), \n",
    "                      classes=[0,1,2],title = 'Logistic Regression', normalize=False)\n",
    "    plt.show()\n"
   ]
  },
  {
   "cell_type": "code",
   "execution_count": null,
   "metadata": {},
   "outputs": [],
   "source": [
    "from sklearn.metrics import confusion_matrix\n",
    "import itertools\n",
    "\n",
    "from sklearn.svm import SVC, LinearSVC\n",
    "from sklearn.neighbors import KNeighborsClassifier\n",
    "from sklearn.ensemble import RandomForestClassifier"
   ]
  },
  {
   "cell_type": "code",
   "execution_count": null,
   "metadata": {},
   "outputs": [],
   "source": []
  },
  {
   "cell_type": "code",
   "execution_count": null,
   "metadata": {},
   "outputs": [],
   "source": []
  },
  {
   "cell_type": "code",
   "execution_count": null,
   "metadata": {},
   "outputs": [],
   "source": [
    "if all_models:\n",
    "    svc_l=LinearSVC()\n",
    "\n",
    "    #CV R2 \n",
    "    results_accuracy = cross_val_score(svc_l, X_train, y_train, cv=2, scoring='accuracy')\n",
    "\n",
    "    print (' ########      CROSS VALIDATION      ############## ')\n",
    "    print('R^2 (coefficient of determination) regression score function for the cross validation:',results_accuracy.mean())\n",
    "\n",
    "    # FIT AND PREDICT\n",
    "    svc_l.fit(X_train,y_train)\n",
    "    pred_svc_l= svc_l.predict(X_test)\n",
    "    \n",
    "    plot_confusion_matrix(confusion_matrix(y_test, pred_svc_l), \n",
    "                      classes=[0,1,2],title = 'Linear SVC', normalize=False)\n",
    "    plt.show()"
   ]
  },
  {
   "cell_type": "code",
   "execution_count": null,
   "metadata": {},
   "outputs": [],
   "source": [
    "if all_models:\n",
    "    svc_M=SVC()\n",
    "\n",
    "    #CV R2 \n",
    "    results_accuracy = cross_val_score(svc_M, X_train, y_train, cv=2, scoring='accuracy')\n",
    "\n",
    "    print (' ########      CROSS VALIDATION      ############## ')\n",
    "    print('R^2 (coefficient of determination) regression score function for the cross validation:',results_accuracy.mean())\n",
    "\n",
    "    # FIT AND PREDICT\n",
    "    svc_M.fit(X_train,y_train)\n",
    "    pred_svc_M= svc_M.predict(X_test)\n",
    "    \n",
    "    plot_confusion_matrix(confusion_matrix(y_test, pred_svc_M), \n",
    "                      classes=[0,1,2],title = 'SVC', normalize=False)\n",
    "    plt.show()"
   ]
  },
  {
   "cell_type": "code",
   "execution_count": null,
   "metadata": {},
   "outputs": [],
   "source": []
  },
  {
   "cell_type": "code",
   "execution_count": null,
   "metadata": {},
   "outputs": [],
   "source": []
  },
  {
   "cell_type": "code",
   "execution_count": null,
   "metadata": {},
   "outputs": [],
   "source": [
    "if all_models:\n",
    "    knC=KNeighborsClassifier(n_jobs=-1)\n",
    "\n",
    "    #CV R2 \n",
    "    results_accuracy = cross_val_score(knC, X_train, y_train, cv=2, scoring='accuracy')\n",
    "\n",
    "    print (' ########      CROSS VALIDATION      ############## ')\n",
    "    print('R^2 (coefficient of determination) regression score function for the cross validation:',results_accuracy.mean())\n",
    "\n",
    "    # FIT AND PREDICT\n",
    "    knC.fit(X_train,y_train)\n",
    "    pred_knC= knC.predict(X_test)\n",
    "    \n",
    "    plot_confusion_matrix(confusion_matrix(y_test, pred_knC), \n",
    "                      classes=[0,1,2],title = 'Kneighbours', normalize=False)\n",
    "    plt.show()"
   ]
  },
  {
   "cell_type": "code",
   "execution_count": null,
   "metadata": {},
   "outputs": [],
   "source": []
  },
  {
   "cell_type": "code",
   "execution_count": null,
   "metadata": {},
   "outputs": [],
   "source": []
  },
  {
   "cell_type": "code",
   "execution_count": null,
   "metadata": {},
   "outputs": [],
   "source": [
    "rdf=RandomForestClassifier(n_estimators=100,criterion='entropy',n_jobs=-1)\n",
    "\n",
    "#CV R2 \n",
    "results_accuracy = cross_val_score(rdf, X_train, y_train, cv=10, scoring='accuracy')\n",
    "\n",
    "print (' ########      CROSS VALIDATION      ############## ')\n",
    "print('R^2 (coefficient of determination) regression score function for the cross validation:',results_accuracy.mean())\n",
    "\n",
    "# FIT AND PREDICT\n",
    "rdf.fit(X_train,y_train)\n",
    "pred_rdf= rdf.predict(X_test)"
   ]
  },
  {
   "cell_type": "code",
   "execution_count": null,
   "metadata": {},
   "outputs": [],
   "source": [
    "plot_confusion_matrix(confusion_matrix(y_test, pred_rdf), \n",
    "                      classes=[0,1,2],title = 'RandomForest', normalize=False)\n",
    "plt.show()"
   ]
  },
  {
   "cell_type": "code",
   "execution_count": null,
   "metadata": {},
   "outputs": [],
   "source": [
    "rdf"
   ]
  },
  {
   "cell_type": "code",
   "execution_count": null,
   "metadata": {},
   "outputs": [],
   "source": [
    "importances = rdf.feature_importances_\n",
    "pd.Series(rdf.feature_importances_, index=X_train.columns).nlargest(300).plot(figsize=(10,60),kind='barh')\n",
    "plt.gca().invert_yaxis()\n",
    "plt.show()"
   ]
  },
  {
   "cell_type": "code",
   "execution_count": null,
   "metadata": {},
   "outputs": [],
   "source": [
    "from sklearn.feature_selection import SelectFromModel\n",
    "sfm = SelectFromModel(rdf, threshold=0.0003)\n",
    "\n",
    "# Train the selector\n",
    "sfm.fit(X_train, y_train)"
   ]
  },
  {
   "cell_type": "code",
   "execution_count": null,
   "metadata": {},
   "outputs": [],
   "source": [
    "feat_labels = X_train.columns"
   ]
  },
  {
   "cell_type": "code",
   "execution_count": null,
   "metadata": {},
   "outputs": [],
   "source": [
    "# Print the names of the most important features\n",
    "for feature_list_index in sfm.get_support(indices=True):\n",
    "    print(feat_labels[feature_list_index])"
   ]
  },
  {
   "cell_type": "code",
   "execution_count": null,
   "metadata": {},
   "outputs": [],
   "source": [
    "X_important_train = sfm.transform(X_train)\n",
    "X_important_test = sfm.transform(X_test)"
   ]
  },
  {
   "cell_type": "code",
   "execution_count": null,
   "metadata": {},
   "outputs": [],
   "source": [
    "X_important_train.shape"
   ]
  },
  {
   "cell_type": "code",
   "execution_count": null,
   "metadata": {},
   "outputs": [],
   "source": [
    "# Create a new random forest classifier for the most important features\n",
    "rdf_important = RandomForestClassifier(n_estimators=400,criterion='entropy',n_jobs=-1)\n",
    "\n",
    "#CV R2 \n",
    "results_accuracy = cross_val_score(rdf_important, X_important_train, y_train, cv=10, scoring='accuracy')\n",
    "\n",
    "print (' ########      CROSS VALIDATION      ############## ')\n",
    "print('R^2 (coefficient of determination) regression score function for the cross validation:',results_accuracy.mean())\n",
    "\n",
    "# FIT AND PREDICT\n",
    "rdf_important.fit(X_important_train,y_train)\n",
    "pred_rdf_important= rdf_important.predict(X_important_test)"
   ]
  },
  {
   "cell_type": "code",
   "execution_count": null,
   "metadata": {},
   "outputs": [],
   "source": [
    "plot_confusion_matrix(confusion_matrix(y_test, pred_rdf_important), \n",
    "                      classes=[0,1,2],title = 'RandomForest', normalize=False)\n",
    "plt.show()"
   ]
  },
  {
   "cell_type": "code",
   "execution_count": null,
   "metadata": {},
   "outputs": [],
   "source": [
    "rdf_important"
   ]
  },
  {
   "cell_type": "code",
   "execution_count": null,
   "metadata": {},
   "outputs": [],
   "source": [
    "import xgboost as xgb"
   ]
  },
  {
   "cell_type": "code",
   "execution_count": null,
   "metadata": {},
   "outputs": [],
   "source": [
    "xgb_model = xgb.XGBClassifier(objective=\"multi:softprob\", random_state=42, n_jobs=6,\n",
    "                             n_estimators=225,learning_rate=0.3,\n",
    "                             max_depth=6, subsample=1)"
   ]
  },
  {
   "cell_type": "code",
   "execution_count": null,
   "metadata": {},
   "outputs": [],
   "source": [
    "#CV R2 \n",
    "results_accuracy = cross_val_score(xgb_model, X_important_train, y_train, cv=10, scoring='accuracy')\n",
    "\n",
    "print (' ########      CROSS VALIDATION      ############## ')\n",
    "print('R^2 (coefficient of determination) regression score function for the cross validation:',results_accuracy.mean())\n",
    "\n"
   ]
  },
  {
   "cell_type": "code",
   "execution_count": null,
   "metadata": {},
   "outputs": [],
   "source": [
    "# FIT AND PREDICT\n",
    "xgb_model.fit(X_important_train,y_train)\n",
    "pred_xgb_important= xgb_model.predict(X_important_test)\n",
    "\n",
    "plot_confusion_matrix(confusion_matrix(y_test, pred_xgb_important), \n",
    "                      classes=[0,1,2],title = 'XGB', normalize=False)\n",
    "plt.show()"
   ]
  },
  {
   "cell_type": "code",
   "execution_count": null,
   "metadata": {},
   "outputs": [],
   "source": [
    "xgb_model"
   ]
  },
  {
   "cell_type": "code",
   "execution_count": null,
   "metadata": {},
   "outputs": [],
   "source": []
  },
  {
   "cell_type": "markdown",
   "metadata": {},
   "source": [
    "# Time for the model...."
   ]
  },
  {
   "cell_type": "code",
   "execution_count": null,
   "metadata": {},
   "outputs": [],
   "source": [
    "X_important_train = sfm.transform(train)\n",
    "X_important_test = sfm.transform(test)"
   ]
  },
  {
   "cell_type": "code",
   "execution_count": null,
   "metadata": {},
   "outputs": [],
   "source": [
    "xgb_model.fit(X_important_train,y)\n",
    "pred_rdf_important= xgb_model.predict(X_important_test)"
   ]
  },
  {
   "cell_type": "code",
   "execution_count": null,
   "metadata": {},
   "outputs": [],
   "source": [
    "plt.hist(pred_rdf_important)"
   ]
  },
  {
   "cell_type": "code",
   "execution_count": null,
   "metadata": {},
   "outputs": [],
   "source": [
    "df_submission = pd.read_csv('files/SubmissionFormat.csv')"
   ]
  },
  {
   "cell_type": "code",
   "execution_count": null,
   "metadata": {},
   "outputs": [],
   "source": [
    "df_submission.head()"
   ]
  },
  {
   "cell_type": "code",
   "execution_count": null,
   "metadata": {},
   "outputs": [],
   "source": [
    "df_submission['status_group']=pred_rdf_important"
   ]
  },
  {
   "cell_type": "code",
   "execution_count": null,
   "metadata": {},
   "outputs": [],
   "source": [
    "df_submission.head()"
   ]
  },
  {
   "cell_type": "code",
   "execution_count": null,
   "metadata": {},
   "outputs": [],
   "source": [
    "df_submission.to_csv('fifth_submission.csv', index=False)"
   ]
  },
  {
   "cell_type": "code",
   "execution_count": null,
   "metadata": {},
   "outputs": [],
   "source": []
  }
 ],
 "metadata": {
  "kernelspec": {
   "display_name": "Python 3",
   "language": "python",
   "name": "python3"
  },
  "language_info": {
   "codemirror_mode": {
    "name": "ipython",
    "version": 3
   },
   "file_extension": ".py",
   "mimetype": "text/x-python",
   "name": "python",
   "nbconvert_exporter": "python",
   "pygments_lexer": "ipython3",
   "version": "3.7.6"
  },
  "toc": {
   "base_numbering": 1,
   "nav_menu": {},
   "number_sections": true,
   "sideBar": true,
   "skip_h1_title": false,
   "title_cell": "Table of Contents",
   "title_sidebar": "Contents",
   "toc_cell": true,
   "toc_position": {
    "height": "calc(100% - 180px)",
    "left": "10px",
    "top": "150px",
    "width": "384px"
   },
   "toc_section_display": true,
   "toc_window_display": true
  }
 },
 "nbformat": 4,
 "nbformat_minor": 4
}
