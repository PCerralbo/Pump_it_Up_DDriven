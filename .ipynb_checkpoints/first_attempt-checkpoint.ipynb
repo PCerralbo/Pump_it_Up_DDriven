{
 "cells": [
  {
   "cell_type": "markdown",
   "metadata": {},
   "source": [
    "# Pump it Up: Data Mining the Water Table\n",
    "\n",
    "The goal is to predict the operating condition of a waterpoint for each record in the dataset. You are provided the following set of information about the waterpoints:\n",
    "\n",
    "- amount_tsh - Total static head (amount water available to waterpoint)\n",
    "- date_recorded - The date the row was entered\n",
    "- funder - Who funded the well\n",
    "- gps_height - Altitude of the well\n",
    "- installer - Organization that installed the well\n",
    "- longitude - GPS coordinate\n",
    "- latitude - GPS coordinate\n",
    "- wpt_name - Name of the waterpoint if there is one\n",
    "- num_private -\n",
    "- basin - Geographic water basin\n",
    "- subvillage - Geographic location\n",
    "- region - Geographic location\n",
    "- region_code - Geographic location (coded)\n",
    "- district_code - Geographic location (coded)\n",
    "- lga - Geographic location\n",
    "- ward - Geographic location\n",
    "- population - Population around the well\n",
    "- public_meeting - True/False\n",
    "- recorded_by - Group entering this row of data\n",
    "- scheme_management - Who operates the waterpoint\n",
    "- scheme_name - Who operates the waterpoint\n",
    "- permit - If the waterpoint is permitted\n",
    "- construction_year - Year the waterpoint was constructed\n",
    "- extraction_type - The kind of extraction the waterpoint uses\n",
    "- extraction_type_group - The kind of extraction the waterpoint uses\n",
    "- extraction_type_class - The kind of extraction the waterpoint uses\n",
    "- management - How the waterpoint is managed\n",
    "- management_group - How the waterpoint is managed\n",
    "- payment - What the water costs\n",
    "- payment_type - What the water costs\n",
    "- water_quality - The quality of the water\n",
    "- quality_group - The quality of the water\n",
    "- quantity - The quantity of water\n",
    "- quantity_group - The quantity of water\n",
    "- source - The source of the water\n",
    "- source_type - The source of the water\n",
    "- source_class - The source of the water\n",
    "- waterpoint_type - The kind of waterpoint\n",
    "- waterpoint_type_group - The kind of waterpoint\n",
    "\n",
    "\n",
    "## Antes de empezar\n",
    "1. Estamos ante un problema de clasification. Podemos provar modelos tan variados como: logisticregression (classification), SVM (linear, rbf, ..), random forests, XGB model, e incluso con algun modelo de NN (Deep Learning).\n",
    "2. Lo primero será mirar con calma la variable a predecir: categorica\n",
    "3. Miraremos al detalle todas las features: numericas y categoricas\n",
    "4. missing data, transformar datos (¿log?), estandarizamos (min-max, normalizar,..)\n",
    "5. primer modelo de referencia: probamos con un SVM lineal y uno de rbf para ver si estamos ant modelo lineal o no.\n",
    "\n"
   ]
  },
  {
   "cell_type": "code",
   "execution_count": 1,
   "metadata": {},
   "outputs": [],
   "source": [
    "import pandas as pd\n",
    "import numpy as np\n",
    "import matplotlib.pyplot as plt\n",
    "\n",
    "import seaborn as sns\n",
    "\n",
    "import warnings\n",
    "warnings.filterwarnings('ignore')"
   ]
  },
  {
   "cell_type": "code",
   "execution_count": 2,
   "metadata": {},
   "outputs": [],
   "source": [
    "plots_show=0"
   ]
  },
  {
   "cell_type": "markdown",
   "metadata": {},
   "source": [
    "## 1. Explore the target\n",
    "The labels in this dataset are simple. There are three possible values:\n",
    "\n",
    "- `functional` - the waterpoint is operational and there are no repairs needed\n",
    "- `functional needs repair` - the waterpoint is operational, but needs repairs\n",
    "- `non functional` - the waterpoint is not operational"
   ]
  },
  {
   "cell_type": "code",
   "execution_count": 3,
   "metadata": {},
   "outputs": [],
   "source": [
    "df_train = pd.read_csv('files/train.csv')\n",
    "df_test = pd.read_csv('files/test.csv')\n",
    "target= pd.read_csv('files/labels.csv')\n",
    "\n",
    "# CONCAT THE TWO DATAFRAMES\n",
    "df_train = pd.concat([df_train,target],axis=1)"
   ]
  },
  {
   "cell_type": "code",
   "execution_count": 4,
   "metadata": {},
   "outputs": [
    {
     "data": {
      "text/plain": [
       "<matplotlib.axes._subplots.AxesSubplot at 0x7f6eee20b250>"
      ]
     },
     "execution_count": 4,
     "metadata": {},
     "output_type": "execute_result"
    },
    {
     "data": {
      "image/png": "[encoded data removed]",
      "text/plain": [
       "<Figure size 432x288 with 1 Axes>"
      ]
     },
     "metadata": {
      "needs_background": "light"
     },
     "output_type": "display_data"
    }
   ],
   "source": [
    "sns.countplot(data=df_train, x = 'status_group')"
   ]
  },
  {
   "cell_type": "markdown",
   "metadata": {},
   "source": [
    "Bien, en este sentido los datos no estan bien balanceados. Esto es logico, ya que lo esperado es que la mayoria son funcionales, luego tenemos algunos que no funcionan y finalmente un grupo más pequeño de sistemas que funcionan, pero necesitan reparaciones...\n",
    "Habrá que tener en cuenta esto en los modelos..."
   ]
  },
  {
   "cell_type": "markdown",
   "metadata": {},
   "source": [
    "## 2. Exploramos los datos de entrenamiento"
   ]
  },
  {
   "cell_type": "code",
   "execution_count": 5,
   "metadata": {},
   "outputs": [],
   "source": [
    "df_train.columns\n",
    "df_train.drop(columns=['id'],inplace=True)\n",
    "df_test.drop(columns=['id'],inplace=True)"
   ]
  },
  {
   "cell_type": "code",
   "execution_count": 6,
   "metadata": {},
   "outputs": [
    {
     "data": {
      "text/html": [
       "<div>\n",
       "<style scoped>\n",
       "    .dataframe tbody tr th:only-of-type {\n",
       "        vertical-align: middle;\n",
       "    }\n",
       "\n",
       "    .dataframe tbody tr th {\n",
       "        vertical-align: top;\n",
       "    }\n",
       "\n",
       "    .dataframe thead th {\n",
       "        text-align: right;\n",
       "    }\n",
       "</style>\n",
       "<table border=\"1\" class=\"dataframe\">\n",
       "  <thead>\n",
       "    <tr style=\"text-align: right;\">\n",
       "      <th></th>\n",
       "      <th>amount_tsh</th>\n",
       "      <th>gps_height</th>\n",
       "      <th>longitude</th>\n",
       "      <th>latitude</th>\n",
       "      <th>num_private</th>\n",
       "      <th>region_code</th>\n",
       "      <th>district_code</th>\n",
       "      <th>population</th>\n",
       "      <th>construction_year</th>\n",
       "    </tr>\n",
       "  </thead>\n",
       "  <tbody>\n",
       "    <tr>\n",
       "      <th>count</th>\n",
       "      <td>59400.000000</td>\n",
       "      <td>59400.000000</td>\n",
       "      <td>59400.000000</td>\n",
       "      <td>5.940000e+04</td>\n",
       "      <td>59400.000000</td>\n",
       "      <td>59400.000000</td>\n",
       "      <td>59400.000000</td>\n",
       "      <td>59400.000000</td>\n",
       "      <td>59400.000000</td>\n",
       "    </tr>\n",
       "    <tr>\n",
       "      <th>mean</th>\n",
       "      <td>317.650385</td>\n",
       "      <td>668.297239</td>\n",
       "      <td>34.077427</td>\n",
       "      <td>-5.706033e+00</td>\n",
       "      <td>0.474141</td>\n",
       "      <td>15.297003</td>\n",
       "      <td>5.629747</td>\n",
       "      <td>179.909983</td>\n",
       "      <td>1300.652475</td>\n",
       "    </tr>\n",
       "    <tr>\n",
       "      <th>std</th>\n",
       "      <td>2997.574558</td>\n",
       "      <td>693.116350</td>\n",
       "      <td>6.567432</td>\n",
       "      <td>2.946019e+00</td>\n",
       "      <td>12.236230</td>\n",
       "      <td>17.587406</td>\n",
       "      <td>9.633649</td>\n",
       "      <td>471.482176</td>\n",
       "      <td>951.620547</td>\n",
       "    </tr>\n",
       "    <tr>\n",
       "      <th>min</th>\n",
       "      <td>0.000000</td>\n",
       "      <td>-90.000000</td>\n",
       "      <td>0.000000</td>\n",
       "      <td>-1.164944e+01</td>\n",
       "      <td>0.000000</td>\n",
       "      <td>1.000000</td>\n",
       "      <td>0.000000</td>\n",
       "      <td>0.000000</td>\n",
       "      <td>0.000000</td>\n",
       "    </tr>\n",
       "    <tr>\n",
       "      <th>25%</th>\n",
       "      <td>0.000000</td>\n",
       "      <td>0.000000</td>\n",
       "      <td>33.090347</td>\n",
       "      <td>-8.540621e+00</td>\n",
       "      <td>0.000000</td>\n",
       "      <td>5.000000</td>\n",
       "      <td>2.000000</td>\n",
       "      <td>0.000000</td>\n",
       "      <td>0.000000</td>\n",
       "    </tr>\n",
       "    <tr>\n",
       "      <th>50%</th>\n",
       "      <td>0.000000</td>\n",
       "      <td>369.000000</td>\n",
       "      <td>34.908743</td>\n",
       "      <td>-5.021597e+00</td>\n",
       "      <td>0.000000</td>\n",
       "      <td>12.000000</td>\n",
       "      <td>3.000000</td>\n",
       "      <td>25.000000</td>\n",
       "      <td>1986.000000</td>\n",
       "    </tr>\n",
       "    <tr>\n",
       "      <th>75%</th>\n",
       "      <td>20.000000</td>\n",
       "      <td>1319.250000</td>\n",
       "      <td>37.178387</td>\n",
       "      <td>-3.326156e+00</td>\n",
       "      <td>0.000000</td>\n",
       "      <td>17.000000</td>\n",
       "      <td>5.000000</td>\n",
       "      <td>215.000000</td>\n",
       "      <td>2004.000000</td>\n",
       "    </tr>\n",
       "    <tr>\n",
       "      <th>max</th>\n",
       "      <td>350000.000000</td>\n",
       "      <td>2770.000000</td>\n",
       "      <td>40.345193</td>\n",
       "      <td>-2.000000e-08</td>\n",
       "      <td>1776.000000</td>\n",
       "      <td>99.000000</td>\n",
       "      <td>80.000000</td>\n",
       "      <td>30500.000000</td>\n",
       "      <td>2013.000000</td>\n",
       "    </tr>\n",
       "  </tbody>\n",
       "</table>\n",
       "</div>"
      ],
      "text/plain": [
       "          amount_tsh    gps_height     longitude      latitude   num_private  \\\n",
       "count   59400.000000  59400.000000  59400.000000  5.940000e+04  59400.000000   \n",
       "mean      317.650385    668.297239     34.077427 -5.706033e+00      0.474141   \n",
       "std      2997.574558    693.116350      6.567432  2.946019e+00     12.236230   \n",
       "min         0.000000    -90.000000      0.000000 -1.164944e+01      0.000000   \n",
       "25%         0.000000      0.000000     33.090347 -8.540621e+00      0.000000   \n",
       "50%         0.000000    369.000000     34.908743 -5.021597e+00      0.000000   \n",
       "75%        20.000000   1319.250000     37.178387 -3.326156e+00      0.000000   \n",
       "max    350000.000000   2770.000000     40.345193 -2.000000e-08   1776.000000   \n",
       "\n",
       "        region_code  district_code    population  construction_year  \n",
       "count  59400.000000   59400.000000  59400.000000       59400.000000  \n",
       "mean      15.297003       5.629747    179.909983        1300.652475  \n",
       "std       17.587406       9.633649    471.482176         951.620547  \n",
       "min        1.000000       0.000000      0.000000           0.000000  \n",
       "25%        5.000000       2.000000      0.000000           0.000000  \n",
       "50%       12.000000       3.000000     25.000000        1986.000000  \n",
       "75%       17.000000       5.000000    215.000000        2004.000000  \n",
       "max       99.000000      80.000000  30500.000000        2013.000000  "
      ]
     },
     "execution_count": 6,
     "metadata": {},
     "output_type": "execute_result"
    }
   ],
   "source": [
    "df_train.describe()"
   ]
  },
  {
   "cell_type": "code",
   "execution_count": 7,
   "metadata": {},
   "outputs": [
    {
     "data": {
      "text/plain": [
       "amount_tsh               float64\n",
       "date_recorded             object\n",
       "funder                    object\n",
       "gps_height                 int64\n",
       "installer                 object\n",
       "longitude                float64\n",
       "latitude                 float64\n",
       "wpt_name                  object\n",
       "num_private                int64\n",
       "basin                     object\n",
       "subvillage                object\n",
       "region                    object\n",
       "region_code                int64\n",
       "district_code              int64\n",
       "lga                       object\n",
       "ward                      object\n",
       "population                 int64\n",
       "public_meeting            object\n",
       "recorded_by               object\n",
       "scheme_management         object\n",
       "scheme_name               object\n",
       "permit                    object\n",
       "construction_year          int64\n",
       "extraction_type           object\n",
       "extraction_type_group     object\n",
       "extraction_type_class     object\n",
       "management                object\n",
       "management_group          object\n",
       "payment                   object\n",
       "payment_type              object\n",
       "water_quality             object\n",
       "quality_group             object\n",
       "quantity                  object\n",
       "quantity_group            object\n",
       "source                    object\n",
       "source_type               object\n",
       "source_class              object\n",
       "waterpoint_type           object\n",
       "waterpoint_type_group     object\n",
       "status_group              object\n",
       "dtype: object"
      ]
     },
     "execution_count": 7,
     "metadata": {},
     "output_type": "execute_result"
    }
   ],
   "source": [
    "df_train.dtypes"
   ]
  },
  {
   "cell_type": "code",
   "execution_count": 8,
   "metadata": {},
   "outputs": [
    {
     "data": {
      "text/plain": [
       "funder                3635\n",
       "installer             3655\n",
       "subvillage             371\n",
       "public_meeting        3334\n",
       "scheme_management     3877\n",
       "scheme_name          28166\n",
       "permit                3056\n",
       "dtype: int64"
      ]
     },
     "execution_count": 8,
     "metadata": {},
     "output_type": "execute_result"
    }
   ],
   "source": [
    "null_columns = df_train.columns[df_train.isnull().any()].tolist()\n",
    "df_train[null_columns].isnull().sum()"
   ]
  },
  {
   "cell_type": "markdown",
   "metadata": {},
   "source": [
    "Miramos si hay duplicados y los eliminamos...."
   ]
  },
  {
   "cell_type": "code",
   "execution_count": 9,
   "metadata": {},
   "outputs": [
    {
     "name": "stdout",
     "output_type": "stream",
     "text": [
      "duplicated data : (70, 40)\n"
     ]
    }
   ],
   "source": [
    "print( 'duplicated data :',df_train[df_train.duplicated(keep=False)].sort_values(by='wpt_name').shape)"
   ]
  },
  {
   "cell_type": "code",
   "execution_count": 10,
   "metadata": {},
   "outputs": [
    {
     "name": "stdout",
     "output_type": "stream",
     "text": [
      "final shape df_train:  (59364, 40)\n"
     ]
    }
   ],
   "source": [
    "df_train.drop_duplicates(keep='first', inplace=True)\n",
    "print ('final shape df_train: ', df_train.shape)"
   ]
  },
  {
   "cell_type": "markdown",
   "metadata": {},
   "source": [
    "En este punto me surgen varias dudas:\n",
    "1. Tenemos datos por punto de bombeo una sola vez? O hay varios registros por punto de bombeo?\n",
    "2. Podrian haber filas duplicadas pero con algun error en algun valor?\n",
    "3. Podria haber filas duplicadas pero con target diferente?\n",
    "\n",
    "Hay que mirar esto con calma para acabar de limpiar datos...\n",
    "El problema principal es que no tenemos niguna columna, a priori, que nos pueda servir para identificar puntos de bombeo\n",
    "\n",
    "Miramos las `num_private` y `wpt_name`...."
   ]
  },
  {
   "cell_type": "code",
   "execution_count": 11,
   "metadata": {},
   "outputs": [
    {
     "name": "stdout",
     "output_type": "stream",
     "text": [
      "Duplicated num_private values : 59299\n",
      "Duplicated wpt_name names : 21964\n"
     ]
    }
   ],
   "source": [
    "print('Duplicated num_private values :',\n",
    "      df_train['num_private'].dropna().loc[df_train['num_private'].duplicated()].count())\n",
    "print('Duplicated wpt_name names :',\n",
    "      df_train['wpt_name'].dropna().loc[df_train['wpt_name'].duplicated()].count())"
   ]
  },
  {
   "cell_type": "markdown",
   "metadata": {},
   "source": [
    "`num_private` parece que tiene el 99% de los datos repetidos. Habrá que considerar eliminar esta feature.  \n",
    "`wpt_name`tiene casi la mitad de los nombres repetidos.\n",
    "\n",
    "Niguna de estas dos nos puede servir.\n",
    "\n",
    "Vamos a usar el numero máximo de variables que se puedan considerar únicas de cada punto de muestreo para ver si hay más errores de registros."
   ]
  },
  {
   "cell_type": "code",
   "execution_count": 12,
   "metadata": {},
   "outputs": [
    {
     "name": "stdout",
     "output_type": "stream",
     "text": [
      "Shape of dataframe with duplicated rows:  (90, 40)\n"
     ]
    }
   ],
   "source": [
    "df_kk = df_train[df_train.duplicated(subset=['funder','installer','longitude','latitude','wpt_name',\n",
    "                                             'basin','subvillage','region','region_code','lga',\n",
    "                                             'scheme_management','scheme_name','extraction_type',\n",
    "                                             'extraction_type_group','permit','extraction_type_class',\n",
    "                                            'source','installer','source_type','source_class',\n",
    "                                             'waterpoint_type_group','waterpoint_type','district_code',\n",
    "                                             'ward','quantity_group','quantity','quality_group'],keep=False)]\n",
    "\n",
    "print ('Shape of dataframe with duplicated rows: ',df_kk.shape)"
   ]
  },
  {
   "cell_type": "markdown",
   "metadata": {},
   "source": [
    "Estas las vamos a mirar a mano. (Una a una)"
   ]
  },
  {
   "cell_type": "code",
   "execution_count": 13,
   "metadata": {},
   "outputs": [
    {
     "data": {
      "text/html": [
       "<div>\n",
       "<style scoped>\n",
       "    .dataframe tbody tr th:only-of-type {\n",
       "        vertical-align: middle;\n",
       "    }\n",
       "\n",
       "    .dataframe tbody tr th {\n",
       "        vertical-align: top;\n",
       "    }\n",
       "\n",
       "    .dataframe thead th {\n",
       "        text-align: right;\n",
       "    }\n",
       "</style>\n",
       "<table border=\"1\" class=\"dataframe\">\n",
       "  <thead>\n",
       "    <tr style=\"text-align: right;\">\n",
       "      <th></th>\n",
       "      <th>amount_tsh</th>\n",
       "      <th>date_recorded</th>\n",
       "      <th>funder</th>\n",
       "      <th>gps_height</th>\n",
       "      <th>installer</th>\n",
       "      <th>longitude</th>\n",
       "      <th>latitude</th>\n",
       "      <th>wpt_name</th>\n",
       "      <th>num_private</th>\n",
       "      <th>basin</th>\n",
       "      <th>subvillage</th>\n",
       "      <th>region</th>\n",
       "      <th>region_code</th>\n",
       "      <th>district_code</th>\n",
       "      <th>lga</th>\n",
       "      <th>ward</th>\n",
       "      <th>population</th>\n",
       "      <th>public_meeting</th>\n",
       "      <th>recorded_by</th>\n",
       "      <th>scheme_management</th>\n",
       "      <th>scheme_name</th>\n",
       "      <th>permit</th>\n",
       "      <th>construction_year</th>\n",
       "      <th>extraction_type</th>\n",
       "      <th>extraction_type_group</th>\n",
       "      <th>extraction_type_class</th>\n",
       "      <th>management</th>\n",
       "      <th>management_group</th>\n",
       "      <th>payment</th>\n",
       "      <th>payment_type</th>\n",
       "      <th>water_quality</th>\n",
       "      <th>quality_group</th>\n",
       "      <th>quantity</th>\n",
       "      <th>quantity_group</th>\n",
       "      <th>source</th>\n",
       "      <th>source_type</th>\n",
       "      <th>source_class</th>\n",
       "      <th>waterpoint_type</th>\n",
       "      <th>waterpoint_type_group</th>\n",
       "      <th>status_group</th>\n",
       "    </tr>\n",
       "  </thead>\n",
       "  <tbody>\n",
       "    <tr>\n",
       "      <th>56544</th>\n",
       "      <td>0.0</td>\n",
       "      <td>2011-03-27</td>\n",
       "      <td>W.D &amp; I.</td>\n",
       "      <td>562</td>\n",
       "      <td>RWE</td>\n",
       "      <td>37.542785</td>\n",
       "      <td>-6.965834</td>\n",
       "      <td>Kwa Kitula Mbenge</td>\n",
       "      <td>0</td>\n",
       "      <td>Wami / Ruvu</td>\n",
       "      <td>Gudugudu</td>\n",
       "      <td>Morogoro</td>\n",
       "      <td>5</td>\n",
       "      <td>6</td>\n",
       "      <td>Mvomero</td>\n",
       "      <td>Mlali</td>\n",
       "      <td>1</td>\n",
       "      <td>True</td>\n",
       "      <td>GeoData Consultants Ltd</td>\n",
       "      <td>VWC</td>\n",
       "      <td>Mongwa r</td>\n",
       "      <td>True</td>\n",
       "      <td>1960</td>\n",
       "      <td>gravity</td>\n",
       "      <td>gravity</td>\n",
       "      <td>gravity</td>\n",
       "      <td>vwc</td>\n",
       "      <td>user-group</td>\n",
       "      <td>never pay</td>\n",
       "      <td>never pay</td>\n",
       "      <td>soft</td>\n",
       "      <td>good</td>\n",
       "      <td>enough</td>\n",
       "      <td>enough</td>\n",
       "      <td>river</td>\n",
       "      <td>river/lake</td>\n",
       "      <td>surface</td>\n",
       "      <td>communal standpipe</td>\n",
       "      <td>communal standpipe</td>\n",
       "      <td>non functional</td>\n",
       "    </tr>\n",
       "    <tr>\n",
       "      <th>43089</th>\n",
       "      <td>0.0</td>\n",
       "      <td>2011-03-27</td>\n",
       "      <td>W.D &amp; I.</td>\n",
       "      <td>567</td>\n",
       "      <td>RWE</td>\n",
       "      <td>37.543351</td>\n",
       "      <td>-6.963557</td>\n",
       "      <td>Kwa Leha</td>\n",
       "      <td>0</td>\n",
       "      <td>Wami / Ruvu</td>\n",
       "      <td>Gudugudu</td>\n",
       "      <td>Morogoro</td>\n",
       "      <td>5</td>\n",
       "      <td>6</td>\n",
       "      <td>Mvomero</td>\n",
       "      <td>Mlali</td>\n",
       "      <td>90</td>\n",
       "      <td>True</td>\n",
       "      <td>GeoData Consultants Ltd</td>\n",
       "      <td>VWC</td>\n",
       "      <td>Mongwa r</td>\n",
       "      <td>True</td>\n",
       "      <td>1968</td>\n",
       "      <td>gravity</td>\n",
       "      <td>gravity</td>\n",
       "      <td>gravity</td>\n",
       "      <td>vwc</td>\n",
       "      <td>user-group</td>\n",
       "      <td>never pay</td>\n",
       "      <td>never pay</td>\n",
       "      <td>soft</td>\n",
       "      <td>good</td>\n",
       "      <td>enough</td>\n",
       "      <td>enough</td>\n",
       "      <td>river</td>\n",
       "      <td>river/lake</td>\n",
       "      <td>surface</td>\n",
       "      <td>communal standpipe</td>\n",
       "      <td>communal standpipe</td>\n",
       "      <td>functional needs repair</td>\n",
       "    </tr>\n",
       "    <tr>\n",
       "      <th>48859</th>\n",
       "      <td>0.0</td>\n",
       "      <td>2011-03-24</td>\n",
       "      <td>W.D &amp; I.</td>\n",
       "      <td>567</td>\n",
       "      <td>RWE</td>\n",
       "      <td>37.543351</td>\n",
       "      <td>-6.963557</td>\n",
       "      <td>Kwa Leha</td>\n",
       "      <td>0</td>\n",
       "      <td>Wami / Ruvu</td>\n",
       "      <td>Gudugudu</td>\n",
       "      <td>Morogoro</td>\n",
       "      <td>5</td>\n",
       "      <td>6</td>\n",
       "      <td>Mvomero</td>\n",
       "      <td>Mlali</td>\n",
       "      <td>90</td>\n",
       "      <td>True</td>\n",
       "      <td>GeoData Consultants Ltd</td>\n",
       "      <td>VWC</td>\n",
       "      <td>Mongwa r</td>\n",
       "      <td>True</td>\n",
       "      <td>1968</td>\n",
       "      <td>gravity</td>\n",
       "      <td>gravity</td>\n",
       "      <td>gravity</td>\n",
       "      <td>vwc</td>\n",
       "      <td>user-group</td>\n",
       "      <td>never pay</td>\n",
       "      <td>never pay</td>\n",
       "      <td>soft</td>\n",
       "      <td>good</td>\n",
       "      <td>enough</td>\n",
       "      <td>enough</td>\n",
       "      <td>river</td>\n",
       "      <td>river/lake</td>\n",
       "      <td>surface</td>\n",
       "      <td>communal standpipe</td>\n",
       "      <td>communal standpipe</td>\n",
       "      <td>functional needs repair</td>\n",
       "    </tr>\n",
       "    <tr>\n",
       "      <th>51584</th>\n",
       "      <td>0.0</td>\n",
       "      <td>2011-03-24</td>\n",
       "      <td>Government Of Tanzania</td>\n",
       "      <td>568</td>\n",
       "      <td>RWE</td>\n",
       "      <td>37.543401</td>\n",
       "      <td>-6.958716</td>\n",
       "      <td>Kwa Veremond Kunambi</td>\n",
       "      <td>0</td>\n",
       "      <td>Wami / Ruvu</td>\n",
       "      <td>Majengo</td>\n",
       "      <td>Morogoro</td>\n",
       "      <td>5</td>\n",
       "      <td>6</td>\n",
       "      <td>Mvomero</td>\n",
       "      <td>Mlali</td>\n",
       "      <td>1</td>\n",
       "      <td>True</td>\n",
       "      <td>GeoData Consultants Ltd</td>\n",
       "      <td>VWC</td>\n",
       "      <td>Mongwa r</td>\n",
       "      <td>True</td>\n",
       "      <td>1974</td>\n",
       "      <td>gravity</td>\n",
       "      <td>gravity</td>\n",
       "      <td>gravity</td>\n",
       "      <td>vwc</td>\n",
       "      <td>user-group</td>\n",
       "      <td>never pay</td>\n",
       "      <td>never pay</td>\n",
       "      <td>soft</td>\n",
       "      <td>good</td>\n",
       "      <td>enough</td>\n",
       "      <td>enough</td>\n",
       "      <td>river</td>\n",
       "      <td>river/lake</td>\n",
       "      <td>surface</td>\n",
       "      <td>communal standpipe</td>\n",
       "      <td>communal standpipe</td>\n",
       "      <td>non functional</td>\n",
       "    </tr>\n",
       "    <tr>\n",
       "      <th>17294</th>\n",
       "      <td>0.0</td>\n",
       "      <td>2011-03-27</td>\n",
       "      <td>Government Of Tanzania</td>\n",
       "      <td>568</td>\n",
       "      <td>RWE</td>\n",
       "      <td>37.543401</td>\n",
       "      <td>-6.958716</td>\n",
       "      <td>Kwa Veremond Kunambi</td>\n",
       "      <td>0</td>\n",
       "      <td>Wami / Ruvu</td>\n",
       "      <td>Majengo</td>\n",
       "      <td>Morogoro</td>\n",
       "      <td>5</td>\n",
       "      <td>6</td>\n",
       "      <td>Mvomero</td>\n",
       "      <td>Mlali</td>\n",
       "      <td>1</td>\n",
       "      <td>True</td>\n",
       "      <td>GeoData Consultants Ltd</td>\n",
       "      <td>VWC</td>\n",
       "      <td>Mongwa r</td>\n",
       "      <td>True</td>\n",
       "      <td>1974</td>\n",
       "      <td>gravity</td>\n",
       "      <td>gravity</td>\n",
       "      <td>gravity</td>\n",
       "      <td>vwc</td>\n",
       "      <td>user-group</td>\n",
       "      <td>never pay</td>\n",
       "      <td>never pay</td>\n",
       "      <td>soft</td>\n",
       "      <td>good</td>\n",
       "      <td>enough</td>\n",
       "      <td>enough</td>\n",
       "      <td>river</td>\n",
       "      <td>river/lake</td>\n",
       "      <td>surface</td>\n",
       "      <td>communal standpipe</td>\n",
       "      <td>communal standpipe</td>\n",
       "      <td>non functional</td>\n",
       "    </tr>\n",
       "  </tbody>\n",
       "</table>\n",
       "</div>"
      ],
      "text/plain": [
       "       amount_tsh date_recorded                  funder  gps_height installer  \\\n",
       "56544         0.0    2011-03-27                W.D & I.         562       RWE   \n",
       "43089         0.0    2011-03-27                W.D & I.         567       RWE   \n",
       "48859         0.0    2011-03-24                W.D & I.         567       RWE   \n",
       "51584         0.0    2011-03-24  Government Of Tanzania         568       RWE   \n",
       "17294         0.0    2011-03-27  Government Of Tanzania         568       RWE   \n",
       "\n",
       "       longitude  latitude              wpt_name  num_private        basin  \\\n",
       "56544  37.542785 -6.965834     Kwa Kitula Mbenge            0  Wami / Ruvu   \n",
       "43089  37.543351 -6.963557              Kwa Leha            0  Wami / Ruvu   \n",
       "48859  37.543351 -6.963557              Kwa Leha            0  Wami / Ruvu   \n",
       "51584  37.543401 -6.958716  Kwa Veremond Kunambi            0  Wami / Ruvu   \n",
       "17294  37.543401 -6.958716  Kwa Veremond Kunambi            0  Wami / Ruvu   \n",
       "\n",
       "      subvillage    region  region_code  district_code      lga   ward  \\\n",
       "56544   Gudugudu  Morogoro            5              6  Mvomero  Mlali   \n",
       "43089   Gudugudu  Morogoro            5              6  Mvomero  Mlali   \n",
       "48859   Gudugudu  Morogoro            5              6  Mvomero  Mlali   \n",
       "51584    Majengo  Morogoro            5              6  Mvomero  Mlali   \n",
       "17294    Majengo  Morogoro            5              6  Mvomero  Mlali   \n",
       "\n",
       "       population public_meeting              recorded_by scheme_management  \\\n",
       "56544           1           True  GeoData Consultants Ltd               VWC   \n",
       "43089          90           True  GeoData Consultants Ltd               VWC   \n",
       "48859          90           True  GeoData Consultants Ltd               VWC   \n",
       "51584           1           True  GeoData Consultants Ltd               VWC   \n",
       "17294           1           True  GeoData Consultants Ltd               VWC   \n",
       "\n",
       "      scheme_name permit  construction_year extraction_type  \\\n",
       "56544    Mongwa r   True               1960         gravity   \n",
       "43089    Mongwa r   True               1968         gravity   \n",
       "48859    Mongwa r   True               1968         gravity   \n",
       "51584    Mongwa r   True               1974         gravity   \n",
       "17294    Mongwa r   True               1974         gravity   \n",
       "\n",
       "      extraction_type_group extraction_type_class management management_group  \\\n",
       "56544               gravity               gravity        vwc       user-group   \n",
       "43089               gravity               gravity        vwc       user-group   \n",
       "48859               gravity               gravity        vwc       user-group   \n",
       "51584               gravity               gravity        vwc       user-group   \n",
       "17294               gravity               gravity        vwc       user-group   \n",
       "\n",
       "         payment payment_type water_quality quality_group quantity  \\\n",
       "56544  never pay    never pay          soft          good   enough   \n",
       "43089  never pay    never pay          soft          good   enough   \n",
       "48859  never pay    never pay          soft          good   enough   \n",
       "51584  never pay    never pay          soft          good   enough   \n",
       "17294  never pay    never pay          soft          good   enough   \n",
       "\n",
       "      quantity_group source source_type source_class     waterpoint_type  \\\n",
       "56544         enough  river  river/lake      surface  communal standpipe   \n",
       "43089         enough  river  river/lake      surface  communal standpipe   \n",
       "48859         enough  river  river/lake      surface  communal standpipe   \n",
       "51584         enough  river  river/lake      surface  communal standpipe   \n",
       "17294         enough  river  river/lake      surface  communal standpipe   \n",
       "\n",
       "      waterpoint_type_group             status_group  \n",
       "56544    communal standpipe           non functional  \n",
       "43089    communal standpipe  functional needs repair  \n",
       "48859    communal standpipe  functional needs repair  \n",
       "51584    communal standpipe           non functional  \n",
       "17294    communal standpipe           non functional  "
      ]
     },
     "execution_count": 13,
     "metadata": {},
     "output_type": "execute_result"
    }
   ],
   "source": [
    "pd.set_option('display.max_columns', None)\n",
    "pd.set_option('display.max_rows', None)\n",
    "df_kk.sort_values(by='longitude').tail(5)"
   ]
  },
  {
   "cell_type": "markdown",
   "metadata": {},
   "source": [
    "- index **56599 and 2422** shows same registered data (all equal) but different target (functional and functional needs repair). We will drop both.. \n",
    "\n",
    "- index 17210 and **51478** in this case we have 2 registers different days with different targets: one 2011-08-05 (functional needs repair) and 2013-01-28(no functional) --> ¿utilizamos los dos? o solo uno? Si queremos los dos, hay que ver como consideramos las fechas.....**por ahora eliminaremos el primero, y dejaremos el no functional, pero habrá que mirar si las fechas son importantes**\n",
    "\n",
    "- index 35306 and 30708 shows the same data, but 30708 have information more accurated for som columns (amount_tsh, gps_height, ...). The **35306** should be droped.\n",
    "\n",
    "- index 43948 and 38346. More info in 38346, **43948** should be droped\n",
    "\n",
    "- in. 44676 and 47145. **47145** should be dropped\n",
    "\n",
    "- in. 9129 and 8057. **8057** should be dropped.\n",
    "\n",
    "- in. 2457 and **48946**\n",
    "\n",
    "- few more rows like previous ones....we should drop: **9283, 58561,  44079, 23856, 58190, 54551, 29596, 42876, 46455, 2401, 31851, 35674, 11895, 42163, 30622, 4125,**\n",
    "\n",
    "- in. 29367 and 19866 (same for 50330-50232, 51319-29640, 50878-48361, 13570-29872, 30760-8896, 24983-28701, 37766-17442, 51672-50694, 38604-7560, 2287-10267, 41601-50543, 15917-57824, 6775-8979, 11121-13864, 24995-24029, 41398-27569, 57423-9187, 8630-6516, 37198-56544, 43089-48859, 51584-17294   have same data for all rows (only variation is for date -1 week of difference-, so we drop one of them). **19866, 50232, 29640, 48361,  29872, 8896, 28701, 17442, 50694, 7560, 10267, 50543, 57824, 8979, 13864, 24029, 27569, 9187, 6516, 37198, 48859 and 17294**"
   ]
  },
  {
   "cell_type": "code",
   "execution_count": 14,
   "metadata": {},
   "outputs": [],
   "source": [
    "df_train.drop([56599, 2422, 51478, 35306,43948,47145,8057,48946,9283,58561,44079,23856,58160,54551,\n",
    "                     29596,42876,46455,2401,31851,35674,11895,42163,30622,4125,19866,50232, 29640,\n",
    "                     48361,29872,8896,28701,17442,50694,7560,10267,50543,8979,13864,24029,27569,9187,\n",
    "                     6516,37198,48859,17294], inplace=True)"
   ]
  },
  {
   "cell_type": "code",
   "execution_count": 15,
   "metadata": {},
   "outputs": [
    {
     "data": {
      "text/plain": [
       "(59319, 40)"
      ]
     },
     "execution_count": 15,
     "metadata": {},
     "output_type": "execute_result"
    }
   ],
   "source": [
    "df_train.shape"
   ]
  },
  {
   "cell_type": "code",
   "execution_count": 16,
   "metadata": {},
   "outputs": [
    {
     "data": {
      "text/html": [
       "<div>\n",
       "<style scoped>\n",
       "    .dataframe tbody tr th:only-of-type {\n",
       "        vertical-align: middle;\n",
       "    }\n",
       "\n",
       "    .dataframe tbody tr th {\n",
       "        vertical-align: top;\n",
       "    }\n",
       "\n",
       "    .dataframe thead th {\n",
       "        text-align: right;\n",
       "    }\n",
       "</style>\n",
       "<table border=\"1\" class=\"dataframe\">\n",
       "  <thead>\n",
       "    <tr style=\"text-align: right;\">\n",
       "      <th></th>\n",
       "      <th>amount_tsh</th>\n",
       "      <th>date_recorded</th>\n",
       "      <th>funder</th>\n",
       "      <th>gps_height</th>\n",
       "      <th>installer</th>\n",
       "      <th>longitude</th>\n",
       "      <th>latitude</th>\n",
       "      <th>wpt_name</th>\n",
       "      <th>num_private</th>\n",
       "      <th>basin</th>\n",
       "      <th>subvillage</th>\n",
       "      <th>region</th>\n",
       "      <th>region_code</th>\n",
       "      <th>district_code</th>\n",
       "      <th>lga</th>\n",
       "      <th>ward</th>\n",
       "      <th>population</th>\n",
       "      <th>public_meeting</th>\n",
       "      <th>recorded_by</th>\n",
       "      <th>scheme_management</th>\n",
       "      <th>scheme_name</th>\n",
       "      <th>permit</th>\n",
       "      <th>construction_year</th>\n",
       "      <th>extraction_type</th>\n",
       "      <th>extraction_type_group</th>\n",
       "      <th>extraction_type_class</th>\n",
       "      <th>management</th>\n",
       "      <th>management_group</th>\n",
       "      <th>payment</th>\n",
       "      <th>payment_type</th>\n",
       "      <th>water_quality</th>\n",
       "      <th>quality_group</th>\n",
       "      <th>quantity</th>\n",
       "      <th>quantity_group</th>\n",
       "      <th>source</th>\n",
       "      <th>source_type</th>\n",
       "      <th>source_class</th>\n",
       "      <th>waterpoint_type</th>\n",
       "      <th>waterpoint_type_group</th>\n",
       "      <th>status_group</th>\n",
       "    </tr>\n",
       "  </thead>\n",
       "  <tbody>\n",
       "    <tr>\n",
       "      <th>0</th>\n",
       "      <td>6000.0</td>\n",
       "      <td>2011-03-14</td>\n",
       "      <td>Roman</td>\n",
       "      <td>1390</td>\n",
       "      <td>Roman</td>\n",
       "      <td>34.938093</td>\n",
       "      <td>-9.856322</td>\n",
       "      <td>none</td>\n",
       "      <td>0</td>\n",
       "      <td>Lake Nyasa</td>\n",
       "      <td>Mnyusi B</td>\n",
       "      <td>Iringa</td>\n",
       "      <td>11</td>\n",
       "      <td>5</td>\n",
       "      <td>Ludewa</td>\n",
       "      <td>Mundindi</td>\n",
       "      <td>109</td>\n",
       "      <td>True</td>\n",
       "      <td>GeoData Consultants Ltd</td>\n",
       "      <td>VWC</td>\n",
       "      <td>Roman</td>\n",
       "      <td>False</td>\n",
       "      <td>1999</td>\n",
       "      <td>gravity</td>\n",
       "      <td>gravity</td>\n",
       "      <td>gravity</td>\n",
       "      <td>vwc</td>\n",
       "      <td>user-group</td>\n",
       "      <td>pay annually</td>\n",
       "      <td>annually</td>\n",
       "      <td>soft</td>\n",
       "      <td>good</td>\n",
       "      <td>enough</td>\n",
       "      <td>enough</td>\n",
       "      <td>spring</td>\n",
       "      <td>spring</td>\n",
       "      <td>groundwater</td>\n",
       "      <td>communal standpipe</td>\n",
       "      <td>communal standpipe</td>\n",
       "      <td>functional</td>\n",
       "    </tr>\n",
       "    <tr>\n",
       "      <th>1</th>\n",
       "      <td>0.0</td>\n",
       "      <td>2013-03-06</td>\n",
       "      <td>Grumeti</td>\n",
       "      <td>1399</td>\n",
       "      <td>GRUMETI</td>\n",
       "      <td>34.698766</td>\n",
       "      <td>-2.147466</td>\n",
       "      <td>Zahanati</td>\n",
       "      <td>0</td>\n",
       "      <td>Lake Victoria</td>\n",
       "      <td>Nyamara</td>\n",
       "      <td>Mara</td>\n",
       "      <td>20</td>\n",
       "      <td>2</td>\n",
       "      <td>Serengeti</td>\n",
       "      <td>Natta</td>\n",
       "      <td>280</td>\n",
       "      <td>NaN</td>\n",
       "      <td>GeoData Consultants Ltd</td>\n",
       "      <td>Other</td>\n",
       "      <td>NaN</td>\n",
       "      <td>True</td>\n",
       "      <td>2010</td>\n",
       "      <td>gravity</td>\n",
       "      <td>gravity</td>\n",
       "      <td>gravity</td>\n",
       "      <td>wug</td>\n",
       "      <td>user-group</td>\n",
       "      <td>never pay</td>\n",
       "      <td>never pay</td>\n",
       "      <td>soft</td>\n",
       "      <td>good</td>\n",
       "      <td>insufficient</td>\n",
       "      <td>insufficient</td>\n",
       "      <td>rainwater harvesting</td>\n",
       "      <td>rainwater harvesting</td>\n",
       "      <td>surface</td>\n",
       "      <td>communal standpipe</td>\n",
       "      <td>communal standpipe</td>\n",
       "      <td>functional</td>\n",
       "    </tr>\n",
       "    <tr>\n",
       "      <th>2</th>\n",
       "      <td>25.0</td>\n",
       "      <td>2013-02-25</td>\n",
       "      <td>Lottery Club</td>\n",
       "      <td>686</td>\n",
       "      <td>World vision</td>\n",
       "      <td>37.460664</td>\n",
       "      <td>-3.821329</td>\n",
       "      <td>Kwa Mahundi</td>\n",
       "      <td>0</td>\n",
       "      <td>Pangani</td>\n",
       "      <td>Majengo</td>\n",
       "      <td>Manyara</td>\n",
       "      <td>21</td>\n",
       "      <td>4</td>\n",
       "      <td>Simanjiro</td>\n",
       "      <td>Ngorika</td>\n",
       "      <td>250</td>\n",
       "      <td>True</td>\n",
       "      <td>GeoData Consultants Ltd</td>\n",
       "      <td>VWC</td>\n",
       "      <td>Nyumba ya mungu pipe scheme</td>\n",
       "      <td>True</td>\n",
       "      <td>2009</td>\n",
       "      <td>gravity</td>\n",
       "      <td>gravity</td>\n",
       "      <td>gravity</td>\n",
       "      <td>vwc</td>\n",
       "      <td>user-group</td>\n",
       "      <td>pay per bucket</td>\n",
       "      <td>per bucket</td>\n",
       "      <td>soft</td>\n",
       "      <td>good</td>\n",
       "      <td>enough</td>\n",
       "      <td>enough</td>\n",
       "      <td>dam</td>\n",
       "      <td>dam</td>\n",
       "      <td>surface</td>\n",
       "      <td>communal standpipe multiple</td>\n",
       "      <td>communal standpipe</td>\n",
       "      <td>functional</td>\n",
       "    </tr>\n",
       "    <tr>\n",
       "      <th>3</th>\n",
       "      <td>0.0</td>\n",
       "      <td>2013-01-28</td>\n",
       "      <td>Unicef</td>\n",
       "      <td>263</td>\n",
       "      <td>UNICEF</td>\n",
       "      <td>38.486161</td>\n",
       "      <td>-11.155298</td>\n",
       "      <td>Zahanati Ya Nanyumbu</td>\n",
       "      <td>0</td>\n",
       "      <td>Ruvuma / Southern Coast</td>\n",
       "      <td>Mahakamani</td>\n",
       "      <td>Mtwara</td>\n",
       "      <td>90</td>\n",
       "      <td>63</td>\n",
       "      <td>Nanyumbu</td>\n",
       "      <td>Nanyumbu</td>\n",
       "      <td>58</td>\n",
       "      <td>True</td>\n",
       "      <td>GeoData Consultants Ltd</td>\n",
       "      <td>VWC</td>\n",
       "      <td>NaN</td>\n",
       "      <td>True</td>\n",
       "      <td>1986</td>\n",
       "      <td>submersible</td>\n",
       "      <td>submersible</td>\n",
       "      <td>submersible</td>\n",
       "      <td>vwc</td>\n",
       "      <td>user-group</td>\n",
       "      <td>never pay</td>\n",
       "      <td>never pay</td>\n",
       "      <td>soft</td>\n",
       "      <td>good</td>\n",
       "      <td>dry</td>\n",
       "      <td>dry</td>\n",
       "      <td>machine dbh</td>\n",
       "      <td>borehole</td>\n",
       "      <td>groundwater</td>\n",
       "      <td>communal standpipe multiple</td>\n",
       "      <td>communal standpipe</td>\n",
       "      <td>non functional</td>\n",
       "    </tr>\n",
       "    <tr>\n",
       "      <th>4</th>\n",
       "      <td>0.0</td>\n",
       "      <td>2011-07-13</td>\n",
       "      <td>Action In A</td>\n",
       "      <td>0</td>\n",
       "      <td>Artisan</td>\n",
       "      <td>31.130847</td>\n",
       "      <td>-1.825359</td>\n",
       "      <td>Shuleni</td>\n",
       "      <td>0</td>\n",
       "      <td>Lake Victoria</td>\n",
       "      <td>Kyanyamisa</td>\n",
       "      <td>Kagera</td>\n",
       "      <td>18</td>\n",
       "      <td>1</td>\n",
       "      <td>Karagwe</td>\n",
       "      <td>Nyakasimbi</td>\n",
       "      <td>0</td>\n",
       "      <td>True</td>\n",
       "      <td>GeoData Consultants Ltd</td>\n",
       "      <td>NaN</td>\n",
       "      <td>NaN</td>\n",
       "      <td>True</td>\n",
       "      <td>0</td>\n",
       "      <td>gravity</td>\n",
       "      <td>gravity</td>\n",
       "      <td>gravity</td>\n",
       "      <td>other</td>\n",
       "      <td>other</td>\n",
       "      <td>never pay</td>\n",
       "      <td>never pay</td>\n",
       "      <td>soft</td>\n",
       "      <td>good</td>\n",
       "      <td>seasonal</td>\n",
       "      <td>seasonal</td>\n",
       "      <td>rainwater harvesting</td>\n",
       "      <td>rainwater harvesting</td>\n",
       "      <td>surface</td>\n",
       "      <td>communal standpipe</td>\n",
       "      <td>communal standpipe</td>\n",
       "      <td>functional</td>\n",
       "    </tr>\n",
       "  </tbody>\n",
       "</table>\n",
       "</div>"
      ],
      "text/plain": [
       "   amount_tsh date_recorded        funder  gps_height     installer  \\\n",
       "0      6000.0    2011-03-14         Roman        1390         Roman   \n",
       "1         0.0    2013-03-06       Grumeti        1399       GRUMETI   \n",
       "2        25.0    2013-02-25  Lottery Club         686  World vision   \n",
       "3         0.0    2013-01-28        Unicef         263        UNICEF   \n",
       "4         0.0    2011-07-13   Action In A           0       Artisan   \n",
       "\n",
       "   longitude   latitude              wpt_name  num_private  \\\n",
       "0  34.938093  -9.856322                  none            0   \n",
       "1  34.698766  -2.147466              Zahanati            0   \n",
       "2  37.460664  -3.821329           Kwa Mahundi            0   \n",
       "3  38.486161 -11.155298  Zahanati Ya Nanyumbu            0   \n",
       "4  31.130847  -1.825359               Shuleni            0   \n",
       "\n",
       "                     basin  subvillage   region  region_code  district_code  \\\n",
       "0               Lake Nyasa    Mnyusi B   Iringa           11              5   \n",
       "1            Lake Victoria     Nyamara     Mara           20              2   \n",
       "2                  Pangani     Majengo  Manyara           21              4   \n",
       "3  Ruvuma / Southern Coast  Mahakamani   Mtwara           90             63   \n",
       "4            Lake Victoria  Kyanyamisa   Kagera           18              1   \n",
       "\n",
       "         lga        ward  population public_meeting              recorded_by  \\\n",
       "0     Ludewa    Mundindi         109           True  GeoData Consultants Ltd   \n",
       "1  Serengeti       Natta         280            NaN  GeoData Consultants Ltd   \n",
       "2  Simanjiro     Ngorika         250           True  GeoData Consultants Ltd   \n",
       "3   Nanyumbu    Nanyumbu          58           True  GeoData Consultants Ltd   \n",
       "4    Karagwe  Nyakasimbi           0           True  GeoData Consultants Ltd   \n",
       "\n",
       "  scheme_management                  scheme_name permit  construction_year  \\\n",
       "0               VWC                        Roman  False               1999   \n",
       "1             Other                          NaN   True               2010   \n",
       "2               VWC  Nyumba ya mungu pipe scheme   True               2009   \n",
       "3               VWC                          NaN   True               1986   \n",
       "4               NaN                          NaN   True                  0   \n",
       "\n",
       "  extraction_type extraction_type_group extraction_type_class management  \\\n",
       "0         gravity               gravity               gravity        vwc   \n",
       "1         gravity               gravity               gravity        wug   \n",
       "2         gravity               gravity               gravity        vwc   \n",
       "3     submersible           submersible           submersible        vwc   \n",
       "4         gravity               gravity               gravity      other   \n",
       "\n",
       "  management_group         payment payment_type water_quality quality_group  \\\n",
       "0       user-group    pay annually     annually          soft          good   \n",
       "1       user-group       never pay    never pay          soft          good   \n",
       "2       user-group  pay per bucket   per bucket          soft          good   \n",
       "3       user-group       never pay    never pay          soft          good   \n",
       "4            other       never pay    never pay          soft          good   \n",
       "\n",
       "       quantity quantity_group                source           source_type  \\\n",
       "0        enough         enough                spring                spring   \n",
       "1  insufficient   insufficient  rainwater harvesting  rainwater harvesting   \n",
       "2        enough         enough                   dam                   dam   \n",
       "3           dry            dry           machine dbh              borehole   \n",
       "4      seasonal       seasonal  rainwater harvesting  rainwater harvesting   \n",
       "\n",
       "  source_class              waterpoint_type waterpoint_type_group  \\\n",
       "0  groundwater           communal standpipe    communal standpipe   \n",
       "1      surface           communal standpipe    communal standpipe   \n",
       "2      surface  communal standpipe multiple    communal standpipe   \n",
       "3  groundwater  communal standpipe multiple    communal standpipe   \n",
       "4      surface           communal standpipe    communal standpipe   \n",
       "\n",
       "     status_group  \n",
       "0      functional  \n",
       "1      functional  \n",
       "2      functional  \n",
       "3  non functional  \n",
       "4      functional  "
      ]
     },
     "execution_count": 16,
     "metadata": {},
     "output_type": "execute_result"
    }
   ],
   "source": [
    "df_train.head(5)"
   ]
  },
  {
   "cell_type": "markdown",
   "metadata": {},
   "source": [
    "## Analisis de las variables (una a una)\n",
    "\n",
    "### <font color='green'> Variables a eliminar </font>\n",
    "\n",
    "Algunas variables a eliminar (a priori):\n",
    "1. latitud y longitud: sirven para identificar puntos únicos y posibles duplicados, pero como variable no veo que pueda servir. **Drop `latitude` and `longitude`**\n",
    "2. `num_private` parece que tenemos muy pocos datos (lo volvemos a mirar y si hay muy poco lo podemos eliminar.\n",
    "3. `region` and `region_code` are the same? si son lo mismo eliminamos una de ellas no? --> NO lo son!\n",
    "4. lo mismo para `lga` y `district_code` --> NO lo son\n",
    "5. lo mismo para `extraction_type` and `extraction_type_group` --> NO, son diferentes\n",
    "6. lo mismo para `payment` and `payment_type` --> **SI, son iguales. Drop `payment_type`**\n",
    "7. ¿lo mismo para `management` and `management_group`? --> No. No eliminamos ninguno porque uno de ellos es agrupaciones del otro, y esto puede dar información util.\n",
    "8. ¿`water_quality` and `quality_group`? --> No. Idem.\n",
    "9. ¿`quantity` and `quantity_group`? --> No. Idem.\n",
    "10. ¿`source` and `source_type`? --> No. Idem."
   ]
  },
  {
   "cell_type": "code",
   "execution_count": 17,
   "metadata": {},
   "outputs": [
    {
     "data": {
      "text/html": [
       "<div>\n",
       "<style scoped>\n",
       "    .dataframe tbody tr th:only-of-type {\n",
       "        vertical-align: middle;\n",
       "    }\n",
       "\n",
       "    .dataframe tbody tr th {\n",
       "        vertical-align: top;\n",
       "    }\n",
       "\n",
       "    .dataframe thead th {\n",
       "        text-align: right;\n",
       "    }\n",
       "</style>\n",
       "<table border=\"1\" class=\"dataframe\">\n",
       "  <thead>\n",
       "    <tr style=\"text-align: right;\">\n",
       "      <th></th>\n",
       "      <th>payment</th>\n",
       "      <th>payment_type</th>\n",
       "    </tr>\n",
       "    <tr>\n",
       "      <th>payment_type</th>\n",
       "      <th></th>\n",
       "      <th></th>\n",
       "    </tr>\n",
       "  </thead>\n",
       "  <tbody>\n",
       "    <tr>\n",
       "      <th>annually</th>\n",
       "      <td>1</td>\n",
       "      <td>1</td>\n",
       "    </tr>\n",
       "    <tr>\n",
       "      <th>monthly</th>\n",
       "      <td>1</td>\n",
       "      <td>1</td>\n",
       "    </tr>\n",
       "    <tr>\n",
       "      <th>never pay</th>\n",
       "      <td>1</td>\n",
       "      <td>1</td>\n",
       "    </tr>\n",
       "    <tr>\n",
       "      <th>on failure</th>\n",
       "      <td>1</td>\n",
       "      <td>1</td>\n",
       "    </tr>\n",
       "    <tr>\n",
       "      <th>other</th>\n",
       "      <td>1</td>\n",
       "      <td>1</td>\n",
       "    </tr>\n",
       "    <tr>\n",
       "      <th>per bucket</th>\n",
       "      <td>1</td>\n",
       "      <td>1</td>\n",
       "    </tr>\n",
       "    <tr>\n",
       "      <th>unknown</th>\n",
       "      <td>1</td>\n",
       "      <td>1</td>\n",
       "    </tr>\n",
       "  </tbody>\n",
       "</table>\n",
       "</div>"
      ],
      "text/plain": [
       "              payment  payment_type\n",
       "payment_type                       \n",
       "annually            1             1\n",
       "monthly             1             1\n",
       "never pay           1             1\n",
       "on failure          1             1\n",
       "other               1             1\n",
       "per bucket          1             1\n",
       "unknown             1             1"
      ]
     },
     "execution_count": 17,
     "metadata": {},
     "output_type": "execute_result"
    }
   ],
   "source": [
    "# example of payment and payment_type. The information is repeated.\n",
    "df_train[['payment','payment_type']].groupby(by='payment_type').nunique()"
   ]
  },
  {
   "cell_type": "code",
   "execution_count": 18,
   "metadata": {},
   "outputs": [
    {
     "data": {
      "text/html": [
       "<div>\n",
       "<style scoped>\n",
       "    .dataframe tbody tr th:only-of-type {\n",
       "        vertical-align: middle;\n",
       "    }\n",
       "\n",
       "    .dataframe tbody tr th {\n",
       "        vertical-align: top;\n",
       "    }\n",
       "\n",
       "    .dataframe thead th {\n",
       "        text-align: right;\n",
       "    }\n",
       "</style>\n",
       "<table border=\"1\" class=\"dataframe\">\n",
       "  <thead>\n",
       "    <tr style=\"text-align: right;\">\n",
       "      <th></th>\n",
       "      <th>management</th>\n",
       "      <th>management_group</th>\n",
       "    </tr>\n",
       "    <tr>\n",
       "      <th>management_group</th>\n",
       "      <th></th>\n",
       "      <th></th>\n",
       "    </tr>\n",
       "  </thead>\n",
       "  <tbody>\n",
       "    <tr>\n",
       "      <th>commercial</th>\n",
       "      <td>4</td>\n",
       "      <td>1</td>\n",
       "    </tr>\n",
       "    <tr>\n",
       "      <th>other</th>\n",
       "      <td>2</td>\n",
       "      <td>1</td>\n",
       "    </tr>\n",
       "    <tr>\n",
       "      <th>parastatal</th>\n",
       "      <td>1</td>\n",
       "      <td>1</td>\n",
       "    </tr>\n",
       "    <tr>\n",
       "      <th>unknown</th>\n",
       "      <td>1</td>\n",
       "      <td>1</td>\n",
       "    </tr>\n",
       "    <tr>\n",
       "      <th>user-group</th>\n",
       "      <td>4</td>\n",
       "      <td>1</td>\n",
       "    </tr>\n",
       "  </tbody>\n",
       "</table>\n",
       "</div>"
      ],
      "text/plain": [
       "                  management  management_group\n",
       "management_group                              \n",
       "commercial                 4                 1\n",
       "other                      2                 1\n",
       "parastatal                 1                 1\n",
       "unknown                    1                 1\n",
       "user-group                 4                 1"
      ]
     },
     "execution_count": 18,
     "metadata": {},
     "output_type": "execute_result"
    }
   ],
   "source": [
    "# example of management and management_group. The information is in this case is not repeated and we can not delete it.\n",
    "df_train[['management','management_group']].groupby(by='management_group').nunique()"
   ]
  },
  {
   "cell_type": "markdown",
   "metadata": {},
   "source": [
    "### <font color='orange'> drop data 1/? </font>"
   ]
  },
  {
   "cell_type": "code",
   "execution_count": 19,
   "metadata": {},
   "outputs": [],
   "source": [
    "df_train.drop(columns=['latitude','longitude','payment_type'],inplace=True)\n",
    "df_test.drop(columns=['latitude','longitude','payment_type'],inplace=True)"
   ]
  },
  {
   "cell_type": "markdown",
   "metadata": {},
   "source": [
    "## <font color='green'> Recorded dates </font>\n",
    "Podria ser que la fecha tuviese alguna relacion con la clasificacion? lo ideal seria que no....pero no acabo de estar seguro (por ejemplo: y si a lo largo de los años han cambiado de criterio, y lo que en algun momento era need_repararation luego pasó a non_functional? (con las mismas caracterixticas?)"
   ]
  },
  {
   "cell_type": "code",
   "execution_count": 20,
   "metadata": {},
   "outputs": [],
   "source": [
    "df_train['date']=pd.to_datetime(df_train['date_recorded'])\n",
    "df_test['date']=pd.to_datetime(df_test['date_recorded'])"
   ]
  },
  {
   "cell_type": "code",
   "execution_count": 21,
   "metadata": {},
   "outputs": [
    {
     "name": "stdout",
     "output_type": "stream",
     "text": [
      " ######### Train data ##########\n",
      "number of different date_recorded:  356\n",
      "first date of date_recorded:  2002-10-14 00:00:00\n",
      "last date of date_recorded:  2013-12-03 00:00:00\n",
      " \n",
      "######### Test data ##########\n",
      "number of different date_recorded:  331\n",
      "first date of date_recorded:  2001-03-26 00:00:00\n",
      "last date of date_recorded:  2013-12-03 00:00:00\n"
     ]
    },
    {
     "data": {
      "image/png": "[encoded data removed]",
      "text/plain": [
       "<Figure size 1440x288 with 1 Axes>"
      ]
     },
     "metadata": {
      "needs_background": "light"
     },
     "output_type": "display_data"
    }
   ],
   "source": [
    "#Dates train\n",
    "print (' ######### Train data ##########')\n",
    "print ('number of different date_recorded: ',df_train['date'].nunique() )\n",
    "print( 'first date of date_recorded: ', df_train['date'].min())\n",
    "print( 'last date of date_recorded: ', df_train['date'].max())\n",
    "\n",
    "#Dates Test\n",
    "print (' \\n######### Test data ##########')\n",
    "print ('number of different date_recorded: ',df_test['date'].nunique() )\n",
    "print( 'first date of date_recorded: ', df_test['date'].min())\n",
    "print( 'last date of date_recorded: ', df_test['date'].max())\n",
    "\n",
    "# PLOT\n",
    "fig= plt.figure(figsize=(20,4))\n",
    "df_train[df_train['status_group']=='functional'].groupby('date')['status_group'].count().plot(style='o')\n",
    "df_train[df_train['status_group']=='functional needs repair'].groupby('date')['status_group'].count().plot(style='o')\n",
    "df_train[df_train['status_group']=='non functional'].groupby('date')['status_group'].count().plot(style='o')\n",
    "plt.legend(('functional', 'functional needs repair', 'non functional') )\n",
    "plt.show()"
   ]
  },
  {
   "cell_type": "markdown",
   "metadata": {},
   "source": [
    "Parece que para el training set tenemos la mayoria de los datos con fechas entre 2011 y final 2013. Aun así, tenemos datos de 2001 hasta 2005 (muy pocos). "
   ]
  },
  {
   "cell_type": "code",
   "execution_count": 22,
   "metadata": {},
   "outputs": [
    {
     "name": "stdout",
     "output_type": "stream",
     "text": [
      "samples recordee before 2010 in the training set:  (31, 38)\n",
      "samples recordee since 2010 in the training set:  (59288, 38)\n",
      " ---------------------------------------------------\n",
      "samples recordee before 2010 in the test set:  (12, 37)\n",
      "samples recordee before 2010 in the training set:  (14838, 37)\n"
     ]
    }
   ],
   "source": [
    "print ('samples recordee before 2010 in the training set: ',df_train[df_train['date']<'2010-01-01'].shape)\n",
    "print ('samples recordee since 2010 in the training set: ',df_train[df_train['date']>'2010-01-01'].shape)\n",
    "print(' ---------------------------------------------------')\n",
    "print ('samples recordee before 2010 in the test set: ',df_test[df_test['date']<'2006-01-01'].shape)\n",
    "print ('samples recordee before 2010 in the training set: ',df_test[df_test['date']>'2010-01-01'].shape)"
   ]
  },
  {
   "cell_type": "markdown",
   "metadata": {},
   "source": [
    "Aqui ahora tenemos dudas de que hacer:\n",
    "1. ¿eliminar en training set datos anteriores a 2010 y eliminar columna fechas? --> se podrian considerar outliers con metodologias de muestreo obsoletas (pero en el test set hay 12 de este periodo...)\n",
    "2. Crear columnas año (serian unas 5-6), y columnas mes de muestreo (12). \n",
    "\n",
    "<font color='blue'> Por ahora probaremos opción 1. Eliminamos datos previos a 2010 y hacemos un drop de la columna date_recorded y date </font>"
   ]
  },
  {
   "cell_type": "markdown",
   "metadata": {},
   "source": [
    "### <font color='orange'> drop data 2/? </font>"
   ]
  },
  {
   "cell_type": "code",
   "execution_count": 23,
   "metadata": {},
   "outputs": [],
   "source": [
    "# only for train data\n",
    "df_train = df_train[df_train['date']>'2010-01-01']\n",
    "\n",
    "# both train and test drop date columns\n",
    "df_train.drop(columns=['date','date_recorded'],inplace=True)\n",
    "df_test.drop(columns=['date','date_recorded'],inplace=True)"
   ]
  },
  {
   "cell_type": "code",
   "execution_count": 24,
   "metadata": {},
   "outputs": [
    {
     "data": {
      "text/html": [
       "<div>\n",
       "<style scoped>\n",
       "    .dataframe tbody tr th:only-of-type {\n",
       "        vertical-align: middle;\n",
       "    }\n",
       "\n",
       "    .dataframe tbody tr th {\n",
       "        vertical-align: top;\n",
       "    }\n",
       "\n",
       "    .dataframe thead th {\n",
       "        text-align: right;\n",
       "    }\n",
       "</style>\n",
       "<table border=\"1\" class=\"dataframe\">\n",
       "  <thead>\n",
       "    <tr style=\"text-align: right;\">\n",
       "      <th></th>\n",
       "      <th>amount_tsh</th>\n",
       "      <th>funder</th>\n",
       "      <th>gps_height</th>\n",
       "      <th>installer</th>\n",
       "      <th>wpt_name</th>\n",
       "      <th>num_private</th>\n",
       "      <th>basin</th>\n",
       "      <th>subvillage</th>\n",
       "      <th>region</th>\n",
       "      <th>region_code</th>\n",
       "      <th>district_code</th>\n",
       "      <th>lga</th>\n",
       "      <th>ward</th>\n",
       "      <th>population</th>\n",
       "      <th>public_meeting</th>\n",
       "      <th>recorded_by</th>\n",
       "      <th>scheme_management</th>\n",
       "      <th>scheme_name</th>\n",
       "      <th>permit</th>\n",
       "      <th>construction_year</th>\n",
       "      <th>extraction_type</th>\n",
       "      <th>extraction_type_group</th>\n",
       "      <th>extraction_type_class</th>\n",
       "      <th>management</th>\n",
       "      <th>management_group</th>\n",
       "      <th>payment</th>\n",
       "      <th>water_quality</th>\n",
       "      <th>quality_group</th>\n",
       "      <th>quantity</th>\n",
       "      <th>quantity_group</th>\n",
       "      <th>source</th>\n",
       "      <th>source_type</th>\n",
       "      <th>source_class</th>\n",
       "      <th>waterpoint_type</th>\n",
       "      <th>waterpoint_type_group</th>\n",
       "      <th>status_group</th>\n",
       "    </tr>\n",
       "  </thead>\n",
       "  <tbody>\n",
       "    <tr>\n",
       "      <th>0</th>\n",
       "      <td>6000.0</td>\n",
       "      <td>Roman</td>\n",
       "      <td>1390</td>\n",
       "      <td>Roman</td>\n",
       "      <td>none</td>\n",
       "      <td>0</td>\n",
       "      <td>Lake Nyasa</td>\n",
       "      <td>Mnyusi B</td>\n",
       "      <td>Iringa</td>\n",
       "      <td>11</td>\n",
       "      <td>5</td>\n",
       "      <td>Ludewa</td>\n",
       "      <td>Mundindi</td>\n",
       "      <td>109</td>\n",
       "      <td>True</td>\n",
       "      <td>GeoData Consultants Ltd</td>\n",
       "      <td>VWC</td>\n",
       "      <td>Roman</td>\n",
       "      <td>False</td>\n",
       "      <td>1999</td>\n",
       "      <td>gravity</td>\n",
       "      <td>gravity</td>\n",
       "      <td>gravity</td>\n",
       "      <td>vwc</td>\n",
       "      <td>user-group</td>\n",
       "      <td>pay annually</td>\n",
       "      <td>soft</td>\n",
       "      <td>good</td>\n",
       "      <td>enough</td>\n",
       "      <td>enough</td>\n",
       "      <td>spring</td>\n",
       "      <td>spring</td>\n",
       "      <td>groundwater</td>\n",
       "      <td>communal standpipe</td>\n",
       "      <td>communal standpipe</td>\n",
       "      <td>functional</td>\n",
       "    </tr>\n",
       "    <tr>\n",
       "      <th>1</th>\n",
       "      <td>0.0</td>\n",
       "      <td>Grumeti</td>\n",
       "      <td>1399</td>\n",
       "      <td>GRUMETI</td>\n",
       "      <td>Zahanati</td>\n",
       "      <td>0</td>\n",
       "      <td>Lake Victoria</td>\n",
       "      <td>Nyamara</td>\n",
       "      <td>Mara</td>\n",
       "      <td>20</td>\n",
       "      <td>2</td>\n",
       "      <td>Serengeti</td>\n",
       "      <td>Natta</td>\n",
       "      <td>280</td>\n",
       "      <td>NaN</td>\n",
       "      <td>GeoData Consultants Ltd</td>\n",
       "      <td>Other</td>\n",
       "      <td>NaN</td>\n",
       "      <td>True</td>\n",
       "      <td>2010</td>\n",
       "      <td>gravity</td>\n",
       "      <td>gravity</td>\n",
       "      <td>gravity</td>\n",
       "      <td>wug</td>\n",
       "      <td>user-group</td>\n",
       "      <td>never pay</td>\n",
       "      <td>soft</td>\n",
       "      <td>good</td>\n",
       "      <td>insufficient</td>\n",
       "      <td>insufficient</td>\n",
       "      <td>rainwater harvesting</td>\n",
       "      <td>rainwater harvesting</td>\n",
       "      <td>surface</td>\n",
       "      <td>communal standpipe</td>\n",
       "      <td>communal standpipe</td>\n",
       "      <td>functional</td>\n",
       "    </tr>\n",
       "    <tr>\n",
       "      <th>2</th>\n",
       "      <td>25.0</td>\n",
       "      <td>Lottery Club</td>\n",
       "      <td>686</td>\n",
       "      <td>World vision</td>\n",
       "      <td>Kwa Mahundi</td>\n",
       "      <td>0</td>\n",
       "      <td>Pangani</td>\n",
       "      <td>Majengo</td>\n",
       "      <td>Manyara</td>\n",
       "      <td>21</td>\n",
       "      <td>4</td>\n",
       "      <td>Simanjiro</td>\n",
       "      <td>Ngorika</td>\n",
       "      <td>250</td>\n",
       "      <td>True</td>\n",
       "      <td>GeoData Consultants Ltd</td>\n",
       "      <td>VWC</td>\n",
       "      <td>Nyumba ya mungu pipe scheme</td>\n",
       "      <td>True</td>\n",
       "      <td>2009</td>\n",
       "      <td>gravity</td>\n",
       "      <td>gravity</td>\n",
       "      <td>gravity</td>\n",
       "      <td>vwc</td>\n",
       "      <td>user-group</td>\n",
       "      <td>pay per bucket</td>\n",
       "      <td>soft</td>\n",
       "      <td>good</td>\n",
       "      <td>enough</td>\n",
       "      <td>enough</td>\n",
       "      <td>dam</td>\n",
       "      <td>dam</td>\n",
       "      <td>surface</td>\n",
       "      <td>communal standpipe multiple</td>\n",
       "      <td>communal standpipe</td>\n",
       "      <td>functional</td>\n",
       "    </tr>\n",
       "    <tr>\n",
       "      <th>3</th>\n",
       "      <td>0.0</td>\n",
       "      <td>Unicef</td>\n",
       "      <td>263</td>\n",
       "      <td>UNICEF</td>\n",
       "      <td>Zahanati Ya Nanyumbu</td>\n",
       "      <td>0</td>\n",
       "      <td>Ruvuma / Southern Coast</td>\n",
       "      <td>Mahakamani</td>\n",
       "      <td>Mtwara</td>\n",
       "      <td>90</td>\n",
       "      <td>63</td>\n",
       "      <td>Nanyumbu</td>\n",
       "      <td>Nanyumbu</td>\n",
       "      <td>58</td>\n",
       "      <td>True</td>\n",
       "      <td>GeoData Consultants Ltd</td>\n",
       "      <td>VWC</td>\n",
       "      <td>NaN</td>\n",
       "      <td>True</td>\n",
       "      <td>1986</td>\n",
       "      <td>submersible</td>\n",
       "      <td>submersible</td>\n",
       "      <td>submersible</td>\n",
       "      <td>vwc</td>\n",
       "      <td>user-group</td>\n",
       "      <td>never pay</td>\n",
       "      <td>soft</td>\n",
       "      <td>good</td>\n",
       "      <td>dry</td>\n",
       "      <td>dry</td>\n",
       "      <td>machine dbh</td>\n",
       "      <td>borehole</td>\n",
       "      <td>groundwater</td>\n",
       "      <td>communal standpipe multiple</td>\n",
       "      <td>communal standpipe</td>\n",
       "      <td>non functional</td>\n",
       "    </tr>\n",
       "    <tr>\n",
       "      <th>4</th>\n",
       "      <td>0.0</td>\n",
       "      <td>Action In A</td>\n",
       "      <td>0</td>\n",
       "      <td>Artisan</td>\n",
       "      <td>Shuleni</td>\n",
       "      <td>0</td>\n",
       "      <td>Lake Victoria</td>\n",
       "      <td>Kyanyamisa</td>\n",
       "      <td>Kagera</td>\n",
       "      <td>18</td>\n",
       "      <td>1</td>\n",
       "      <td>Karagwe</td>\n",
       "      <td>Nyakasimbi</td>\n",
       "      <td>0</td>\n",
       "      <td>True</td>\n",
       "      <td>GeoData Consultants Ltd</td>\n",
       "      <td>NaN</td>\n",
       "      <td>NaN</td>\n",
       "      <td>True</td>\n",
       "      <td>0</td>\n",
       "      <td>gravity</td>\n",
       "      <td>gravity</td>\n",
       "      <td>gravity</td>\n",
       "      <td>other</td>\n",
       "      <td>other</td>\n",
       "      <td>never pay</td>\n",
       "      <td>soft</td>\n",
       "      <td>good</td>\n",
       "      <td>seasonal</td>\n",
       "      <td>seasonal</td>\n",
       "      <td>rainwater harvesting</td>\n",
       "      <td>rainwater harvesting</td>\n",
       "      <td>surface</td>\n",
       "      <td>communal standpipe</td>\n",
       "      <td>communal standpipe</td>\n",
       "      <td>functional</td>\n",
       "    </tr>\n",
       "  </tbody>\n",
       "</table>\n",
       "</div>"
      ],
      "text/plain": [
       "   amount_tsh        funder  gps_height     installer              wpt_name  \\\n",
       "0      6000.0         Roman        1390         Roman                  none   \n",
       "1         0.0       Grumeti        1399       GRUMETI              Zahanati   \n",
       "2        25.0  Lottery Club         686  World vision           Kwa Mahundi   \n",
       "3         0.0        Unicef         263        UNICEF  Zahanati Ya Nanyumbu   \n",
       "4         0.0   Action In A           0       Artisan               Shuleni   \n",
       "\n",
       "   num_private                    basin  subvillage   region  region_code  \\\n",
       "0            0               Lake Nyasa    Mnyusi B   Iringa           11   \n",
       "1            0            Lake Victoria     Nyamara     Mara           20   \n",
       "2            0                  Pangani     Majengo  Manyara           21   \n",
       "3            0  Ruvuma / Southern Coast  Mahakamani   Mtwara           90   \n",
       "4            0            Lake Victoria  Kyanyamisa   Kagera           18   \n",
       "\n",
       "   district_code        lga        ward  population public_meeting  \\\n",
       "0              5     Ludewa    Mundindi         109           True   \n",
       "1              2  Serengeti       Natta         280            NaN   \n",
       "2              4  Simanjiro     Ngorika         250           True   \n",
       "3             63   Nanyumbu    Nanyumbu          58           True   \n",
       "4              1    Karagwe  Nyakasimbi           0           True   \n",
       "\n",
       "               recorded_by scheme_management                  scheme_name  \\\n",
       "0  GeoData Consultants Ltd               VWC                        Roman   \n",
       "1  GeoData Consultants Ltd             Other                          NaN   \n",
       "2  GeoData Consultants Ltd               VWC  Nyumba ya mungu pipe scheme   \n",
       "3  GeoData Consultants Ltd               VWC                          NaN   \n",
       "4  GeoData Consultants Ltd               NaN                          NaN   \n",
       "\n",
       "  permit  construction_year extraction_type extraction_type_group  \\\n",
       "0  False               1999         gravity               gravity   \n",
       "1   True               2010         gravity               gravity   \n",
       "2   True               2009         gravity               gravity   \n",
       "3   True               1986     submersible           submersible   \n",
       "4   True                  0         gravity               gravity   \n",
       "\n",
       "  extraction_type_class management management_group         payment  \\\n",
       "0               gravity        vwc       user-group    pay annually   \n",
       "1               gravity        wug       user-group       never pay   \n",
       "2               gravity        vwc       user-group  pay per bucket   \n",
       "3           submersible        vwc       user-group       never pay   \n",
       "4               gravity      other            other       never pay   \n",
       "\n",
       "  water_quality quality_group      quantity quantity_group  \\\n",
       "0          soft          good        enough         enough   \n",
       "1          soft          good  insufficient   insufficient   \n",
       "2          soft          good        enough         enough   \n",
       "3          soft          good           dry            dry   \n",
       "4          soft          good      seasonal       seasonal   \n",
       "\n",
       "                 source           source_type source_class  \\\n",
       "0                spring                spring  groundwater   \n",
       "1  rainwater harvesting  rainwater harvesting      surface   \n",
       "2                   dam                   dam      surface   \n",
       "3           machine dbh              borehole  groundwater   \n",
       "4  rainwater harvesting  rainwater harvesting      surface   \n",
       "\n",
       "               waterpoint_type waterpoint_type_group    status_group  \n",
       "0           communal standpipe    communal standpipe      functional  \n",
       "1           communal standpipe    communal standpipe      functional  \n",
       "2  communal standpipe multiple    communal standpipe      functional  \n",
       "3  communal standpipe multiple    communal standpipe  non functional  \n",
       "4           communal standpipe    communal standpipe      functional  "
      ]
     },
     "execution_count": 24,
     "metadata": {},
     "output_type": "execute_result"
    }
   ],
   "source": [
    "df_train.head(5)"
   ]
  },
  {
   "cell_type": "markdown",
   "metadata": {},
   "source": [
    "## <font color='green'> Amount of water </font>"
   ]
  },
  {
   "cell_type": "code",
   "execution_count": 25,
   "metadata": {},
   "outputs": [
    {
     "name": "stdout",
     "output_type": "stream",
     "text": [
      "Amount of 0:  41531\n",
      "Percentage of 0 respect the total:  70.04958844960194\n"
     ]
    }
   ],
   "source": [
    "# first count how many 0 do we have\n",
    "print ('Amount of 0: ',df_train[df_train.amount_tsh == 0].shape[0])\n",
    "print ('Percentage of 0 respect the total: ',df_train[df_train.amount_tsh == 0].shape[0]/df_train.shape[0]*100)"
   ]
  },
  {
   "cell_type": "markdown",
   "metadata": {},
   "source": [
    "Esto indica que solo un 30% de los datos muestra valores de agua disponible...pero seguro que hay puntos que funcionan pero con 0 aqui....\n",
    "Parece que hay mas, en terminos relativos, puntos que no funcionan respecto del total\n",
    "\n",
    "**este punto es dificil de imputar datos o mejrar, ya que a priori no se ve una relacion directa con otra variable**"
   ]
  },
  {
   "cell_type": "code",
   "execution_count": 26,
   "metadata": {},
   "outputs": [
    {
     "data": {
      "image/png": "[encoded data removed]",
      "text/plain": [
       "<Figure size 432x288 with 1 Axes>"
      ]
     },
     "metadata": {
      "needs_background": "light"
     },
     "output_type": "display_data"
    },
    {
     "data": {
      "image/png": "[encoded data removed]",
      "text/plain": [
       "<Figure size 432x288 with 1 Axes>"
      ]
     },
     "metadata": {
      "needs_background": "light"
     },
     "output_type": "display_data"
    }
   ],
   "source": [
    "df_k=df_train[df_train.amount_tsh==0]\n",
    "sns.countplot(data=df_k,x='amount_tsh',hue='status_group')\n",
    "plt.title('Number of observations with amount_tsh==0')\n",
    "plt.show()\n",
    "\n",
    "\n",
    "df_k=df_train[df_train.amount_tsh!=0]\n",
    "sns.kdeplot(data=df_k.amount_tsh,shade=True)\n",
    "plt.title('Number of observations with amount_tsh>0')\n",
    "plt.show()"
   ]
  },
  {
   "cell_type": "markdown",
   "metadata": {},
   "source": [
    "## <font color='green'> gps_height </font>"
   ]
  },
  {
   "cell_type": "code",
   "execution_count": 27,
   "metadata": {},
   "outputs": [
    {
     "name": "stdout",
     "output_type": "stream",
     "text": [
      "Amount of 0:  20367\n",
      "Percentage of 0 respect the total:  34.35265146403994\n"
     ]
    }
   ],
   "source": [
    "# first count how many 0 do we have\n",
    "print ('Amount of 0: ',df_train[df_train.gps_height == 0].shape[0])\n",
    "print ('Percentage of 0 respect the total: ',df_train[df_train.gps_height == 0].shape[0]/df_train.shape[0]*100)"
   ]
  },
  {
   "cell_type": "markdown",
   "metadata": {},
   "source": [
    "Esto indica que solo un 65% de los datos muestra valores altura...no acabo de ver si esta vraiable nos sirve o no"
   ]
  },
  {
   "cell_type": "code",
   "execution_count": 28,
   "metadata": {},
   "outputs": [
    {
     "data": {
      "image/png": "[encoded data removed]",
      "text/plain": [
       "<Figure size 432x288 with 1 Axes>"
      ]
     },
     "metadata": {
      "needs_background": "light"
     },
     "output_type": "display_data"
    },
    {
     "data": {
      "image/png": "[encoded data removed]",
      "text/plain": [
       "<Figure size 432x288 with 1 Axes>"
      ]
     },
     "metadata": {
      "needs_background": "light"
     },
     "output_type": "display_data"
    }
   ],
   "source": [
    "df_k=df_train[df_train.gps_height==0]\n",
    "sns.countplot(data=df_k,x='gps_height',hue='status_group')\n",
    "plt.title('Number of observations with gps_height==0')\n",
    "plt.show()\n",
    "\n",
    "#---\n",
    "df_k=df_train[(df_train.gps_height!=0) & (df_train.status_group=='functional')]\n",
    "sns.kdeplot(data=df_k.gps_height,shade=True)\n",
    "\n",
    "df_k=df_train[(df_train.gps_height!=0) & (df_train.status_group=='functional needs repair')]\n",
    "sns.kdeplot(data=df_k.gps_height,shade=True)\n",
    "\n",
    "df_k=df_train[(df_train.gps_height!=0) & (df_train.status_group=='non functional')]\n",
    "sns.kdeplot(data=df_k.gps_height,shade=True)\n",
    "plt.title('Number of observations with gps_height>0 by status group')\n",
    "plt.legend(['functional','functional needs repair','non functional'])\n",
    "plt.show()"
   ]
  },
  {
   "cell_type": "markdown",
   "metadata": {},
   "source": [
    "Parece que esta variable puede servir para discrminiar entre status_groups, ya que muestra dsitribuciones diferentes..."
   ]
  },
  {
   "cell_type": "markdown",
   "metadata": {},
   "source": [
    "## <font color='green'> num_private </font>"
   ]
  },
  {
   "cell_type": "code",
   "execution_count": 29,
   "metadata": {},
   "outputs": [
    {
     "name": "stdout",
     "output_type": "stream",
     "text": [
      "Amount of 0:  58531\n",
      "Percentage of 0 respect the total:  98.72318175684794\n"
     ]
    }
   ],
   "source": [
    "# first count how many 0 do we have\n",
    "print ('Amount of 0: ',df_train[df_train.num_private == 0].shape[0])\n",
    "print ('Percentage of 0 respect the total: ',df_train[df_train.num_private == 0].shape[0]/df_train.shape[0]*100)"
   ]
  },
  {
   "cell_type": "markdown",
   "metadata": {},
   "source": [
    "Esta variable esta en 0 el 99% de los casos. Aun asi, miramos la distribucion de los 0 y de los que no..no sea que identifique uno de los status"
   ]
  },
  {
   "cell_type": "code",
   "execution_count": 30,
   "metadata": {
    "scrolled": true
   },
   "outputs": [
    {
     "data": {
      "image/png": "[encoded data removed]",
      "text/plain": [
       "<Figure size 432x288 with 1 Axes>"
      ]
     },
     "metadata": {
      "needs_background": "light"
     },
     "output_type": "display_data"
    },
    {
     "data": {
      "image/png": "[encoded data removed]",
      "text/plain": [
       "<Figure size 432x288 with 1 Axes>"
      ]
     },
     "metadata": {
      "needs_background": "light"
     },
     "output_type": "display_data"
    }
   ],
   "source": [
    "df_k=df_train[df_train.num_private==0]\n",
    "sns.countplot(data=df_k,x='num_private',hue='status_group')\n",
    "plt.title('Number of observations with num_private==0')\n",
    "plt.show()\n",
    "\n",
    "#---\n",
    "df_k=df_train[(df_train.num_private!=0) & (df_train.status_group=='functional')]\n",
    "sns.kdeplot(data=df_k.num_private,shade=True)\n",
    "\n",
    "df_k=df_train[(df_train.num_private!=0) & (df_train.status_group=='functional needs repair')]\n",
    "sns.kdeplot(data=df_k.num_private,shade=True)\n",
    "\n",
    "df_k=df_train[(df_train.num_private!=0) & (df_train.status_group=='non functional')]\n",
    "sns.kdeplot(data=df_k.num_private,shade=True)\n",
    "plt.title('Number of observations with num_private>0 by status group')\n",
    "plt.legend(['functional','functional needs repair','non functional'])\n",
    "plt.show()"
   ]
  },
  {
   "cell_type": "markdown",
   "metadata": {},
   "source": [
    "Parece que esta variable no muestra distribuciones diferentes segun el status_group, así, que ya que no muestra diferencias y solo tiene 1000 valores diferentes de 0, la eliminamos!  \n",
    "\n",
    "### <font color='orange'> drop data 3/? </font>"
   ]
  },
  {
   "cell_type": "code",
   "execution_count": 31,
   "metadata": {},
   "outputs": [],
   "source": [
    "df_train.drop(columns=['num_private'],inplace=True)\n",
    "df_test.drop(columns=['num_private'],inplace=True)"
   ]
  },
  {
   "cell_type": "markdown",
   "metadata": {},
   "source": [
    "## <font color='green'> Population </font>"
   ]
  },
  {
   "cell_type": "code",
   "execution_count": 32,
   "metadata": {},
   "outputs": [
    {
     "name": "stdout",
     "output_type": "stream",
     "text": [
      "Amount of 0:  21310\n",
      "Percentage of 0 respect the total:  35.94319255161247\n"
     ]
    }
   ],
   "source": [
    "# first count how many 0 do we have\n",
    "print ('Amount of 0: ',df_train[df_train.population == 0].shape[0])\n",
    "print ('Percentage of 0 respect the total: ',df_train[df_train.population == 0].shape[0]/df_train.shape[0]*100)"
   ]
  },
  {
   "cell_type": "markdown",
   "metadata": {},
   "source": [
    "En este caso tenemos bastantes datos de poblacion....quizas podemos rellenar los 0 con algun metodo de imputacion"
   ]
  },
  {
   "cell_type": "code",
   "execution_count": 33,
   "metadata": {},
   "outputs": [
    {
     "data": {
      "image/png": "[encoded data removed]",
      "text/plain": [
       "<Figure size 432x288 with 1 Axes>"
      ]
     },
     "metadata": {
      "needs_background": "light"
     },
     "output_type": "display_data"
    }
   ],
   "source": [
    "#---\n",
    "df_k=df_train[(df_train.population!=0) & (df_train.status_group=='functional')]\n",
    "sns.kdeplot(data=df_k.population,shade=True)\n",
    "\n",
    "df_k=df_train[(df_train.population!=0) & (df_train.status_group=='functional needs repair')]\n",
    "sns.kdeplot(data=df_k.population,shade=True)\n",
    "\n",
    "df_k=df_train[(df_train.population!=0) & (df_train.status_group=='non functional')]\n",
    "sns.kdeplot(data=df_k.population,shade=True)\n",
    "plt.title('Number of observations with population>0 by status group')\n",
    "plt.legend(['functional','functional needs repair','non functional'])\n",
    "plt.show()"
   ]
  },
  {
   "cell_type": "markdown",
   "metadata": {},
   "source": [
    "Se trata de variable de poblacion. Lo que haremos sera imputar los 0 a partir de datos geolocalizacion:\n",
    "1. subvillage\n",
    "2. lga (district)"
   ]
  },
  {
   "cell_type": "code",
   "execution_count": 34,
   "metadata": {},
   "outputs": [
    {
     "name": "stdout",
     "output_type": "stream",
     "text": [
      "\n",
      " train nans... 16413\n",
      "test nans... 1471\n",
      "\n",
      " train nans... 450\n",
      "test nans... 48\n",
      "\n",
      " train nans... 0\n",
      "test nans... 7\n",
      "\n",
      " train nans... 0\n",
      "test nans... 0\n"
     ]
    }
   ],
   "source": [
    "# 0 to NaNs\n",
    "df_train['population'].replace(to_replace=0,value=np.nan,inplace=True)\n",
    "df_test['population'].replace(to_replace=0,value=np.nan,inplace=True)\n",
    "\n",
    "# impute Nans with subvillage > lga > region untill > all data no nans in the data\n",
    "df_train['population'] = df_train['population'].fillna(df_train.groupby('subvillage')['population'].transform('mean'))\n",
    "df_test['population'] = df_test['population'].fillna(df_train.groupby('subvillage')['population'].transform('mean'))\n",
    "print ('\\n train nans...',df_train.population.isnull().sum())\n",
    "print ('test nans...',df_test.population.isnull().sum())\n",
    "\n",
    "df_train['population'] = df_train['population'].fillna(df_train.groupby('lga')['population'].transform('mean'))\n",
    "df_test['population'] = df_test['population'].fillna(df_train.groupby('lga')['population'].transform('mean'))\n",
    "print ('\\n train nans...',df_train.population.isnull().sum())\n",
    "print ('test nans...',df_test.population.isnull().sum())\n",
    "\n",
    "df_train['population'] = df_train['population'].fillna(df_train.groupby('region')['population'].transform('mean'))\n",
    "df_test['population'] = df_test['population'].fillna(df_train.groupby('region')['population'].transform('mean'))\n",
    "print ('\\n train nans...',df_train.population.isnull().sum())\n",
    "print ('test nans...',df_test.population.isnull().sum())\n",
    "\n",
    "df_test['population'] = df_test['population'].fillna(df_train['population'].mean())\n",
    "print ('\\n train nans...',df_train.population.isnull().sum())\n",
    "print ('test nans...',df_test.population.isnull().sum())"
   ]
  },
  {
   "cell_type": "markdown",
   "metadata": {},
   "source": [
    "Esta variable por ahora la dejamos, pero no acabo de ver claro que discrimine suficiente..."
   ]
  },
  {
   "cell_type": "markdown",
   "metadata": {},
   "source": [
    "## <font color='green'> construction_year </font>"
   ]
  },
  {
   "cell_type": "code",
   "execution_count": 35,
   "metadata": {},
   "outputs": [
    {
     "name": "stdout",
     "output_type": "stream",
     "text": [
      "Amount of 0:  20636\n",
      "Percentage of 0 respect the total:  34.80636891107813\n"
     ]
    },
    {
     "data": {
      "image/png": "[encoded data removed]",
      "text/plain": [
       "<Figure size 1440x288 with 1 Axes>"
      ]
     },
     "metadata": {
      "needs_background": "light"
     },
     "output_type": "display_data"
    }
   ],
   "source": [
    "# first count how many 0 do we have\n",
    "print ('Amount of 0: ',df_train[df_train.construction_year == 0].shape[0])\n",
    "print ('Percentage of 0 respect the total: ',df_train[df_train.construction_year == 0].shape[0]/df_train.shape[0]*100)\n",
    "\n",
    "# PLOT\n",
    "fig= plt.figure(figsize=(20,4))\n",
    "df_train[df_train['status_group']=='functional'].groupby('construction_year')['status_group'].count().plot(style='o')\n",
    "df_train[df_train['status_group']=='functional needs repair'].groupby('construction_year')['status_group'].count().plot(style='o')\n",
    "df_train[df_train['status_group']=='non functional'].groupby('construction_year')['status_group'].count().plot(style='o')\n",
    "plt.legend(('functional', 'functional needs repair', 'non functional') )\n",
    "plt.show()"
   ]
  },
  {
   "cell_type": "markdown",
   "metadata": {},
   "source": [
    "Podemos provar de imputar datos a lo bestia: año medio, o por ejemplo imputarlo teniendo en cuenta la organizacion que los instaló (muchas veces estas organizaciones funcionan por planes o proyectos, por lo que podria ser una buena forma de hacerlo)."
   ]
  },
  {
   "cell_type": "code",
   "execution_count": 36,
   "metadata": {},
   "outputs": [
    {
     "name": "stdout",
     "output_type": "stream",
     "text": [
      "initial nans... 20636\n"
     ]
    }
   ],
   "source": [
    "# 0 to NaNs\n",
    "df_train['construction_year'].replace(to_replace=0,value=np.nan,inplace=True)\n",
    "df_test['construction_year'].replace(to_replace=0,value=np.nan,inplace=True)\n",
    "print ('initial nans...',df_train.construction_year.isnull().sum())"
   ]
  },
  {
   "cell_type": "code",
   "execution_count": 37,
   "metadata": {},
   "outputs": [
    {
     "name": "stdout",
     "output_type": "stream",
     "text": [
      "nans... 7464\n",
      "nans... 3859\n",
      "nans... 0\n"
     ]
    }
   ],
   "source": [
    "# impute Nans funder that installed teh well: funder > installer > mean rest\n",
    "df_train['construction_year'] = df_train['construction_year'].fillna(df_train.groupby('funder')['construction_year'].transform('mean'))\n",
    "df_test['construction_year'] = df_test['construction_year'].fillna(df_train.groupby('funder')['construction_year'].transform('mean'))\n",
    "print ('nans...',df_train.construction_year.isnull().sum())\n",
    "\n",
    "df_train['construction_year'] = df_train['construction_year'].fillna(df_train.groupby('installer')['construction_year'].transform('mean'))\n",
    "df_test['construction_year'] = df_test['construction_year'].fillna(df_train.groupby('installer')['construction_year'].transform('mean'))\n",
    "print ('nans...',df_train.construction_year.isnull().sum())\n",
    "df_train['construction_year'] = df_train['construction_year'].fillna(df_train['construction_year'].mean())\n",
    "df_test['construction_year'] = df_test['construction_year'].fillna(df_train['construction_year'].mean())\n",
    "print ('nans...',df_train.construction_year.isnull().sum())"
   ]
  },
  {
   "cell_type": "code",
   "execution_count": 38,
   "metadata": {},
   "outputs": [],
   "source": [
    "# now we can convert thos to age of the well, and the binarize the data\n",
    "df_train['age_well']=abs(df_train.construction_year - df_train.construction_year.max() +1)\n",
    "df_test['age_well']=abs(df_test.construction_year - df_train.construction_year.max() +1)\n",
    "\n",
    "df_train['age_well_bin']=pd.cut(df_train['age_well'], \n",
    "                                bins=[-1,4,9,14,19,24,29,35,39,44,49,54], \n",
    "                                labels=['0','5','10','15','20','25','30','35','40','45','50'])\n",
    "\n",
    "df_test['age_well_bin']=pd.cut(df_test['age_well'], \n",
    "                                bins=[-1,4,9,14,19,24,29,35,39,44,49,54], \n",
    "                                labels=['0','5','10','15','20','25','30','35','40','45','50'])"
   ]
  },
  {
   "cell_type": "code",
   "execution_count": 39,
   "metadata": {},
   "outputs": [
    {
     "data": {
      "image/png": "[encoded data removed]",
      "text/plain": [
       "<Figure size 1440x288 with 1 Axes>"
      ]
     },
     "metadata": {
      "needs_background": "light"
     },
     "output_type": "display_data"
    }
   ],
   "source": [
    "fig= plt.figure(figsize=(20,4))\n",
    "df_train[df_train['status_group']=='functional'].groupby('age_well_bin')['status_group'].count().plot(style='o')\n",
    "df_train[df_train['status_group']=='functional needs repair'].groupby('age_well_bin')['status_group'].count().plot(style='o')\n",
    "df_train[df_train['status_group']=='non functional'].groupby('age_well_bin')['status_group'].count().plot(style='o')\n",
    "plt.legend(('functional', 'functional needs repair', 'non functional') )\n",
    "plt.show()"
   ]
  },
  {
   "cell_type": "code",
   "execution_count": 40,
   "metadata": {},
   "outputs": [],
   "source": [
    "df_train.drop(columns=['construction_year','age_well'],inplace=True)\n",
    "df_test.drop(columns=['construction_year','age_well'],inplace=True)"
   ]
  },
  {
   "cell_type": "markdown",
   "metadata": {},
   "source": [
    "## <font color='green'> CATEGORICAL FEATURES </font>"
   ]
  },
  {
   "cell_type": "code",
   "execution_count": 41,
   "metadata": {},
   "outputs": [
    {
     "data": {
      "text/plain": [
       "<matplotlib.axes._subplots.AxesSubplot at 0x7f6eed5b8990>"
      ]
     },
     "execution_count": 41,
     "metadata": {},
     "output_type": "execute_result"
    },
    {
     "data": {
      "image/png": "[encoded data removed]",
      "text/plain": [
       "<Figure size 432x288 with 1 Axes>"
      ]
     },
     "metadata": {
      "needs_background": "light"
     },
     "output_type": "display_data"
    }
   ],
   "source": [
    "sns.countplot(data=df_train, x='waterpoint_type_group', hue='status_group')"
   ]
  },
  {
   "cell_type": "code",
   "execution_count": 42,
   "metadata": {},
   "outputs": [],
   "source": [
    "# FUNCTION TO PLOT BOX-PLOT o SCATTERPLOT\n",
    "def plot_boxplot(n,m,df,figx,figy,y_val,box=1):\n",
    "    \"\"\"This function plot a multple subplot (defined by n & m) for a dataframe, also defining the size of the figure.\n",
    "    The plot could be boxplot (box=1) for categorical data, and regplot for numerical data\"\"\"\n",
    "    fig, axs = plt.subplots(n,m,figsize=(figx,figy))\n",
    "    rect = fig.patch\n",
    "    rect.set_facecolor('white')\n",
    "    axs = axs.flatten()\n",
    "    \n",
    "    ll= df.columns.to_list()\n",
    "    ll.remove(y_val)\n",
    "\n",
    "    for i,(ax, feature) in enumerate (zip(axs, ll)):\n",
    "        boxplot = sns.countplot(data=df, x=feature, hue='status_group',ax=ax)\n",
    "                    \n",
    "        boxplot.set_xticklabels(boxplot.get_xticklabels(), rotation=45, horizontalalignment='right')\n",
    "        #boxplot.legend()\n",
    "    plt.tight_layout()"
   ]
  },
  {
   "cell_type": "code",
   "execution_count": 74,
   "metadata": {},
   "outputs": [
    {
     "data": {
      "text/plain": [
       "basin                      9\n",
       "region                    21\n",
       "lga                      125\n",
       "public_meeting             3\n",
       "scheme_management         12\n",
       "permit                     3\n",
       "extraction_type           18\n",
       "extraction_type_group     13\n",
       "extraction_type_class      7\n",
       "management                12\n",
       "management_group           5\n",
       "payment                    7\n",
       "water_quality              8\n",
       "quality_group              6\n",
       "quantity                   5\n",
       "quantity_group             5\n",
       "source                    10\n",
       "source_type                7\n",
       "source_class               3\n",
       "waterpoint_type            7\n",
       "waterpoint_type_group      6\n",
       "status_group               3\n",
       "dtype: int64"
      ]
     },
     "execution_count": 74,
     "metadata": {},
     "output_type": "execute_result"
    }
   ],
   "source": [
    "# CATEGOTICAL FEATURES TRAIN\n",
    "cat_feats = df_train.dtypes[df_train.dtypes == \"object\"].index\n",
    "df_train[cat_feats].nunique()"
   ]
  },
  {
   "cell_type": "code",
   "execution_count": 73,
   "metadata": {},
   "outputs": [
    {
     "data": {
      "text/plain": [
       "basin                      9\n",
       "region                    21\n",
       "lga                      125\n",
       "public_meeting             3\n",
       "scheme_management         11\n",
       "permit                     3\n",
       "extraction_type           17\n",
       "extraction_type_group     13\n",
       "extraction_type_class      7\n",
       "management                12\n",
       "management_group           5\n",
       "payment                    7\n",
       "water_quality              8\n",
       "quality_group              6\n",
       "quantity                   5\n",
       "quantity_group             5\n",
       "source                    10\n",
       "source_type                7\n",
       "source_class               3\n",
       "waterpoint_type            7\n",
       "waterpoint_type_group      6\n",
       "dtype: int64"
      ]
     },
     "execution_count": 73,
     "metadata": {},
     "output_type": "execute_result"
    }
   ],
   "source": [
    "# CATEGOTICAL FEATURES TEST\n",
    "cat_feats_test = df_test.dtypes[df_test.dtypes == \"object\"].index\n",
    "df_test[cat_feats_test].nunique()"
   ]
  },
  {
   "cell_type": "markdown",
   "metadata": {},
   "source": [
    "Hay algunas variables categoricas con muchos valores (wpt_name con >30000, ward=2092, ....).\n",
    "Las eliminamos en este primer analisis para simplificar, mas adelante vemos si nos interesa mantenerlas....\n",
    "\n",
    "además, `recorded_by` solo tiene un grupo....no aporta informacion\n",
    "\n",
    "### <font color='orange'> drop data 4/? </font>"
   ]
  },
  {
   "cell_type": "code",
   "execution_count": 44,
   "metadata": {},
   "outputs": [],
   "source": [
    "df_train.drop(columns=['recorded_by'],inplace=True)\n",
    "df_test.drop(columns=['recorded_by'],inplace=True)"
   ]
  },
  {
   "cell_type": "code",
   "execution_count": 45,
   "metadata": {},
   "outputs": [],
   "source": [
    "df_train.drop(columns=['funder','installer','wpt_name','subvillage','ward','scheme_name'],inplace=True)\n",
    "df_test.drop(columns=['funder','installer','wpt_name','subvillage','ward','scheme_name'],inplace=True)"
   ]
  },
  {
   "cell_type": "code",
   "execution_count": 46,
   "metadata": {},
   "outputs": [],
   "source": [
    "cat_feats = df_train.dtypes[df_train.dtypes == \"object\"].index\n",
    "# PLOT SCATTERPLOT with REGRESSION LINE\n",
    "if plots_show==1:plot_boxplot(7,3,df_train[cat_feats],15,30,'status_group',box=0)"
   ]
  },
  {
   "cell_type": "code",
   "execution_count": 47,
   "metadata": {},
   "outputs": [
    {
     "data": {
      "image/png": "[encoded data removed]",
      "text/plain": [
       "<Figure size 1800x360 with 1 Axes>"
      ]
     },
     "metadata": {
      "needs_background": "light"
     },
     "output_type": "display_data"
    }
   ],
   "source": [
    "fig = plt.figure(figsize=(25,5))\n",
    "boxplot = sns.countplot(data=df_train, x='lga', hue='status_group')\n",
    "boxplot.set_xticklabels(boxplot.get_xticklabels(), rotation=45, horizontalalignment='right')\n",
    "plt.show()"
   ]
  },
  {
   "cell_type": "markdown",
   "metadata": {},
   "source": [
    "# Pre-proceso\n",
    "0. Faltan nans por rellenar?\n",
    "1. get-dummies de las categoricas\n",
    "2. escalado (min-max) del resto\n",
    "3. ¿ no hemos hecho niguna transformacion logaritmica de las variables...quizas...?"
   ]
  },
  {
   "cell_type": "markdown",
   "metadata": {},
   "source": [
    "## <font color='green'> Missing NaNs </font>"
   ]
  },
  {
   "cell_type": "code",
   "execution_count": 48,
   "metadata": {},
   "outputs": [
    {
     "name": "stdout",
     "output_type": "stream",
     "text": [
      "Nans in train set: \n",
      " public_meeting       3306\n",
      "scheme_management    3873\n",
      "permit               3055\n",
      "dtype: int64\n",
      "\n",
      "Nans in test set: \n",
      " public_meeting       821\n",
      "scheme_management    969\n",
      "permit               737\n",
      "dtype: int64\n"
     ]
    }
   ],
   "source": [
    "null_columns = df_train.columns[df_train.isnull().any()].tolist()\n",
    "print ('Nans in train set: \\n',df_train[null_columns].isnull().sum() )\n",
    "null_columns = df_test.columns[df_test.isnull().any()].tolist()\n",
    "print ('\\nNans in test set: \\n',df_test[null_columns].isnull().sum() )"
   ]
  },
  {
   "cell_type": "markdown",
   "metadata": {},
   "source": [
    "#### public_meeting"
   ]
  },
  {
   "cell_type": "code",
   "execution_count": 49,
   "metadata": {},
   "outputs": [
    {
     "name": "stdout",
     "output_type": "stream",
     "text": [
      "public_meeting total:  59288\n",
      "public_meeting Trues:  50937\n",
      "public_meeting False:   5045\n",
      "public_meeting NaNs :   3306\n"
     ]
    }
   ],
   "source": [
    "print('public_meeting total: ',df_train.public_meeting.shape[0])\n",
    "print('public_meeting Trues: ',df_train.public_meeting.sum())\n",
    "print('public_meeting False:  ',df_train.public_meeting.shape[0] - df_train.public_meeting.sum() -df_train.public_meeting.isnull().sum())\n",
    "print('public_meeting NaNs :  ',df_train.public_meeting.isnull().sum() )"
   ]
  },
  {
   "cell_type": "markdown",
   "metadata": {},
   "source": [
    "Aproximadamente tenemos un 86% de datos True, y un 8% de False. Imputando los nans aqui con el mas repetido no me acaba de gustar. Crearemos un grupo nuevo: 'Unknown'."
   ]
  },
  {
   "cell_type": "code",
   "execution_count": 50,
   "metadata": {},
   "outputs": [],
   "source": [
    "df_train['public_meeting'].fillna(value='Unknown',inplace=True)\n",
    "df_test['public_meeting'].fillna(value='Unknown',inplace=True)"
   ]
  },
  {
   "cell_type": "markdown",
   "metadata": {},
   "source": [
    "#### scheme_management\n",
    "In this feature there is already a group called 'Other'. We will imput all the missing data to this group."
   ]
  },
  {
   "cell_type": "code",
   "execution_count": 51,
   "metadata": {},
   "outputs": [],
   "source": [
    "df_train['scheme_management'].fillna(value='Other',inplace=True)\n",
    "df_test['scheme_management'].fillna(value='Other',inplace=True)"
   ]
  },
  {
   "cell_type": "markdown",
   "metadata": {},
   "source": [
    "#### permit"
   ]
  },
  {
   "cell_type": "code",
   "execution_count": 52,
   "metadata": {},
   "outputs": [
    {
     "name": "stdout",
     "output_type": "stream",
     "text": [
      "permit total:  59288\n",
      "permit Trues:  38778\n",
      "permit False:   17455\n",
      "permit NaNs :   3055\n"
     ]
    }
   ],
   "source": [
    "print('permit total: ',df_train.permit.shape[0])\n",
    "print('permit Trues: ',df_train.permit.sum())\n",
    "print('permit False:  ',df_train.permit.shape[0] - df_train.permit.sum() -df_train.permit.isnull().sum())\n",
    "print('permit NaNs :  ',df_train.permit.isnull().sum() )"
   ]
  },
  {
   "cell_type": "markdown",
   "metadata": {},
   "source": [
    "Muy parecido a public_meeting. Tenemos un 70% de datos True, y un 25% de False. Imputando los nans aqui con el mas repetido no me acaba de gustar. Crearemos un grupo nuevo: 'Unknown'."
   ]
  },
  {
   "cell_type": "code",
   "execution_count": 53,
   "metadata": {},
   "outputs": [],
   "source": [
    "df_train['permit'].fillna(value='Unknown',inplace=True)\n",
    "df_test['permit'].fillna(value='Unknown',inplace=True)"
   ]
  },
  {
   "cell_type": "markdown",
   "metadata": {},
   "source": [
    "## <font color='green'> Get Dummies </font>"
   ]
  },
  {
   "cell_type": "code",
   "execution_count": 54,
   "metadata": {},
   "outputs": [],
   "source": [
    "# Categorical data to Dummy\n",
    "cat_feats = df_train.dtypes[df_train.dtypes == \"object\"].index\n",
    "cat_feats_test = df_test.dtypes[df_test.dtypes == \"object\"].index"
   ]
  },
  {
   "cell_type": "code",
   "execution_count": 70,
   "metadata": {},
   "outputs": [
    {
     "data": {
      "text/plain": [
       "Index(['basin', 'region', 'lga', 'public_meeting', 'scheme_management',\n",
       "       'permit', 'extraction_type', 'extraction_type_group',\n",
       "       'extraction_type_class', 'management', 'management_group', 'payment',\n",
       "       'water_quality', 'quality_group', 'quantity', 'quantity_group',\n",
       "       'source', 'source_type', 'source_class', 'waterpoint_type',\n",
       "       'waterpoint_type_group', 'status_group'],\n",
       "      dtype='object')"
      ]
     },
     "execution_count": 70,
     "metadata": {},
     "output_type": "execute_result"
    }
   ],
   "source": [
    "cat_feats"
   ]
  },
  {
   "cell_type": "code",
   "execution_count": 71,
   "metadata": {},
   "outputs": [
    {
     "data": {
      "text/plain": [
       "Index(['basin', 'region', 'lga', 'public_meeting', 'scheme_management',\n",
       "       'permit', 'extraction_type', 'extraction_type_group',\n",
       "       'extraction_type_class', 'management', 'management_group', 'payment',\n",
       "       'water_quality', 'quality_group', 'quantity', 'quantity_group',\n",
       "       'source', 'source_type', 'source_class', 'waterpoint_type',\n",
       "       'waterpoint_type_group'],\n",
       "      dtype='object')"
      ]
     },
     "execution_count": 71,
     "metadata": {},
     "output_type": "execute_result"
    }
   ],
   "source": [
    "cat_feats_test"
   ]
  },
  {
   "cell_type": "code",
   "execution_count": 56,
   "metadata": {},
   "outputs": [
    {
     "data": {
      "text/html": [
       "<div>\n",
       "<style scoped>\n",
       "    .dataframe tbody tr th:only-of-type {\n",
       "        vertical-align: middle;\n",
       "    }\n",
       "\n",
       "    .dataframe tbody tr th {\n",
       "        vertical-align: top;\n",
       "    }\n",
       "\n",
       "    .dataframe thead th {\n",
       "        text-align: right;\n",
       "    }\n",
       "</style>\n",
       "<table border=\"1\" class=\"dataframe\">\n",
       "  <thead>\n",
       "    <tr style=\"text-align: right;\">\n",
       "      <th></th>\n",
       "      <th>basin</th>\n",
       "      <th>region</th>\n",
       "      <th>lga</th>\n",
       "      <th>public_meeting</th>\n",
       "      <th>scheme_management</th>\n",
       "      <th>permit</th>\n",
       "      <th>extraction_type</th>\n",
       "      <th>extraction_type_group</th>\n",
       "      <th>extraction_type_class</th>\n",
       "      <th>management</th>\n",
       "      <th>management_group</th>\n",
       "      <th>payment</th>\n",
       "      <th>water_quality</th>\n",
       "      <th>quality_group</th>\n",
       "      <th>quantity</th>\n",
       "      <th>quantity_group</th>\n",
       "      <th>source</th>\n",
       "      <th>source_type</th>\n",
       "      <th>source_class</th>\n",
       "      <th>waterpoint_type</th>\n",
       "      <th>waterpoint_type_group</th>\n",
       "      <th>status_group</th>\n",
       "    </tr>\n",
       "  </thead>\n",
       "  <tbody>\n",
       "    <tr>\n",
       "      <th>0</th>\n",
       "      <td>Lake Nyasa</td>\n",
       "      <td>Iringa</td>\n",
       "      <td>Ludewa</td>\n",
       "      <td>True</td>\n",
       "      <td>VWC</td>\n",
       "      <td>False</td>\n",
       "      <td>gravity</td>\n",
       "      <td>gravity</td>\n",
       "      <td>gravity</td>\n",
       "      <td>vwc</td>\n",
       "      <td>user-group</td>\n",
       "      <td>pay annually</td>\n",
       "      <td>soft</td>\n",
       "      <td>good</td>\n",
       "      <td>enough</td>\n",
       "      <td>enough</td>\n",
       "      <td>spring</td>\n",
       "      <td>spring</td>\n",
       "      <td>groundwater</td>\n",
       "      <td>communal standpipe</td>\n",
       "      <td>communal standpipe</td>\n",
       "      <td>functional</td>\n",
       "    </tr>\n",
       "    <tr>\n",
       "      <th>1</th>\n",
       "      <td>Lake Victoria</td>\n",
       "      <td>Mara</td>\n",
       "      <td>Serengeti</td>\n",
       "      <td>Unknown</td>\n",
       "      <td>Other</td>\n",
       "      <td>True</td>\n",
       "      <td>gravity</td>\n",
       "      <td>gravity</td>\n",
       "      <td>gravity</td>\n",
       "      <td>wug</td>\n",
       "      <td>user-group</td>\n",
       "      <td>never pay</td>\n",
       "      <td>soft</td>\n",
       "      <td>good</td>\n",
       "      <td>insufficient</td>\n",
       "      <td>insufficient</td>\n",
       "      <td>rainwater harvesting</td>\n",
       "      <td>rainwater harvesting</td>\n",
       "      <td>surface</td>\n",
       "      <td>communal standpipe</td>\n",
       "      <td>communal standpipe</td>\n",
       "      <td>functional</td>\n",
       "    </tr>\n",
       "    <tr>\n",
       "      <th>2</th>\n",
       "      <td>Pangani</td>\n",
       "      <td>Manyara</td>\n",
       "      <td>Simanjiro</td>\n",
       "      <td>True</td>\n",
       "      <td>VWC</td>\n",
       "      <td>True</td>\n",
       "      <td>gravity</td>\n",
       "      <td>gravity</td>\n",
       "      <td>gravity</td>\n",
       "      <td>vwc</td>\n",
       "      <td>user-group</td>\n",
       "      <td>pay per bucket</td>\n",
       "      <td>soft</td>\n",
       "      <td>good</td>\n",
       "      <td>enough</td>\n",
       "      <td>enough</td>\n",
       "      <td>dam</td>\n",
       "      <td>dam</td>\n",
       "      <td>surface</td>\n",
       "      <td>communal standpipe multiple</td>\n",
       "      <td>communal standpipe</td>\n",
       "      <td>functional</td>\n",
       "    </tr>\n",
       "    <tr>\n",
       "      <th>3</th>\n",
       "      <td>Ruvuma / Southern Coast</td>\n",
       "      <td>Mtwara</td>\n",
       "      <td>Nanyumbu</td>\n",
       "      <td>True</td>\n",
       "      <td>VWC</td>\n",
       "      <td>True</td>\n",
       "      <td>submersible</td>\n",
       "      <td>submersible</td>\n",
       "      <td>submersible</td>\n",
       "      <td>vwc</td>\n",
       "      <td>user-group</td>\n",
       "      <td>never pay</td>\n",
       "      <td>soft</td>\n",
       "      <td>good</td>\n",
       "      <td>dry</td>\n",
       "      <td>dry</td>\n",
       "      <td>machine dbh</td>\n",
       "      <td>borehole</td>\n",
       "      <td>groundwater</td>\n",
       "      <td>communal standpipe multiple</td>\n",
       "      <td>communal standpipe</td>\n",
       "      <td>non functional</td>\n",
       "    </tr>\n",
       "    <tr>\n",
       "      <th>4</th>\n",
       "      <td>Lake Victoria</td>\n",
       "      <td>Kagera</td>\n",
       "      <td>Karagwe</td>\n",
       "      <td>True</td>\n",
       "      <td>Other</td>\n",
       "      <td>True</td>\n",
       "      <td>gravity</td>\n",
       "      <td>gravity</td>\n",
       "      <td>gravity</td>\n",
       "      <td>other</td>\n",
       "      <td>other</td>\n",
       "      <td>never pay</td>\n",
       "      <td>soft</td>\n",
       "      <td>good</td>\n",
       "      <td>seasonal</td>\n",
       "      <td>seasonal</td>\n",
       "      <td>rainwater harvesting</td>\n",
       "      <td>rainwater harvesting</td>\n",
       "      <td>surface</td>\n",
       "      <td>communal standpipe</td>\n",
       "      <td>communal standpipe</td>\n",
       "      <td>functional</td>\n",
       "    </tr>\n",
       "  </tbody>\n",
       "</table>\n",
       "</div>"
      ],
      "text/plain": [
       "                     basin   region        lga public_meeting  \\\n",
       "0               Lake Nyasa   Iringa     Ludewa           True   \n",
       "1            Lake Victoria     Mara  Serengeti        Unknown   \n",
       "2                  Pangani  Manyara  Simanjiro           True   \n",
       "3  Ruvuma / Southern Coast   Mtwara   Nanyumbu           True   \n",
       "4            Lake Victoria   Kagera    Karagwe           True   \n",
       "\n",
       "  scheme_management permit extraction_type extraction_type_group  \\\n",
       "0               VWC  False         gravity               gravity   \n",
       "1             Other   True         gravity               gravity   \n",
       "2               VWC   True         gravity               gravity   \n",
       "3               VWC   True     submersible           submersible   \n",
       "4             Other   True         gravity               gravity   \n",
       "\n",
       "  extraction_type_class management management_group         payment  \\\n",
       "0               gravity        vwc       user-group    pay annually   \n",
       "1               gravity        wug       user-group       never pay   \n",
       "2               gravity        vwc       user-group  pay per bucket   \n",
       "3           submersible        vwc       user-group       never pay   \n",
       "4               gravity      other            other       never pay   \n",
       "\n",
       "  water_quality quality_group      quantity quantity_group  \\\n",
       "0          soft          good        enough         enough   \n",
       "1          soft          good  insufficient   insufficient   \n",
       "2          soft          good        enough         enough   \n",
       "3          soft          good           dry            dry   \n",
       "4          soft          good      seasonal       seasonal   \n",
       "\n",
       "                 source           source_type source_class  \\\n",
       "0                spring                spring  groundwater   \n",
       "1  rainwater harvesting  rainwater harvesting      surface   \n",
       "2                   dam                   dam      surface   \n",
       "3           machine dbh              borehole  groundwater   \n",
       "4  rainwater harvesting  rainwater harvesting      surface   \n",
       "\n",
       "               waterpoint_type waterpoint_type_group    status_group  \n",
       "0           communal standpipe    communal standpipe      functional  \n",
       "1           communal standpipe    communal standpipe      functional  \n",
       "2  communal standpipe multiple    communal standpipe      functional  \n",
       "3  communal standpipe multiple    communal standpipe  non functional  \n",
       "4           communal standpipe    communal standpipe      functional  "
      ]
     },
     "execution_count": 56,
     "metadata": {},
     "output_type": "execute_result"
    }
   ],
   "source": [
    "pd.set_option('display.max_columns', 500)\n",
    "df_train[cat_feats].head()"
   ]
  },
  {
   "cell_type": "code",
   "execution_count": 67,
   "metadata": {},
   "outputs": [],
   "source": [
    "df_cat_D = pd.get_dummies(df_train[cat_feats],dummy_na=False, drop_first=True)\n",
    "df_cat_D_test = pd.get_dummies(df_test[cat_feats_test],dummy_na=False, drop_first=True)\n",
    "\n",
    "df_cat_D.drop(columns=['status_group_functional needs repair', 'status_group_non functional'],inplace=True)"
   ]
  },
  {
   "cell_type": "code",
   "execution_count": 69,
   "metadata": {},
   "outputs": [
    {
     "name": "stdout",
     "output_type": "stream",
     "text": [
      "(59288, 271)\n",
      "(14850, 269)\n"
     ]
    }
   ],
   "source": [
    "print (df_cat_D.shape)\n",
    "print (df_cat_D_test.shape)"
   ]
  },
  {
   "cell_type": "markdown",
   "metadata": {},
   "source": [
    "## <font color='red'> ens falta alguna feature al test!!!!!! te pinta que ha de ser algunas catgeires </font>"
   ]
  },
  {
   "cell_type": "code",
   "execution_count": null,
   "metadata": {},
   "outputs": [],
   "source": []
  },
  {
   "cell_type": "code",
   "execution_count": null,
   "metadata": {},
   "outputs": [],
   "source": []
  },
  {
   "cell_type": "code",
   "execution_count": null,
   "metadata": {},
   "outputs": [],
   "source": []
  },
  {
   "cell_type": "code",
   "execution_count": null,
   "metadata": {},
   "outputs": [],
   "source": []
  },
  {
   "cell_type": "code",
   "execution_count": 64,
   "metadata": {},
   "outputs": [
    {
     "data": {
      "text/plain": [
       "Index(['basin_Lake Nyasa', 'basin_Lake Rukwa', 'basin_Lake Tanganyika',\n",
       "       'basin_Lake Victoria', 'basin_Pangani', 'basin_Rufiji',\n",
       "       'basin_Ruvuma / Southern Coast', 'basin_Wami / Ruvu',\n",
       "       'region_Dar es Salaam', 'region_Dodoma',\n",
       "       ...\n",
       "       'waterpoint_type_hand pump', 'waterpoint_type_improved spring',\n",
       "       'waterpoint_type_other', 'waterpoint_type_group_communal standpipe',\n",
       "       'waterpoint_type_group_dam', 'waterpoint_type_group_hand pump',\n",
       "       'waterpoint_type_group_improved spring', 'waterpoint_type_group_other',\n",
       "       'status_group_functional needs repair', 'status_group_non functional'],\n",
       "      dtype='object', length=273)"
      ]
     },
     "execution_count": 64,
     "metadata": {},
     "output_type": "execute_result"
    }
   ],
   "source": [
    "df_cat_D.columns"
   ]
  },
  {
   "cell_type": "markdown",
   "metadata": {},
   "source": [
    "## <font color='green'> Standarization </font>"
   ]
  },
  {
   "cell_type": "code",
   "execution_count": 62,
   "metadata": {},
   "outputs": [],
   "source": [
    "num_feats = df_train.dtypes[df_train.dtypes != \"object\"].index\n",
    "num_feats_test = df_test.dtypes[df_test.dtypes != \"object\"].index"
   ]
  },
  {
   "cell_type": "code",
   "execution_count": 63,
   "metadata": {},
   "outputs": [
    {
     "data": {
      "text/plain": [
       "Index(['amount_tsh', 'gps_height', 'region_code', 'district_code',\n",
       "       'population', 'age_well_bin'],\n",
       "      dtype='object')"
      ]
     },
     "execution_count": 63,
     "metadata": {},
     "output_type": "execute_result"
    }
   ],
   "source": [
    "num_feats"
   ]
  },
  {
   "cell_type": "code",
   "execution_count": null,
   "metadata": {},
   "outputs": [],
   "source": []
  }
 ],
 "metadata": {
  "kernelspec": {
   "display_name": "Python 3",
   "language": "python",
   "name": "python3"
  },
  "language_info": {
   "codemirror_mode": {
    "name": "ipython",
    "version": 3
   },
   "file_extension": ".py",
   "mimetype": "text/x-python",
   "name": "python",
   "nbconvert_exporter": "python",
   "pygments_lexer": "ipython3",
   "version": "3.7.6"
  }
 },
 "nbformat": 4,
 "nbformat_minor": 4
}
